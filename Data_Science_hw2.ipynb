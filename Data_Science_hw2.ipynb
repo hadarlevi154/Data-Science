{
  "metadata": {
    "anaconda-cloud": {},
    "colab": {
      "provenance": []
    },
    "kernelspec": {
      "name": "python",
      "display_name": "Python (Pyodide)",
      "language": "python"
    },
    "language_info": {
      "codemirror_mode": {
        "name": "python",
        "version": 3
      },
      "file_extension": ".py",
      "mimetype": "text/x-python",
      "name": "python",
      "nbconvert_exporter": "python",
      "pygments_lexer": "ipython3",
      "version": "3.8"
    }
  },
  "nbformat_minor": 0,
  "nbformat": 4,
  "cells": [
    {
      "cell_type": "markdown",
      "source": [
        "Since the HW grading is done in a semi-automatic manner, please adhere to the following naming format for your submission.\n",
        "Each group of students (mostly pairs, with some approved exceptions) should submit a Jupyter notebook (.ipynb file and not a .zip file) whose name is the underscored-separated id list of all the submitters. \n",
        "For example, for two submitters, the naming format is: id1_id2.ipynb."
      ],
      "metadata": {
        "id": "AZZLMXg8mk13"
      }
    },
    {
      "cell_type": "markdown",
      "source": [
        "# Question 1"
      ],
      "metadata": {
        "id": "GQY12YnVmk2A"
      }
    },
    {
      "cell_type": "markdown",
      "source": [
        "a) Download the \"Boston1.csv\" database, and explore the data. Explanation about the dataset can be found here: http://www.clemson.edu/economics/faculty/wilson/R-tutorial/analyzing_data.html\n",
        "\n",
        "Find the columns with missing values and filter them out of the data."
      ],
      "metadata": {
        "id": "PH4BTHekmk2C"
      }
    },
    {
      "cell_type": "code",
      "source": [
        "import pandas as pd\n",
        "import numpy as np\n",
        "from IPython.display import display\n",
        "df = pd.read_csv(\"Boston1.csv\")\n",
        "\n",
        "print(\"Let's see the first 2 rows of the table so we can compare after filtering:\\n\");\n",
        "display(df.head(2))\n",
        "\n",
        "print (\"The Columns with missing values are:\")\n",
        "for col_lab in df.axes[1]:\n",
        "    if df[col_lab].isnull().any():\n",
        "        print(col_lab)\n",
        "        del df[col_lab]\n",
        "\n",
        "print(\"Let's see the first 2 rows now, after filtering:\\n\");\n",
        "display(df.head(2))\n",
        "print(\"As we can see, the right column is filtered out of the data.\")"
      ],
      "metadata": {
        "colab": {
          "base_uri": "https://localhost:8080/",
          "height": 392
        },
        "id": "DRh_LSllmk2E",
        "outputId": "1533f66d-e626-479e-b070-31ed06d89194",
        "tags": [],
        "trusted": true
      },
      "execution_count": 20,
      "outputs": [
        {
          "output_type": "stream",
          "name": "stdout",
          "text": [
            "Let's see the first 2 rows of the table so we can compare after filtering:\n",
            "\n"
          ]
        },
        {
          "output_type": "display_data",
          "data": {
            "text/plain": [
              "      crim    zn  indus  chas    nox     rm   age     dis  rad  tax  ptratio  \\\n",
              "0  0.00632  18.0   2.31     0  0.538  6.575  65.2  4.0900    1  296     15.3   \n",
              "1  0.02731   0.0   7.07     0  0.469  6.421  78.9  4.9671    2  242     17.8   \n",
              "\n",
              "   black  lstat  medv   randCol  misData  \n",
              "0  396.9   4.98  24.0  0.365395      NaN  \n",
              "1  396.9   9.14  21.6  0.424966      NaN  "
            ],
            "text/html": [
              "\n",
              "  <div id=\"df-80ed7f01-e66b-4699-9b0b-9ebf904699e8\">\n",
              "    <div class=\"colab-df-container\">\n",
              "      <div>\n",
              "<style scoped>\n",
              "    .dataframe tbody tr th:only-of-type {\n",
              "        vertical-align: middle;\n",
              "    }\n",
              "\n",
              "    .dataframe tbody tr th {\n",
              "        vertical-align: top;\n",
              "    }\n",
              "\n",
              "    .dataframe thead th {\n",
              "        text-align: right;\n",
              "    }\n",
              "</style>\n",
              "<table border=\"1\" class=\"dataframe\">\n",
              "  <thead>\n",
              "    <tr style=\"text-align: right;\">\n",
              "      <th></th>\n",
              "      <th>crim</th>\n",
              "      <th>zn</th>\n",
              "      <th>indus</th>\n",
              "      <th>chas</th>\n",
              "      <th>nox</th>\n",
              "      <th>rm</th>\n",
              "      <th>age</th>\n",
              "      <th>dis</th>\n",
              "      <th>rad</th>\n",
              "      <th>tax</th>\n",
              "      <th>ptratio</th>\n",
              "      <th>black</th>\n",
              "      <th>lstat</th>\n",
              "      <th>medv</th>\n",
              "      <th>randCol</th>\n",
              "      <th>misData</th>\n",
              "    </tr>\n",
              "  </thead>\n",
              "  <tbody>\n",
              "    <tr>\n",
              "      <th>0</th>\n",
              "      <td>0.00632</td>\n",
              "      <td>18.0</td>\n",
              "      <td>2.31</td>\n",
              "      <td>0</td>\n",
              "      <td>0.538</td>\n",
              "      <td>6.575</td>\n",
              "      <td>65.2</td>\n",
              "      <td>4.0900</td>\n",
              "      <td>1</td>\n",
              "      <td>296</td>\n",
              "      <td>15.3</td>\n",
              "      <td>396.9</td>\n",
              "      <td>4.98</td>\n",
              "      <td>24.0</td>\n",
              "      <td>0.365395</td>\n",
              "      <td>NaN</td>\n",
              "    </tr>\n",
              "    <tr>\n",
              "      <th>1</th>\n",
              "      <td>0.02731</td>\n",
              "      <td>0.0</td>\n",
              "      <td>7.07</td>\n",
              "      <td>0</td>\n",
              "      <td>0.469</td>\n",
              "      <td>6.421</td>\n",
              "      <td>78.9</td>\n",
              "      <td>4.9671</td>\n",
              "      <td>2</td>\n",
              "      <td>242</td>\n",
              "      <td>17.8</td>\n",
              "      <td>396.9</td>\n",
              "      <td>9.14</td>\n",
              "      <td>21.6</td>\n",
              "      <td>0.424966</td>\n",
              "      <td>NaN</td>\n",
              "    </tr>\n",
              "  </tbody>\n",
              "</table>\n",
              "</div>\n",
              "      <button class=\"colab-df-convert\" onclick=\"convertToInteractive('df-80ed7f01-e66b-4699-9b0b-9ebf904699e8')\"\n",
              "              title=\"Convert this dataframe to an interactive table.\"\n",
              "              style=\"display:none;\">\n",
              "        \n",
              "  <svg xmlns=\"http://www.w3.org/2000/svg\" height=\"24px\"viewBox=\"0 0 24 24\"\n",
              "       width=\"24px\">\n",
              "    <path d=\"M0 0h24v24H0V0z\" fill=\"none\"/>\n",
              "    <path d=\"M18.56 5.44l.94 2.06.94-2.06 2.06-.94-2.06-.94-.94-2.06-.94 2.06-2.06.94zm-11 1L8.5 8.5l.94-2.06 2.06-.94-2.06-.94L8.5 2.5l-.94 2.06-2.06.94zm10 10l.94 2.06.94-2.06 2.06-.94-2.06-.94-.94-2.06-.94 2.06-2.06.94z\"/><path d=\"M17.41 7.96l-1.37-1.37c-.4-.4-.92-.59-1.43-.59-.52 0-1.04.2-1.43.59L10.3 9.45l-7.72 7.72c-.78.78-.78 2.05 0 2.83L4 21.41c.39.39.9.59 1.41.59.51 0 1.02-.2 1.41-.59l7.78-7.78 2.81-2.81c.8-.78.8-2.07 0-2.86zM5.41 20L4 18.59l7.72-7.72 1.47 1.35L5.41 20z\"/>\n",
              "  </svg>\n",
              "      </button>\n",
              "      \n",
              "  <style>\n",
              "    .colab-df-container {\n",
              "      display:flex;\n",
              "      flex-wrap:wrap;\n",
              "      gap: 12px;\n",
              "    }\n",
              "\n",
              "    .colab-df-convert {\n",
              "      background-color: #E8F0FE;\n",
              "      border: none;\n",
              "      border-radius: 50%;\n",
              "      cursor: pointer;\n",
              "      display: none;\n",
              "      fill: #1967D2;\n",
              "      height: 32px;\n",
              "      padding: 0 0 0 0;\n",
              "      width: 32px;\n",
              "    }\n",
              "\n",
              "    .colab-df-convert:hover {\n",
              "      background-color: #E2EBFA;\n",
              "      box-shadow: 0px 1px 2px rgba(60, 64, 67, 0.3), 0px 1px 3px 1px rgba(60, 64, 67, 0.15);\n",
              "      fill: #174EA6;\n",
              "    }\n",
              "\n",
              "    [theme=dark] .colab-df-convert {\n",
              "      background-color: #3B4455;\n",
              "      fill: #D2E3FC;\n",
              "    }\n",
              "\n",
              "    [theme=dark] .colab-df-convert:hover {\n",
              "      background-color: #434B5C;\n",
              "      box-shadow: 0px 1px 3px 1px rgba(0, 0, 0, 0.15);\n",
              "      filter: drop-shadow(0px 1px 2px rgba(0, 0, 0, 0.3));\n",
              "      fill: #FFFFFF;\n",
              "    }\n",
              "  </style>\n",
              "\n",
              "      <script>\n",
              "        const buttonEl =\n",
              "          document.querySelector('#df-80ed7f01-e66b-4699-9b0b-9ebf904699e8 button.colab-df-convert');\n",
              "        buttonEl.style.display =\n",
              "          google.colab.kernel.accessAllowed ? 'block' : 'none';\n",
              "\n",
              "        async function convertToInteractive(key) {\n",
              "          const element = document.querySelector('#df-80ed7f01-e66b-4699-9b0b-9ebf904699e8');\n",
              "          const dataTable =\n",
              "            await google.colab.kernel.invokeFunction('convertToInteractive',\n",
              "                                                     [key], {});\n",
              "          if (!dataTable) return;\n",
              "\n",
              "          const docLinkHtml = 'Like what you see? Visit the ' +\n",
              "            '<a target=\"_blank\" href=https://colab.research.google.com/notebooks/data_table.ipynb>data table notebook</a>'\n",
              "            + ' to learn more about interactive tables.';\n",
              "          element.innerHTML = '';\n",
              "          dataTable['output_type'] = 'display_data';\n",
              "          await google.colab.output.renderOutput(dataTable, element);\n",
              "          const docLink = document.createElement('div');\n",
              "          docLink.innerHTML = docLinkHtml;\n",
              "          element.appendChild(docLink);\n",
              "        }\n",
              "      </script>\n",
              "    </div>\n",
              "  </div>\n",
              "  "
            ]
          },
          "metadata": {}
        },
        {
          "output_type": "stream",
          "name": "stdout",
          "text": [
            "The Columns with missing values are:\n",
            "misData\n",
            "Let's see the first 2 rows now, after filtering:\n",
            "\n"
          ]
        },
        {
          "output_type": "display_data",
          "data": {
            "text/plain": [
              "      crim    zn  indus  chas    nox     rm   age     dis  rad  tax  ptratio  \\\n",
              "0  0.00632  18.0   2.31     0  0.538  6.575  65.2  4.0900    1  296     15.3   \n",
              "1  0.02731   0.0   7.07     0  0.469  6.421  78.9  4.9671    2  242     17.8   \n",
              "\n",
              "   black  lstat  medv   randCol  \n",
              "0  396.9   4.98  24.0  0.365395  \n",
              "1  396.9   9.14  21.6  0.424966  "
            ],
            "text/html": [
              "\n",
              "  <div id=\"df-5db13934-a1ed-470d-838c-30bfd28987c2\">\n",
              "    <div class=\"colab-df-container\">\n",
              "      <div>\n",
              "<style scoped>\n",
              "    .dataframe tbody tr th:only-of-type {\n",
              "        vertical-align: middle;\n",
              "    }\n",
              "\n",
              "    .dataframe tbody tr th {\n",
              "        vertical-align: top;\n",
              "    }\n",
              "\n",
              "    .dataframe thead th {\n",
              "        text-align: right;\n",
              "    }\n",
              "</style>\n",
              "<table border=\"1\" class=\"dataframe\">\n",
              "  <thead>\n",
              "    <tr style=\"text-align: right;\">\n",
              "      <th></th>\n",
              "      <th>crim</th>\n",
              "      <th>zn</th>\n",
              "      <th>indus</th>\n",
              "      <th>chas</th>\n",
              "      <th>nox</th>\n",
              "      <th>rm</th>\n",
              "      <th>age</th>\n",
              "      <th>dis</th>\n",
              "      <th>rad</th>\n",
              "      <th>tax</th>\n",
              "      <th>ptratio</th>\n",
              "      <th>black</th>\n",
              "      <th>lstat</th>\n",
              "      <th>medv</th>\n",
              "      <th>randCol</th>\n",
              "    </tr>\n",
              "  </thead>\n",
              "  <tbody>\n",
              "    <tr>\n",
              "      <th>0</th>\n",
              "      <td>0.00632</td>\n",
              "      <td>18.0</td>\n",
              "      <td>2.31</td>\n",
              "      <td>0</td>\n",
              "      <td>0.538</td>\n",
              "      <td>6.575</td>\n",
              "      <td>65.2</td>\n",
              "      <td>4.0900</td>\n",
              "      <td>1</td>\n",
              "      <td>296</td>\n",
              "      <td>15.3</td>\n",
              "      <td>396.9</td>\n",
              "      <td>4.98</td>\n",
              "      <td>24.0</td>\n",
              "      <td>0.365395</td>\n",
              "    </tr>\n",
              "    <tr>\n",
              "      <th>1</th>\n",
              "      <td>0.02731</td>\n",
              "      <td>0.0</td>\n",
              "      <td>7.07</td>\n",
              "      <td>0</td>\n",
              "      <td>0.469</td>\n",
              "      <td>6.421</td>\n",
              "      <td>78.9</td>\n",
              "      <td>4.9671</td>\n",
              "      <td>2</td>\n",
              "      <td>242</td>\n",
              "      <td>17.8</td>\n",
              "      <td>396.9</td>\n",
              "      <td>9.14</td>\n",
              "      <td>21.6</td>\n",
              "      <td>0.424966</td>\n",
              "    </tr>\n",
              "  </tbody>\n",
              "</table>\n",
              "</div>\n",
              "      <button class=\"colab-df-convert\" onclick=\"convertToInteractive('df-5db13934-a1ed-470d-838c-30bfd28987c2')\"\n",
              "              title=\"Convert this dataframe to an interactive table.\"\n",
              "              style=\"display:none;\">\n",
              "        \n",
              "  <svg xmlns=\"http://www.w3.org/2000/svg\" height=\"24px\"viewBox=\"0 0 24 24\"\n",
              "       width=\"24px\">\n",
              "    <path d=\"M0 0h24v24H0V0z\" fill=\"none\"/>\n",
              "    <path d=\"M18.56 5.44l.94 2.06.94-2.06 2.06-.94-2.06-.94-.94-2.06-.94 2.06-2.06.94zm-11 1L8.5 8.5l.94-2.06 2.06-.94-2.06-.94L8.5 2.5l-.94 2.06-2.06.94zm10 10l.94 2.06.94-2.06 2.06-.94-2.06-.94-.94-2.06-.94 2.06-2.06.94z\"/><path d=\"M17.41 7.96l-1.37-1.37c-.4-.4-.92-.59-1.43-.59-.52 0-1.04.2-1.43.59L10.3 9.45l-7.72 7.72c-.78.78-.78 2.05 0 2.83L4 21.41c.39.39.9.59 1.41.59.51 0 1.02-.2 1.41-.59l7.78-7.78 2.81-2.81c.8-.78.8-2.07 0-2.86zM5.41 20L4 18.59l7.72-7.72 1.47 1.35L5.41 20z\"/>\n",
              "  </svg>\n",
              "      </button>\n",
              "      \n",
              "  <style>\n",
              "    .colab-df-container {\n",
              "      display:flex;\n",
              "      flex-wrap:wrap;\n",
              "      gap: 12px;\n",
              "    }\n",
              "\n",
              "    .colab-df-convert {\n",
              "      background-color: #E8F0FE;\n",
              "      border: none;\n",
              "      border-radius: 50%;\n",
              "      cursor: pointer;\n",
              "      display: none;\n",
              "      fill: #1967D2;\n",
              "      height: 32px;\n",
              "      padding: 0 0 0 0;\n",
              "      width: 32px;\n",
              "    }\n",
              "\n",
              "    .colab-df-convert:hover {\n",
              "      background-color: #E2EBFA;\n",
              "      box-shadow: 0px 1px 2px rgba(60, 64, 67, 0.3), 0px 1px 3px 1px rgba(60, 64, 67, 0.15);\n",
              "      fill: #174EA6;\n",
              "    }\n",
              "\n",
              "    [theme=dark] .colab-df-convert {\n",
              "      background-color: #3B4455;\n",
              "      fill: #D2E3FC;\n",
              "    }\n",
              "\n",
              "    [theme=dark] .colab-df-convert:hover {\n",
              "      background-color: #434B5C;\n",
              "      box-shadow: 0px 1px 3px 1px rgba(0, 0, 0, 0.15);\n",
              "      filter: drop-shadow(0px 1px 2px rgba(0, 0, 0, 0.3));\n",
              "      fill: #FFFFFF;\n",
              "    }\n",
              "  </style>\n",
              "\n",
              "      <script>\n",
              "        const buttonEl =\n",
              "          document.querySelector('#df-5db13934-a1ed-470d-838c-30bfd28987c2 button.colab-df-convert');\n",
              "        buttonEl.style.display =\n",
              "          google.colab.kernel.accessAllowed ? 'block' : 'none';\n",
              "\n",
              "        async function convertToInteractive(key) {\n",
              "          const element = document.querySelector('#df-5db13934-a1ed-470d-838c-30bfd28987c2');\n",
              "          const dataTable =\n",
              "            await google.colab.kernel.invokeFunction('convertToInteractive',\n",
              "                                                     [key], {});\n",
              "          if (!dataTable) return;\n",
              "\n",
              "          const docLinkHtml = 'Like what you see? Visit the ' +\n",
              "            '<a target=\"_blank\" href=https://colab.research.google.com/notebooks/data_table.ipynb>data table notebook</a>'\n",
              "            + ' to learn more about interactive tables.';\n",
              "          element.innerHTML = '';\n",
              "          dataTable['output_type'] = 'display_data';\n",
              "          await google.colab.output.renderOutput(dataTable, element);\n",
              "          const docLink = document.createElement('div');\n",
              "          docLink.innerHTML = docLinkHtml;\n",
              "          element.appendChild(docLink);\n",
              "        }\n",
              "      </script>\n",
              "    </div>\n",
              "  </div>\n",
              "  "
            ]
          },
          "metadata": {}
        },
        {
          "output_type": "stream",
          "name": "stdout",
          "text": [
            "As we can see, the right column is filtered out of the data.\n"
          ]
        }
      ]
    },
    {
      "cell_type": "markdown",
      "source": [
        "b) Divide the filtered data randomly into a train set (70% of the data) and test set (30% of the data)."
      ],
      "metadata": {
        "id": "-tYsR-3wmk2G"
      }
    },
    {
      "cell_type": "code",
      "source": [
        "train = df.sample(frac=0.7)\n",
        "test = df.drop(train.index)\n",
        "\n",
        "print (\"Train (in %): \",train.shape[0]/df.shape[0])\n",
        "print (\"Test (in %): \",test.shape[0]/df.shape[0])\n"
      ],
      "metadata": {
        "colab": {
          "base_uri": "https://localhost:8080/"
        },
        "id": "z-8nEcFfmk2H",
        "outputId": "617a9c30-a25b-4b13-b645-791b63bb2cd0",
        "tags": [],
        "trusted": true
      },
      "execution_count": 21,
      "outputs": [
        {
          "output_type": "stream",
          "name": "stdout",
          "text": [
            "Train (in %):  0.6996047430830039\n",
            "Test (in %):  0.30039525691699603\n"
          ]
        }
      ]
    },
    {
      "cell_type": "markdown",
      "source": [
        "# Question 2"
      ],
      "metadata": {
        "id": "wYYQU7xemk2I"
      }
    },
    {
      "cell_type": "markdown",
      "source": [
        "If you haven't done this previously, install the scikit-learn package for python.\n",
        "\n",
        "a) On the train set, run a linear regression model as follows:\n",
        "Divide the training set into explanatory variables (the X matrix with which we'll try to make a prediction) and a target variable (y, the value which we'll try to predict). Use the 'medv' attribute as the target variable y and the rest of the features as the X matrix. Run a linear regression model on those sets, and print the regression coefficients. "
      ],
      "metadata": {
        "id": "vflVJEypmk2J"
      }
    },
    {
      "cell_type": "code",
      "source": [
        "from IPython.display import display\n",
        "import matplotlib as mpl\n",
        "from sklearn.linear_model import LinearRegression\n",
        "\n",
        "mdl = LinearRegression()\n",
        "train_x = train.drop(['medv'],axis=1)\n",
        "train_y = train['medv']\n",
        "mdl.fit(train_x,train_y)\n",
        "\n",
        "print(\"The regression coefficients are: \\n\")\n",
        "i=0;\n",
        "for col_lab in train_x.axes[1]:\n",
        "    print(col_lab,\":\",mdl.coef_[i])\n",
        "    i = i+1"
      ],
      "metadata": {
        "colab": {
          "base_uri": "https://localhost:8080/"
        },
        "id": "DTd9YvAXmk2K",
        "outputId": "f30d69d6-5e87-4592-d571-f0cb1970d055",
        "tags": [],
        "trusted": true
      },
      "execution_count": 22,
      "outputs": [
        {
          "output_type": "stream",
          "name": "stdout",
          "text": [
            "The regression coefficients are: \n",
            "\n",
            "crim : -0.10138597999526562\n",
            "zn : 0.039934453286959964\n",
            "indus : 0.04212590152038972\n",
            "chas : 0.7883789506415501\n",
            "nox : -20.45045098199675\n",
            "rm : 3.2520242249626565\n",
            "age : 0.009990924111772229\n",
            "dis : -1.5770778502982925\n",
            "rad : 0.2969062823557452\n",
            "tax : -0.011530701484062392\n",
            "ptratio : -1.162045699376542\n",
            "black : 0.009734297749710477\n",
            "lstat : -0.5513277058468775\n",
            "randCol : 0.768865952289932\n"
          ]
        }
      ]
    },
    {
      "cell_type": "markdown",
      "source": [
        "b) Use the linear regression model to predict the values of the test set's 'medv' column, based on the test set's other attributes. Print the Mean Squared Error of the model on the train set and on the test set.\n",
        "Usually, the MSE on the train set would be lower than the MSE on the test set, since the model parameters are optimized with respect to the train set. Must this always be the case? Can you think of a few examples for when this might not be the case?"
      ],
      "metadata": {
        "id": "egH4kfDsmk2M"
      }
    },
    {
      "cell_type": "code",
      "source": [
        "from sklearn.metrics import mean_squared_error as mse\n",
        "\n",
        "test_x = test.drop(['medv'],axis=1)\n",
        "test_y = test['medv']\n",
        "predicted_y_train = mdl.predict(train_x)\n",
        "predicted_y_test = mdl.predict(test_x)\n",
        "\n",
        "print(\"Train MSE:\",mse(predicted_y_train, train_y))\n",
        "print(\"Test MSE:\",mse(predicted_y_test, test_y))\n",
        "\n",
        "print(\"\")\n",
        "print(\"Usually, the MSE on the train set would be lower than the MSE on the test set,\")\n",
        "print(\"but it's not always the case.\")\n",
        "print(\"for example, if we have a lot of outliers in the train set, and none of them in the test set,\") \n",
        "print(\"it is possible that the model will have a lower MSE in the test set then on the train set.\")"
      ],
      "metadata": {
        "colab": {
          "base_uri": "https://localhost:8080/"
        },
        "id": "ilPrWPcgmk2O",
        "outputId": "6933c812-7ef8-4d8d-f0b2-b3b4d60f11bd",
        "tags": [],
        "trusted": true
      },
      "execution_count": 23,
      "outputs": [
        {
          "output_type": "stream",
          "name": "stdout",
          "text": [
            "Train MSE: 22.100522148749913\n",
            "Test MSE: 23.365101442593126\n",
            "\n",
            "Usually, the MSE on the train set would be lower than the MSE on the test set,\n",
            "but it's not always the case.\n",
            "for example, if we have a lot of outliers in the train set, and none of them in the test set,\n",
            "it is possible that the model will have a lower MSE in the test set then on the train set.\n"
          ]
        }
      ]
    },
    {
      "cell_type": "markdown",
      "source": [
        "c) Add some noise (with mean=0, std=1) to the test set's y, and predict it again. What happened to the MSE? Why?"
      ],
      "metadata": {
        "id": "WiYfSw0Tmk2P"
      }
    },
    {
      "cell_type": "code",
      "source": [
        "noise = np.random.normal(0, 1, len(test_y.index))\n",
        "noised_test_y = test_y + noise\n",
        "print(\"Test MSE:\",mse(predicted_y_test, noised_test_y))\n",
        "\n",
        "print(\"\")\n",
        "print(\"the MSE is now a little bit higher,\")\n",
        "print(\"because the noise adds randomnass to the target value, \")\n",
        "print(\"hurting the correlation between them and the features.\")"
      ],
      "metadata": {
        "colab": {
          "base_uri": "https://localhost:8080/"
        },
        "id": "m7Ueb0ak4Kwu",
        "outputId": "038c04dd-dbe6-46fb-cc95-c28b0217475b",
        "trusted": true
      },
      "execution_count": 24,
      "outputs": [
        {
          "output_type": "stream",
          "name": "stdout",
          "text": [
            "Test MSE: 23.915548269179364\n",
            "\n",
            "the MSE is now a little bit higher,\n",
            "because the noise adds randomnass to the target value, \n",
            "hurting the correlation between them and the features.\n"
          ]
        }
      ]
    },
    {
      "cell_type": "markdown",
      "source": [
        "# Question 3"
      ],
      "metadata": {
        "id": "s6rGJnf-mk2R"
      }
    },
    {
      "cell_type": "markdown",
      "source": [
        "a) Create a Recursive feature elimination model, with a linear regression estimator, that selects half of the original number of features. Hint: Check the feature_selection module in scikit-learn."
      ],
      "metadata": {
        "id": "I1vxh6shmk2S"
      }
    },
    {
      "cell_type": "code",
      "source": [
        "from sklearn.feature_selection import RFE\n",
        "\n",
        "rfe = RFE(mdl)"
      ],
      "metadata": {
        "collapsed": true,
        "jupyter": {
          "outputs_hidden": true
        },
        "id": "Rkjjqjdtmk2T"
      },
      "execution_count": 25,
      "outputs": []
    },
    {
      "cell_type": "markdown",
      "source": [
        "b) Use the feature elimination model on the full database (after filtering columns with missing values, before partitioning into train/test). Print the features that were selected. Remember that we separate the 'medv' attribute to be our y, while the rest of the attributes in the dataset serve as features to learn from."
      ],
      "metadata": {
        "id": "57jUwwE-mk2V"
      }
    },
    {
      "cell_type": "code",
      "source": [
        "X = df.drop(['medv'],axis=1)\n",
        "y = df['medv']\n",
        "selected_model = rfe.fit(X,y)\n",
        "\n",
        "print(\"The features are:\")\n",
        "print(X.columns[selected_model.support_].to_numpy())"
      ],
      "metadata": {
        "collapsed": true,
        "jupyter": {
          "outputs_hidden": true
        },
        "colab": {
          "base_uri": "https://localhost:8080/"
        },
        "id": "56uUPllXmk2V",
        "outputId": "60d81ca9-dc75-4293-f905-9f1530fc8266"
      },
      "execution_count": 26,
      "outputs": [
        {
          "output_type": "stream",
          "name": "stdout",
          "text": [
            "The features are:\n",
            "['chas' 'nox' 'rm' 'dis' 'ptratio' 'lstat' 'randCol']\n"
          ]
        }
      ]
    },
    {
      "cell_type": "markdown",
      "source": [
        "c) We'd like to find out the optimal number of features. Create feature elimination models (with linear regression estimators) for every number of features between 1 and n (where n = all the original features, 'medv' excluded). For each number of features, run a linear regression as in Question 2, only on the selected features, in order to predict 'medv'. Print the Mean Sqaured Error for each number of features."
      ],
      "metadata": {
        "id": "-v0a9Oy-mk2W"
      }
    },
    {
      "cell_type": "code",
      "source": [
        "n=X.shape[1]\n",
        "mses = list()\n",
        "\n",
        "for i in range (1, n+1):\n",
        "    rfe_i = RFE(estimator=mdl,n_features_to_select=i)\n",
        "    selected_model = rfe_i.fit(X,y)\n",
        "    selected_features = (X.columns[selected_model.support_]).to_numpy()\n",
        "    selected_X = X.reindex(columns = selected_features)\n",
        "    mdl.fit(selected_X,y)\n",
        "    mse_i = mse(mdl.predict(selected_X),y)\n",
        "    print(\"MSE of\",i,\"selected features:\",mse_i)\n",
        "    mses.append(mse_i) "
      ],
      "metadata": {
        "collapsed": true,
        "jupyter": {
          "outputs_hidden": true
        },
        "colab": {
          "base_uri": "https://localhost:8080/"
        },
        "id": "0Qo7UMJomk2X",
        "outputId": "635564d3-4a41-42e2-f787-5c7c54af4461"
      },
      "execution_count": 27,
      "outputs": [
        {
          "output_type": "stream",
          "name": "stdout",
          "text": [
            "MSE of 1 selected features: 69.00428835540669\n",
            "MSE of 2 selected features: 39.21811674276104\n",
            "MSE of 3 selected features: 37.518269887684575\n",
            "MSE of 4 selected features: 32.44694718149954\n",
            "MSE of 5 selected features: 30.929546079491566\n",
            "MSE of 6 selected features: 23.99421489307857\n",
            "MSE of 7 selected features: 23.988679676026152\n",
            "MSE of 8 selected features: 23.873140175553736\n",
            "MSE of 9 selected features: 23.344929674229807\n",
            "MSE of 10 selected features: 23.255560445416663\n",
            "MSE of 11 selected features: 22.930361610394424\n",
            "MSE of 12 selected features: 22.42502862441528\n",
            "MSE of 13 selected features: 21.880860827853045\n",
            "MSE of 14 selected features: 21.880721616729907\n"
          ]
        }
      ]
    },
    {
      "cell_type": "markdown",
      "source": [
        "d) Conclude the optimal number of features for this task. Think about the cost of adding for data vs the benefit of a more accurate prediction. Explain your answer."
      ],
      "metadata": {
        "id": "K84YIOphmk2Y"
      }
    },
    {
      "cell_type": "code",
      "source": [
        "import matplotlib.pyplot as plt\n",
        "\n",
        "plt.scatter(range(1,n+1),mses)\n",
        "plt.xlabel('Number of used features')\n",
        "plt.ylabel('MSE')\n",
        "plt.show()\n",
        "\n",
        "print(\"We get a close approximation (\", mses[5]/mses[13], \"*OPT) to the optimal MSE with 6 features.\")\n"
      ],
      "metadata": {
        "collapsed": true,
        "jupyter": {
          "outputs_hidden": true
        },
        "colab": {
          "base_uri": "https://localhost:8080/",
          "height": 466
        },
        "id": "b0MN5092mk2Z",
        "outputId": "42e72782-e1c4-4689-990a-99a512141c63"
      },
      "execution_count": 28,
      "outputs": [
        {
          "output_type": "display_data",
          "data": {
            "text/plain": [
              "<Figure size 640x480 with 1 Axes>"
            ],
            "image/png": "[encoded data removed]"
          },
          "metadata": {}
        },
        {
          "output_type": "stream",
          "name": "stdout",
          "text": [
            "We get a close approximation ( 1.0965915710354222 *OPT) to the optimal MSE with 6 features.\n"
          ]
        }
      ]
    },
    {
      "cell_type": "markdown",
      "source": [
        "# Question 4"
      ],
      "metadata": {
        "id": "9n-rf0MZmk2c"
      }
    },
    {
      "cell_type": "markdown",
      "source": [
        "Perform a cross-validation of the linear regression on the train set with K=5. Print the CV scores for each repeat."
      ],
      "metadata": {
        "id": "YRsWN6bBmk2e"
      }
    },
    {
      "cell_type": "code",
      "source": [
        "from sklearn.model_selection import cross_val_score\n",
        "\n",
        "print(cross_val_score(mdl, train_x, train_y, cv=5))"
      ],
      "metadata": {
        "collapsed": true,
        "jupyter": {
          "outputs_hidden": true
        },
        "colab": {
          "base_uri": "https://localhost:8080/"
        },
        "id": "sK64CfgYmk2f",
        "outputId": "bc8a8fa6-70be-46c2-eb63-591936e5107c"
      },
      "execution_count": 29,
      "outputs": [
        {
          "output_type": "stream",
          "name": "stdout",
          "text": [
            "[0.74811568 0.67854664 0.63940723 0.58340984 0.74913715]\n"
          ]
        }
      ]
    }
  ]
}