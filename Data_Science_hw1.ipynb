{
  "cells": [
    {
      "cell_type": "markdown",
      "metadata": {
        "id": "qomnUAPccZWd"
      },
      "source": [
        "# Submission Guidelines:\n",
        "### Since the HW grading is done in a semi-automatic manner, please adhere to the following naming format for your submission. Each group of students (mostly pairs, with some approved exceptions) should submit a Jupyter notebook (.ipynb file and not a .zip file) whose name is the underscored-separated id list of all the submitters. For example, for two submitters, the naming format is: id1_id2.ipynb."
      ]
    },
    {
      "cell_type": "markdown",
      "metadata": {
        "id": "wnUz8F7LcZWf"
      },
      "source": [
        "# Data Understanding and Data Preparation Exercise\n",
        "### Courtesy of Intel Advanced Analytics\n",
        "\n"
      ]
    },
    {
      "cell_type": "markdown",
      "metadata": {
        "id": "PpI2iJ3tcZWf"
      },
      "source": [
        "In this exercise you will explore data that is related with direct marketing campaigns of a Portuguese banking institution. \n",
        "The marketing campaigns were based on phone calls. Often, more than one contact to the same client was required, \n",
        "in order to access if the product (bank term deposit) would be (or not) subscribed. \n",
        "\n",
        "Data source:\n",
        " [Moro et al., 2011] S. Moro, R. Laureano and P. Cortez. Using Data Mining for Bank Direct Marketing: An Application of the CRISP-DM Methodology. \n",
        " \n",
        "Good luck!"
      ]
    },
    {
      "cell_type": "markdown",
      "metadata": {
        "id": "poc_QZMEcZWf"
      },
      "source": [
        "# Q1\n"
      ]
    },
    {
      "cell_type": "markdown",
      "metadata": {
        "id": "wnsjPMVkcZWg"
      },
      "source": [
        "## Familiarizing yourself with the data"
      ]
    },
    {
      "cell_type": "markdown",
      "metadata": {
        "id": "4fL9u4AVcZWg"
      },
      "source": [
        "1) Download the 'bank-full_2016.csv' database to a local directory, and load it into a DataFrame object: http://slavanov.com/teaching/ds1617b/bank-full_2016.csv"
      ]
    },
    {
      "cell_type": "code",
      "execution_count": null,
      "metadata": {
        "id": "LEawZbJbcZWg",
        "tags": []
      },
      "outputs": [],
      "source": [
        "import sys\n",
        "import pandas as pd\n",
        "import numpy as np\n",
        "from IPython.display import display\n",
        "\n",
        "df = pd.read_csv(\"bank-full_2016.csv\")"
      ]
    },
    {
      "cell_type": "markdown",
      "metadata": {
        "id": "PNt3Bf7acZWg"
      },
      "source": [
        "2) Explore your data a bit:\n",
        "- What are the dimensions of the table?\n",
        "- What are the different attributes in it?\n",
        "- Return a frequency table of the \"outcome\" category in the table - i.e return all the possible values in that category, and how many times each value is present in the table.\n",
        "- Display the first 5 rows of the table."
      ]
    },
    {
      "cell_type": "code",
      "execution_count": null,
      "metadata": {
        "id": "ZNJL3EfNcZWh",
        "colab": {
          "base_uri": "https://localhost:8080/",
          "height": 529
        },
        "outputId": "bfa6b2ab-a8c6-45dc-e28a-43e568827cdd"
      },
      "outputs": [
        {
          "output_type": "stream",
          "name": "stdout",
          "text": [
            "Dimensions: (45211, 17) \n",
            "\n",
            "Attributes: ['age' 'job' 'marital' 'education' 'default_credit' 'balance'\n",
            " 'housing_loan' 'personal_loan' 'contact' 'day' 'month' 'duration'\n",
            " 'campaign' 'days_from_last_contact' 'previous_campaign_contacts'\n",
            " 'previous_campaign_outcome' 'outcome'] \n",
            "\n",
            "Frequency table of the outcome category: \n",
            "\n"
          ]
        },
        {
          "output_type": "display_data",
          "data": {
            "text/plain": [
              "  outcome  count\n",
              "0      no  39922\n",
              "1     yes   5289"
            ],
            "text/html": [
              "\n",
              "  <div id=\"df-aadbf055-89df-48ff-8294-322a54145eb8\">\n",
              "    <div class=\"colab-df-container\">\n",
              "      <div>\n",
              "<style scoped>\n",
              "    .dataframe tbody tr th:only-of-type {\n",
              "        vertical-align: middle;\n",
              "    }\n",
              "\n",
              "    .dataframe tbody tr th {\n",
              "        vertical-align: top;\n",
              "    }\n",
              "\n",
              "    .dataframe thead th {\n",
              "        text-align: right;\n",
              "    }\n",
              "</style>\n",
              "<table border=\"1\" class=\"dataframe\">\n",
              "  <thead>\n",
              "    <tr style=\"text-align: right;\">\n",
              "      <th></th>\n",
              "      <th>outcome</th>\n",
              "      <th>count</th>\n",
              "    </tr>\n",
              "  </thead>\n",
              "  <tbody>\n",
              "    <tr>\n",
              "      <th>0</th>\n",
              "      <td>no</td>\n",
              "      <td>39922</td>\n",
              "    </tr>\n",
              "    <tr>\n",
              "      <th>1</th>\n",
              "      <td>yes</td>\n",
              "      <td>5289</td>\n",
              "    </tr>\n",
              "  </tbody>\n",
              "</table>\n",
              "</div>\n",
              "      <button class=\"colab-df-convert\" onclick=\"convertToInteractive('df-aadbf055-89df-48ff-8294-322a54145eb8')\"\n",
              "              title=\"Convert this dataframe to an interactive table.\"\n",
              "              style=\"display:none;\">\n",
              "        \n",
              "  <svg xmlns=\"http://www.w3.org/2000/svg\" height=\"24px\"viewBox=\"0 0 24 24\"\n",
              "       width=\"24px\">\n",
              "    <path d=\"M0 0h24v24H0V0z\" fill=\"none\"/>\n",
              "    <path d=\"M18.56 5.44l.94 2.06.94-2.06 2.06-.94-2.06-.94-.94-2.06-.94 2.06-2.06.94zm-11 1L8.5 8.5l.94-2.06 2.06-.94-2.06-.94L8.5 2.5l-.94 2.06-2.06.94zm10 10l.94 2.06.94-2.06 2.06-.94-2.06-.94-.94-2.06-.94 2.06-2.06.94z\"/><path d=\"M17.41 7.96l-1.37-1.37c-.4-.4-.92-.59-1.43-.59-.52 0-1.04.2-1.43.59L10.3 9.45l-7.72 7.72c-.78.78-.78 2.05 0 2.83L4 21.41c.39.39.9.59 1.41.59.51 0 1.02-.2 1.41-.59l7.78-7.78 2.81-2.81c.8-.78.8-2.07 0-2.86zM5.41 20L4 18.59l7.72-7.72 1.47 1.35L5.41 20z\"/>\n",
              "  </svg>\n",
              "      </button>\n",
              "      \n",
              "  <style>\n",
              "    .colab-df-container {\n",
              "      display:flex;\n",
              "      flex-wrap:wrap;\n",
              "      gap: 12px;\n",
              "    }\n",
              "\n",
              "    .colab-df-convert {\n",
              "      background-color: #E8F0FE;\n",
              "      border: none;\n",
              "      border-radius: 50%;\n",
              "      cursor: pointer;\n",
              "      display: none;\n",
              "      fill: #1967D2;\n",
              "      height: 32px;\n",
              "      padding: 0 0 0 0;\n",
              "      width: 32px;\n",
              "    }\n",
              "\n",
              "    .colab-df-convert:hover {\n",
              "      background-color: #E2EBFA;\n",
              "      box-shadow: 0px 1px 2px rgba(60, 64, 67, 0.3), 0px 1px 3px 1px rgba(60, 64, 67, 0.15);\n",
              "      fill: #174EA6;\n",
              "    }\n",
              "\n",
              "    [theme=dark] .colab-df-convert {\n",
              "      background-color: #3B4455;\n",
              "      fill: #D2E3FC;\n",
              "    }\n",
              "\n",
              "    [theme=dark] .colab-df-convert:hover {\n",
              "      background-color: #434B5C;\n",
              "      box-shadow: 0px 1px 3px 1px rgba(0, 0, 0, 0.15);\n",
              "      filter: drop-shadow(0px 1px 2px rgba(0, 0, 0, 0.3));\n",
              "      fill: #FFFFFF;\n",
              "    }\n",
              "  </style>\n",
              "\n",
              "      <script>\n",
              "        const buttonEl =\n",
              "          document.querySelector('#df-aadbf055-89df-48ff-8294-322a54145eb8 button.colab-df-convert');\n",
              "        buttonEl.style.display =\n",
              "          google.colab.kernel.accessAllowed ? 'block' : 'none';\n",
              "\n",
              "        async function convertToInteractive(key) {\n",
              "          const element = document.querySelector('#df-aadbf055-89df-48ff-8294-322a54145eb8');\n",
              "          const dataTable =\n",
              "            await google.colab.kernel.invokeFunction('convertToInteractive',\n",
              "                                                     [key], {});\n",
              "          if (!dataTable) return;\n",
              "\n",
              "          const docLinkHtml = 'Like what you see? Visit the ' +\n",
              "            '<a target=\"_blank\" href=https://colab.research.google.com/notebooks/data_table.ipynb>data table notebook</a>'\n",
              "            + ' to learn more about interactive tables.';\n",
              "          element.innerHTML = '';\n",
              "          dataTable['output_type'] = 'display_data';\n",
              "          await google.colab.output.renderOutput(dataTable, element);\n",
              "          const docLink = document.createElement('div');\n",
              "          docLink.innerHTML = docLinkHtml;\n",
              "          element.appendChild(docLink);\n",
              "        }\n",
              "      </script>\n",
              "    </div>\n",
              "  </div>\n",
              "  "
            ]
          },
          "metadata": {}
        },
        {
          "output_type": "stream",
          "name": "stdout",
          "text": [
            "\n",
            "The first 5 rows:\n",
            "\n"
          ]
        },
        {
          "output_type": "display_data",
          "data": {
            "text/plain": [
              "   age           job  marital  education default_credit  balance housing_loan  \\\n",
              "0   58    management  married   tertiary             no     2143          yes   \n",
              "1   44    technician   single  secondary             no       29          yes   \n",
              "2   33  entrepreneur  married  secondary             no        2          yes   \n",
              "3   47   blue-collar  married    unknown             no     1506          yes   \n",
              "4   33       unknown   single    unknown             no        1           no   \n",
              "\n",
              "  personal_loan  contact  day month  duration  campaign  \\\n",
              "0            no  unknown    5   may       261         1   \n",
              "1            no  unknown    5   may       151         1   \n",
              "2           yes  unknown    5   may        76         1   \n",
              "3            no  unknown    5   may        92         1   \n",
              "4            no  unknown    5   may       198         1   \n",
              "\n",
              "   days_from_last_contact  previous_campaign_contacts  \\\n",
              "0                     NaN                           0   \n",
              "1                     NaN                           0   \n",
              "2                     NaN                           0   \n",
              "3                     NaN                           0   \n",
              "4                     NaN                           0   \n",
              "\n",
              "  previous_campaign_outcome outcome  \n",
              "0                   unknown      no  \n",
              "1                   unknown      no  \n",
              "2                   unknown      no  \n",
              "3                   unknown      no  \n",
              "4                   unknown      no  "
            ],
            "text/html": [
              "\n",
              "  <div id=\"df-987c1593-48ff-4003-b3c2-987cc123af2f\">\n",
              "    <div class=\"colab-df-container\">\n",
              "      <div>\n",
              "<style scoped>\n",
              "    .dataframe tbody tr th:only-of-type {\n",
              "        vertical-align: middle;\n",
              "    }\n",
              "\n",
              "    .dataframe tbody tr th {\n",
              "        vertical-align: top;\n",
              "    }\n",
              "\n",
              "    .dataframe thead th {\n",
              "        text-align: right;\n",
              "    }\n",
              "</style>\n",
              "<table border=\"1\" class=\"dataframe\">\n",
              "  <thead>\n",
              "    <tr style=\"text-align: right;\">\n",
              "      <th></th>\n",
              "      <th>age</th>\n",
              "      <th>job</th>\n",
              "      <th>marital</th>\n",
              "      <th>education</th>\n",
              "      <th>default_credit</th>\n",
              "      <th>balance</th>\n",
              "      <th>housing_loan</th>\n",
              "      <th>personal_loan</th>\n",
              "      <th>contact</th>\n",
              "      <th>day</th>\n",
              "      <th>month</th>\n",
              "      <th>duration</th>\n",
              "      <th>campaign</th>\n",
              "      <th>days_from_last_contact</th>\n",
              "      <th>previous_campaign_contacts</th>\n",
              "      <th>previous_campaign_outcome</th>\n",
              "      <th>outcome</th>\n",
              "    </tr>\n",
              "  </thead>\n",
              "  <tbody>\n",
              "    <tr>\n",
              "      <th>0</th>\n",
              "      <td>58</td>\n",
              "      <td>management</td>\n",
              "      <td>married</td>\n",
              "      <td>tertiary</td>\n",
              "      <td>no</td>\n",
              "      <td>2143</td>\n",
              "      <td>yes</td>\n",
              "      <td>no</td>\n",
              "      <td>unknown</td>\n",
              "      <td>5</td>\n",
              "      <td>may</td>\n",
              "      <td>261</td>\n",
              "      <td>1</td>\n",
              "      <td>NaN</td>\n",
              "      <td>0</td>\n",
              "      <td>unknown</td>\n",
              "      <td>no</td>\n",
              "    </tr>\n",
              "    <tr>\n",
              "      <th>1</th>\n",
              "      <td>44</td>\n",
              "      <td>technician</td>\n",
              "      <td>single</td>\n",
              "      <td>secondary</td>\n",
              "      <td>no</td>\n",
              "      <td>29</td>\n",
              "      <td>yes</td>\n",
              "      <td>no</td>\n",
              "      <td>unknown</td>\n",
              "      <td>5</td>\n",
              "      <td>may</td>\n",
              "      <td>151</td>\n",
              "      <td>1</td>\n",
              "      <td>NaN</td>\n",
              "      <td>0</td>\n",
              "      <td>unknown</td>\n",
              "      <td>no</td>\n",
              "    </tr>\n",
              "    <tr>\n",
              "      <th>2</th>\n",
              "      <td>33</td>\n",
              "      <td>entrepreneur</td>\n",
              "      <td>married</td>\n",
              "      <td>secondary</td>\n",
              "      <td>no</td>\n",
              "      <td>2</td>\n",
              "      <td>yes</td>\n",
              "      <td>yes</td>\n",
              "      <td>unknown</td>\n",
              "      <td>5</td>\n",
              "      <td>may</td>\n",
              "      <td>76</td>\n",
              "      <td>1</td>\n",
              "      <td>NaN</td>\n",
              "      <td>0</td>\n",
              "      <td>unknown</td>\n",
              "      <td>no</td>\n",
              "    </tr>\n",
              "    <tr>\n",
              "      <th>3</th>\n",
              "      <td>47</td>\n",
              "      <td>blue-collar</td>\n",
              "      <td>married</td>\n",
              "      <td>unknown</td>\n",
              "      <td>no</td>\n",
              "      <td>1506</td>\n",
              "      <td>yes</td>\n",
              "      <td>no</td>\n",
              "      <td>unknown</td>\n",
              "      <td>5</td>\n",
              "      <td>may</td>\n",
              "      <td>92</td>\n",
              "      <td>1</td>\n",
              "      <td>NaN</td>\n",
              "      <td>0</td>\n",
              "      <td>unknown</td>\n",
              "      <td>no</td>\n",
              "    </tr>\n",
              "    <tr>\n",
              "      <th>4</th>\n",
              "      <td>33</td>\n",
              "      <td>unknown</td>\n",
              "      <td>single</td>\n",
              "      <td>unknown</td>\n",
              "      <td>no</td>\n",
              "      <td>1</td>\n",
              "      <td>no</td>\n",
              "      <td>no</td>\n",
              "      <td>unknown</td>\n",
              "      <td>5</td>\n",
              "      <td>may</td>\n",
              "      <td>198</td>\n",
              "      <td>1</td>\n",
              "      <td>NaN</td>\n",
              "      <td>0</td>\n",
              "      <td>unknown</td>\n",
              "      <td>no</td>\n",
              "    </tr>\n",
              "  </tbody>\n",
              "</table>\n",
              "</div>\n",
              "      <button class=\"colab-df-convert\" onclick=\"convertToInteractive('df-987c1593-48ff-4003-b3c2-987cc123af2f')\"\n",
              "              title=\"Convert this dataframe to an interactive table.\"\n",
              "              style=\"display:none;\">\n",
              "        \n",
              "  <svg xmlns=\"http://www.w3.org/2000/svg\" height=\"24px\"viewBox=\"0 0 24 24\"\n",
              "       width=\"24px\">\n",
              "    <path d=\"M0 0h24v24H0V0z\" fill=\"none\"/>\n",
              "    <path d=\"M18.56 5.44l.94 2.06.94-2.06 2.06-.94-2.06-.94-.94-2.06-.94 2.06-2.06.94zm-11 1L8.5 8.5l.94-2.06 2.06-.94-2.06-.94L8.5 2.5l-.94 2.06-2.06.94zm10 10l.94 2.06.94-2.06 2.06-.94-2.06-.94-.94-2.06-.94 2.06-2.06.94z\"/><path d=\"M17.41 7.96l-1.37-1.37c-.4-.4-.92-.59-1.43-.59-.52 0-1.04.2-1.43.59L10.3 9.45l-7.72 7.72c-.78.78-.78 2.05 0 2.83L4 21.41c.39.39.9.59 1.41.59.51 0 1.02-.2 1.41-.59l7.78-7.78 2.81-2.81c.8-.78.8-2.07 0-2.86zM5.41 20L4 18.59l7.72-7.72 1.47 1.35L5.41 20z\"/>\n",
              "  </svg>\n",
              "      </button>\n",
              "      \n",
              "  <style>\n",
              "    .colab-df-container {\n",
              "      display:flex;\n",
              "      flex-wrap:wrap;\n",
              "      gap: 12px;\n",
              "    }\n",
              "\n",
              "    .colab-df-convert {\n",
              "      background-color: #E8F0FE;\n",
              "      border: none;\n",
              "      border-radius: 50%;\n",
              "      cursor: pointer;\n",
              "      display: none;\n",
              "      fill: #1967D2;\n",
              "      height: 32px;\n",
              "      padding: 0 0 0 0;\n",
              "      width: 32px;\n",
              "    }\n",
              "\n",
              "    .colab-df-convert:hover {\n",
              "      background-color: #E2EBFA;\n",
              "      box-shadow: 0px 1px 2px rgba(60, 64, 67, 0.3), 0px 1px 3px 1px rgba(60, 64, 67, 0.15);\n",
              "      fill: #174EA6;\n",
              "    }\n",
              "\n",
              "    [theme=dark] .colab-df-convert {\n",
              "      background-color: #3B4455;\n",
              "      fill: #D2E3FC;\n",
              "    }\n",
              "\n",
              "    [theme=dark] .colab-df-convert:hover {\n",
              "      background-color: #434B5C;\n",
              "      box-shadow: 0px 1px 3px 1px rgba(0, 0, 0, 0.15);\n",
              "      filter: drop-shadow(0px 1px 2px rgba(0, 0, 0, 0.3));\n",
              "      fill: #FFFFFF;\n",
              "    }\n",
              "  </style>\n",
              "\n",
              "      <script>\n",
              "        const buttonEl =\n",
              "          document.querySelector('#df-987c1593-48ff-4003-b3c2-987cc123af2f button.colab-df-convert');\n",
              "        buttonEl.style.display =\n",
              "          google.colab.kernel.accessAllowed ? 'block' : 'none';\n",
              "\n",
              "        async function convertToInteractive(key) {\n",
              "          const element = document.querySelector('#df-987c1593-48ff-4003-b3c2-987cc123af2f');\n",
              "          const dataTable =\n",
              "            await google.colab.kernel.invokeFunction('convertToInteractive',\n",
              "                                                     [key], {});\n",
              "          if (!dataTable) return;\n",
              "\n",
              "          const docLinkHtml = 'Like what you see? Visit the ' +\n",
              "            '<a target=\"_blank\" href=https://colab.research.google.com/notebooks/data_table.ipynb>data table notebook</a>'\n",
              "            + ' to learn more about interactive tables.';\n",
              "          element.innerHTML = '';\n",
              "          dataTable['output_type'] = 'display_data';\n",
              "          await google.colab.output.renderOutput(dataTable, element);\n",
              "          const docLink = document.createElement('div');\n",
              "          docLink.innerHTML = docLinkHtml;\n",
              "          element.appendChild(docLink);\n",
              "        }\n",
              "      </script>\n",
              "    </div>\n",
              "  </div>\n",
              "  "
            ]
          },
          "metadata": {}
        }
      ],
      "source": [
        "# shape method := used to retrieve the dimensions of a DataFrame\n",
        "print(\"Dimensions:\", df.shape, \"\\n\")\n",
        "\n",
        "# columns method := used to retrieve the column labels of a DataFrame, and this is exactly the attributes\n",
        "print(\"Attributes:\",df.columns.to_numpy(),\"\\n\")\n",
        "\n",
        "# frequency table of the \"outcome\" category in the table\n",
        "print(\"Frequency table of the outcome category: \\n\")\n",
        "data = {'outcome': df['outcome'].unique(), 'count': [df[df.outcome == \"no\"].shape[0],df[df.outcome == \"yes\"].shape[0]]}  \n",
        "    # Create DataFrame  \n",
        "df_outcome = pd.DataFrame(data)  \n",
        "display(df_outcome)\n",
        "\n",
        "print(\"\")\n",
        "\n",
        "#Display the first 5 rows of the table\n",
        "print(\"The first 5 rows:\\n\")\n",
        "display(df.head(5))\n"
      ]
    },
    {
      "cell_type": "markdown",
      "metadata": {
        "id": "naq7YxnjcZWh"
      },
      "source": [
        "3) What is the data type of each attribute in the table?"
      ]
    },
    {
      "cell_type": "code",
      "execution_count": null,
      "metadata": {
        "id": "Ydrl7UhjcZWh",
        "colab": {
          "base_uri": "https://localhost:8080/"
        },
        "outputId": "b1c9e791-c5a2-446d-9ea6-11b5e4f9ae40"
      },
      "outputs": [
        {
          "output_type": "stream",
          "name": "stdout",
          "text": [
            "age                             int64\n",
            "job                            object\n",
            "marital                        object\n",
            "education                      object\n",
            "default_credit                 object\n",
            "balance                         int64\n",
            "housing_loan                   object\n",
            "personal_loan                  object\n",
            "contact                        object\n",
            "day                             int64\n",
            "month                          object\n",
            "duration                        int64\n",
            "campaign                        int64\n",
            "days_from_last_contact        float64\n",
            "previous_campaign_contacts      int64\n",
            "previous_campaign_outcome      object\n",
            "outcome                        object\n",
            "dtype: object\n"
          ]
        }
      ],
      "source": [
        "print(df.dtypes)"
      ]
    },
    {
      "cell_type": "markdown",
      "metadata": {
        "id": "BUkKOT79cZWh"
      },
      "source": [
        "## Manipulating DataFrames"
      ]
    },
    {
      "cell_type": "markdown",
      "metadata": {
        "id": "VrrB2Ft_cZWh"
      },
      "source": [
        "1) Add to the table a Boolean attribute called 'isContactKnown'. It should say for each element if the 'contact' category is 'unknown' or is it 'cellular'/'telephone'"
      ]
    },
    {
      "cell_type": "code",
      "execution_count": null,
      "metadata": {
        "id": "tZ9bWTR1cZWh",
        "colab": {
          "base_uri": "https://localhost:8080/",
          "height": 423
        },
        "outputId": "8232f0e4-873f-48d0-af96-d13c96ed60b5"
      },
      "outputs": [
        {
          "output_type": "display_data",
          "data": {
            "text/plain": [
              "         contact  isContactKnown\n",
              "0        unknown           False\n",
              "1        unknown           False\n",
              "2        unknown           False\n",
              "3        unknown           False\n",
              "4        unknown           False\n",
              "...          ...             ...\n",
              "45206   cellular            True\n",
              "45207   cellular            True\n",
              "45208   cellular            True\n",
              "45209  telephone            True\n",
              "45210   cellular            True\n",
              "\n",
              "[45211 rows x 2 columns]"
            ],
            "text/html": [
              "\n",
              "  <div id=\"df-21d17a0e-310c-44d4-8df7-e9e495b0fc81\">\n",
              "    <div class=\"colab-df-container\">\n",
              "      <div>\n",
              "<style scoped>\n",
              "    .dataframe tbody tr th:only-of-type {\n",
              "        vertical-align: middle;\n",
              "    }\n",
              "\n",
              "    .dataframe tbody tr th {\n",
              "        vertical-align: top;\n",
              "    }\n",
              "\n",
              "    .dataframe thead th {\n",
              "        text-align: right;\n",
              "    }\n",
              "</style>\n",
              "<table border=\"1\" class=\"dataframe\">\n",
              "  <thead>\n",
              "    <tr style=\"text-align: right;\">\n",
              "      <th></th>\n",
              "      <th>contact</th>\n",
              "      <th>isContactKnown</th>\n",
              "    </tr>\n",
              "  </thead>\n",
              "  <tbody>\n",
              "    <tr>\n",
              "      <th>0</th>\n",
              "      <td>unknown</td>\n",
              "      <td>False</td>\n",
              "    </tr>\n",
              "    <tr>\n",
              "      <th>1</th>\n",
              "      <td>unknown</td>\n",
              "      <td>False</td>\n",
              "    </tr>\n",
              "    <tr>\n",
              "      <th>2</th>\n",
              "      <td>unknown</td>\n",
              "      <td>False</td>\n",
              "    </tr>\n",
              "    <tr>\n",
              "      <th>3</th>\n",
              "      <td>unknown</td>\n",
              "      <td>False</td>\n",
              "    </tr>\n",
              "    <tr>\n",
              "      <th>4</th>\n",
              "      <td>unknown</td>\n",
              "      <td>False</td>\n",
              "    </tr>\n",
              "    <tr>\n",
              "      <th>...</th>\n",
              "      <td>...</td>\n",
              "      <td>...</td>\n",
              "    </tr>\n",
              "    <tr>\n",
              "      <th>45206</th>\n",
              "      <td>cellular</td>\n",
              "      <td>True</td>\n",
              "    </tr>\n",
              "    <tr>\n",
              "      <th>45207</th>\n",
              "      <td>cellular</td>\n",
              "      <td>True</td>\n",
              "    </tr>\n",
              "    <tr>\n",
              "      <th>45208</th>\n",
              "      <td>cellular</td>\n",
              "      <td>True</td>\n",
              "    </tr>\n",
              "    <tr>\n",
              "      <th>45209</th>\n",
              "      <td>telephone</td>\n",
              "      <td>True</td>\n",
              "    </tr>\n",
              "    <tr>\n",
              "      <th>45210</th>\n",
              "      <td>cellular</td>\n",
              "      <td>True</td>\n",
              "    </tr>\n",
              "  </tbody>\n",
              "</table>\n",
              "<p>45211 rows × 2 columns</p>\n",
              "</div>\n",
              "      <button class=\"colab-df-convert\" onclick=\"convertToInteractive('df-21d17a0e-310c-44d4-8df7-e9e495b0fc81')\"\n",
              "              title=\"Convert this dataframe to an interactive table.\"\n",
              "              style=\"display:none;\">\n",
              "        \n",
              "  <svg xmlns=\"http://www.w3.org/2000/svg\" height=\"24px\"viewBox=\"0 0 24 24\"\n",
              "       width=\"24px\">\n",
              "    <path d=\"M0 0h24v24H0V0z\" fill=\"none\"/>\n",
              "    <path d=\"M18.56 5.44l.94 2.06.94-2.06 2.06-.94-2.06-.94-.94-2.06-.94 2.06-2.06.94zm-11 1L8.5 8.5l.94-2.06 2.06-.94-2.06-.94L8.5 2.5l-.94 2.06-2.06.94zm10 10l.94 2.06.94-2.06 2.06-.94-2.06-.94-.94-2.06-.94 2.06-2.06.94z\"/><path d=\"M17.41 7.96l-1.37-1.37c-.4-.4-.92-.59-1.43-.59-.52 0-1.04.2-1.43.59L10.3 9.45l-7.72 7.72c-.78.78-.78 2.05 0 2.83L4 21.41c.39.39.9.59 1.41.59.51 0 1.02-.2 1.41-.59l7.78-7.78 2.81-2.81c.8-.78.8-2.07 0-2.86zM5.41 20L4 18.59l7.72-7.72 1.47 1.35L5.41 20z\"/>\n",
              "  </svg>\n",
              "      </button>\n",
              "      \n",
              "  <style>\n",
              "    .colab-df-container {\n",
              "      display:flex;\n",
              "      flex-wrap:wrap;\n",
              "      gap: 12px;\n",
              "    }\n",
              "\n",
              "    .colab-df-convert {\n",
              "      background-color: #E8F0FE;\n",
              "      border: none;\n",
              "      border-radius: 50%;\n",
              "      cursor: pointer;\n",
              "      display: none;\n",
              "      fill: #1967D2;\n",
              "      height: 32px;\n",
              "      padding: 0 0 0 0;\n",
              "      width: 32px;\n",
              "    }\n",
              "\n",
              "    .colab-df-convert:hover {\n",
              "      background-color: #E2EBFA;\n",
              "      box-shadow: 0px 1px 2px rgba(60, 64, 67, 0.3), 0px 1px 3px 1px rgba(60, 64, 67, 0.15);\n",
              "      fill: #174EA6;\n",
              "    }\n",
              "\n",
              "    [theme=dark] .colab-df-convert {\n",
              "      background-color: #3B4455;\n",
              "      fill: #D2E3FC;\n",
              "    }\n",
              "\n",
              "    [theme=dark] .colab-df-convert:hover {\n",
              "      background-color: #434B5C;\n",
              "      box-shadow: 0px 1px 3px 1px rgba(0, 0, 0, 0.15);\n",
              "      filter: drop-shadow(0px 1px 2px rgba(0, 0, 0, 0.3));\n",
              "      fill: #FFFFFF;\n",
              "    }\n",
              "  </style>\n",
              "\n",
              "      <script>\n",
              "        const buttonEl =\n",
              "          document.querySelector('#df-21d17a0e-310c-44d4-8df7-e9e495b0fc81 button.colab-df-convert');\n",
              "        buttonEl.style.display =\n",
              "          google.colab.kernel.accessAllowed ? 'block' : 'none';\n",
              "\n",
              "        async function convertToInteractive(key) {\n",
              "          const element = document.querySelector('#df-21d17a0e-310c-44d4-8df7-e9e495b0fc81');\n",
              "          const dataTable =\n",
              "            await google.colab.kernel.invokeFunction('convertToInteractive',\n",
              "                                                     [key], {});\n",
              "          if (!dataTable) return;\n",
              "\n",
              "          const docLinkHtml = 'Like what you see? Visit the ' +\n",
              "            '<a target=\"_blank\" href=https://colab.research.google.com/notebooks/data_table.ipynb>data table notebook</a>'\n",
              "            + ' to learn more about interactive tables.';\n",
              "          element.innerHTML = '';\n",
              "          dataTable['output_type'] = 'display_data';\n",
              "          await google.colab.output.renderOutput(dataTable, element);\n",
              "          const docLink = document.createElement('div');\n",
              "          docLink.innerHTML = docLinkHtml;\n",
              "          element.appendChild(docLink);\n",
              "        }\n",
              "      </script>\n",
              "    </div>\n",
              "  </div>\n",
              "  "
            ]
          },
          "metadata": {}
        }
      ],
      "source": [
        "\n",
        "df[\"isContactKnown\"] = (df[\"contact\"] != \"unknown\")\n",
        "display(df[['contact' , 'isContactKnown']])"
      ]
    },
    {
      "cell_type": "markdown",
      "metadata": {
        "id": "_NbAtqqTcZWh"
      },
      "source": [
        "2) Change the type of the 'campaign' attribute to Categorical data."
      ]
    },
    {
      "cell_type": "code",
      "execution_count": null,
      "metadata": {
        "id": "OPvSJTlKcZWi",
        "tags": []
      },
      "outputs": [],
      "source": [
        "df[\"campaign\"] = df[\"campaign\"].astype(\"category\")\n"
      ]
    },
    {
      "cell_type": "markdown",
      "metadata": {
        "id": "PqJBmDAScZWi"
      },
      "source": [
        "## Data Distribution"
      ]
    },
    {
      "cell_type": "markdown",
      "metadata": {
        "id": "qUFu_WWBcZWi"
      },
      "source": [
        "1) What is the range of values for each attribute in the table? what are the mean, std, median values for each category? Hint: You can do all this with one command!"
      ]
    },
    {
      "cell_type": "code",
      "execution_count": null,
      "metadata": {
        "id": "usLFZLf6cZWi",
        "colab": {
          "base_uri": "https://localhost:8080/",
          "height": 475
        },
        "outputId": "f5c2e0f2-6516-46f4-c188-974d1183bd2e"
      },
      "outputs": [
        {
          "output_type": "display_data",
          "data": {
            "text/plain": [
              "                 age          job  marital  education default_credit  \\\n",
              "count   45211.000000        45211    45211      45211          45211   \n",
              "unique           NaN           12        3          4              2   \n",
              "top              NaN  blue-collar  married  secondary             no   \n",
              "freq             NaN         9732    27214      23202          44396   \n",
              "mean       40.936210          NaN      NaN        NaN            NaN   \n",
              "std        10.618762          NaN      NaN        NaN            NaN   \n",
              "min        18.000000          NaN      NaN        NaN            NaN   \n",
              "25%        33.000000          NaN      NaN        NaN            NaN   \n",
              "50%        39.000000          NaN      NaN        NaN            NaN   \n",
              "75%        48.000000          NaN      NaN        NaN            NaN   \n",
              "max        95.000000          NaN      NaN        NaN            NaN   \n",
              "\n",
              "              balance housing_loan personal_loan   contact           day  \\\n",
              "count    45211.000000        45211         45211     45211  45211.000000   \n",
              "unique            NaN            2             2         3           NaN   \n",
              "top               NaN          yes            no  cellular           NaN   \n",
              "freq              NaN        25130         37967     29285           NaN   \n",
              "mean      1362.272058          NaN           NaN       NaN     15.806419   \n",
              "std       3044.765829          NaN           NaN       NaN      8.322476   \n",
              "min      -8019.000000          NaN           NaN       NaN      1.000000   \n",
              "25%         72.000000          NaN           NaN       NaN      8.000000   \n",
              "50%        448.000000          NaN           NaN       NaN     16.000000   \n",
              "75%       1428.000000          NaN           NaN       NaN     21.000000   \n",
              "max     102127.000000          NaN           NaN       NaN     31.000000   \n",
              "\n",
              "        month      duration  campaign  days_from_last_contact  \\\n",
              "count   45211  45211.000000   45211.0             8257.000000   \n",
              "unique     12           NaN      48.0                     NaN   \n",
              "top       may           NaN       1.0                     NaN   \n",
              "freq    13766           NaN   17544.0                     NaN   \n",
              "mean      NaN    258.163080       NaN              224.577692   \n",
              "std       NaN    257.527812       NaN              115.344035   \n",
              "min       NaN      0.000000       NaN                1.000000   \n",
              "25%       NaN    103.000000       NaN              133.000000   \n",
              "50%       NaN    180.000000       NaN              194.000000   \n",
              "75%       NaN    319.000000       NaN              327.000000   \n",
              "max       NaN   4918.000000       NaN              871.000000   \n",
              "\n",
              "        previous_campaign_contacts previous_campaign_outcome outcome  \\\n",
              "count                 45211.000000                     45211   45211   \n",
              "unique                         NaN                         4       2   \n",
              "top                            NaN                   unknown      no   \n",
              "freq                           NaN                     36959   39922   \n",
              "mean                      0.580323                       NaN     NaN   \n",
              "std                       2.303441                       NaN     NaN   \n",
              "min                       0.000000                       NaN     NaN   \n",
              "25%                       0.000000                       NaN     NaN   \n",
              "50%                       0.000000                       NaN     NaN   \n",
              "75%                       0.000000                       NaN     NaN   \n",
              "max                     275.000000                       NaN     NaN   \n",
              "\n",
              "       isContactKnown  \n",
              "count           45211  \n",
              "unique              2  \n",
              "top              True  \n",
              "freq            32191  \n",
              "mean              NaN  \n",
              "std               NaN  \n",
              "min               NaN  \n",
              "25%               NaN  \n",
              "50%               NaN  \n",
              "75%               NaN  \n",
              "max               NaN  "
            ],
            "text/html": [
              "\n",
              "  <div id=\"df-922e7089-70dd-4811-b791-3a6482c1b27d\">\n",
              "    <div class=\"colab-df-container\">\n",
              "      <div>\n",
              "<style scoped>\n",
              "    .dataframe tbody tr th:only-of-type {\n",
              "        vertical-align: middle;\n",
              "    }\n",
              "\n",
              "    .dataframe tbody tr th {\n",
              "        vertical-align: top;\n",
              "    }\n",
              "\n",
              "    .dataframe thead th {\n",
              "        text-align: right;\n",
              "    }\n",
              "</style>\n",
              "<table border=\"1\" class=\"dataframe\">\n",
              "  <thead>\n",
              "    <tr style=\"text-align: right;\">\n",
              "      <th></th>\n",
              "      <th>age</th>\n",
              "      <th>job</th>\n",
              "      <th>marital</th>\n",
              "      <th>education</th>\n",
              "      <th>default_credit</th>\n",
              "      <th>balance</th>\n",
              "      <th>housing_loan</th>\n",
              "      <th>personal_loan</th>\n",
              "      <th>contact</th>\n",
              "      <th>day</th>\n",
              "      <th>month</th>\n",
              "      <th>duration</th>\n",
              "      <th>campaign</th>\n",
              "      <th>days_from_last_contact</th>\n",
              "      <th>previous_campaign_contacts</th>\n",
              "      <th>previous_campaign_outcome</th>\n",
              "      <th>outcome</th>\n",
              "      <th>isContactKnown</th>\n",
              "    </tr>\n",
              "  </thead>\n",
              "  <tbody>\n",
              "    <tr>\n",
              "      <th>count</th>\n",
              "      <td>45211.000000</td>\n",
              "      <td>45211</td>\n",
              "      <td>45211</td>\n",
              "      <td>45211</td>\n",
              "      <td>45211</td>\n",
              "      <td>45211.000000</td>\n",
              "      <td>45211</td>\n",
              "      <td>45211</td>\n",
              "      <td>45211</td>\n",
              "      <td>45211.000000</td>\n",
              "      <td>45211</td>\n",
              "      <td>45211.000000</td>\n",
              "      <td>45211.0</td>\n",
              "      <td>8257.000000</td>\n",
              "      <td>45211.000000</td>\n",
              "      <td>45211</td>\n",
              "      <td>45211</td>\n",
              "      <td>45211</td>\n",
              "    </tr>\n",
              "    <tr>\n",
              "      <th>unique</th>\n",
              "      <td>NaN</td>\n",
              "      <td>12</td>\n",
              "      <td>3</td>\n",
              "      <td>4</td>\n",
              "      <td>2</td>\n",
              "      <td>NaN</td>\n",
              "      <td>2</td>\n",
              "      <td>2</td>\n",
              "      <td>3</td>\n",
              "      <td>NaN</td>\n",
              "      <td>12</td>\n",
              "      <td>NaN</td>\n",
              "      <td>48.0</td>\n",
              "      <td>NaN</td>\n",
              "      <td>NaN</td>\n",
              "      <td>4</td>\n",
              "      <td>2</td>\n",
              "      <td>2</td>\n",
              "    </tr>\n",
              "    <tr>\n",
              "      <th>top</th>\n",
              "      <td>NaN</td>\n",
              "      <td>blue-collar</td>\n",
              "      <td>married</td>\n",
              "      <td>secondary</td>\n",
              "      <td>no</td>\n",
              "      <td>NaN</td>\n",
              "      <td>yes</td>\n",
              "      <td>no</td>\n",
              "      <td>cellular</td>\n",
              "      <td>NaN</td>\n",
              "      <td>may</td>\n",
              "      <td>NaN</td>\n",
              "      <td>1.0</td>\n",
              "      <td>NaN</td>\n",
              "      <td>NaN</td>\n",
              "      <td>unknown</td>\n",
              "      <td>no</td>\n",
              "      <td>True</td>\n",
              "    </tr>\n",
              "    <tr>\n",
              "      <th>freq</th>\n",
              "      <td>NaN</td>\n",
              "      <td>9732</td>\n",
              "      <td>27214</td>\n",
              "      <td>23202</td>\n",
              "      <td>44396</td>\n",
              "      <td>NaN</td>\n",
              "      <td>25130</td>\n",
              "      <td>37967</td>\n",
              "      <td>29285</td>\n",
              "      <td>NaN</td>\n",
              "      <td>13766</td>\n",
              "      <td>NaN</td>\n",
              "      <td>17544.0</td>\n",
              "      <td>NaN</td>\n",
              "      <td>NaN</td>\n",
              "      <td>36959</td>\n",
              "      <td>39922</td>\n",
              "      <td>32191</td>\n",
              "    </tr>\n",
              "    <tr>\n",
              "      <th>mean</th>\n",
              "      <td>40.936210</td>\n",
              "      <td>NaN</td>\n",
              "      <td>NaN</td>\n",
              "      <td>NaN</td>\n",
              "      <td>NaN</td>\n",
              "      <td>1362.272058</td>\n",
              "      <td>NaN</td>\n",
              "      <td>NaN</td>\n",
              "      <td>NaN</td>\n",
              "      <td>15.806419</td>\n",
              "      <td>NaN</td>\n",
              "      <td>258.163080</td>\n",
              "      <td>NaN</td>\n",
              "      <td>224.577692</td>\n",
              "      <td>0.580323</td>\n",
              "      <td>NaN</td>\n",
              "      <td>NaN</td>\n",
              "      <td>NaN</td>\n",
              "    </tr>\n",
              "    <tr>\n",
              "      <th>std</th>\n",
              "      <td>10.618762</td>\n",
              "      <td>NaN</td>\n",
              "      <td>NaN</td>\n",
              "      <td>NaN</td>\n",
              "      <td>NaN</td>\n",
              "      <td>3044.765829</td>\n",
              "      <td>NaN</td>\n",
              "      <td>NaN</td>\n",
              "      <td>NaN</td>\n",
              "      <td>8.322476</td>\n",
              "      <td>NaN</td>\n",
              "      <td>257.527812</td>\n",
              "      <td>NaN</td>\n",
              "      <td>115.344035</td>\n",
              "      <td>2.303441</td>\n",
              "      <td>NaN</td>\n",
              "      <td>NaN</td>\n",
              "      <td>NaN</td>\n",
              "    </tr>\n",
              "    <tr>\n",
              "      <th>min</th>\n",
              "      <td>18.000000</td>\n",
              "      <td>NaN</td>\n",
              "      <td>NaN</td>\n",
              "      <td>NaN</td>\n",
              "      <td>NaN</td>\n",
              "      <td>-8019.000000</td>\n",
              "      <td>NaN</td>\n",
              "      <td>NaN</td>\n",
              "      <td>NaN</td>\n",
              "      <td>1.000000</td>\n",
              "      <td>NaN</td>\n",
              "      <td>0.000000</td>\n",
              "      <td>NaN</td>\n",
              "      <td>1.000000</td>\n",
              "      <td>0.000000</td>\n",
              "      <td>NaN</td>\n",
              "      <td>NaN</td>\n",
              "      <td>NaN</td>\n",
              "    </tr>\n",
              "    <tr>\n",
              "      <th>25%</th>\n",
              "      <td>33.000000</td>\n",
              "      <td>NaN</td>\n",
              "      <td>NaN</td>\n",
              "      <td>NaN</td>\n",
              "      <td>NaN</td>\n",
              "      <td>72.000000</td>\n",
              "      <td>NaN</td>\n",
              "      <td>NaN</td>\n",
              "      <td>NaN</td>\n",
              "      <td>8.000000</td>\n",
              "      <td>NaN</td>\n",
              "      <td>103.000000</td>\n",
              "      <td>NaN</td>\n",
              "      <td>133.000000</td>\n",
              "      <td>0.000000</td>\n",
              "      <td>NaN</td>\n",
              "      <td>NaN</td>\n",
              "      <td>NaN</td>\n",
              "    </tr>\n",
              "    <tr>\n",
              "      <th>50%</th>\n",
              "      <td>39.000000</td>\n",
              "      <td>NaN</td>\n",
              "      <td>NaN</td>\n",
              "      <td>NaN</td>\n",
              "      <td>NaN</td>\n",
              "      <td>448.000000</td>\n",
              "      <td>NaN</td>\n",
              "      <td>NaN</td>\n",
              "      <td>NaN</td>\n",
              "      <td>16.000000</td>\n",
              "      <td>NaN</td>\n",
              "      <td>180.000000</td>\n",
              "      <td>NaN</td>\n",
              "      <td>194.000000</td>\n",
              "      <td>0.000000</td>\n",
              "      <td>NaN</td>\n",
              "      <td>NaN</td>\n",
              "      <td>NaN</td>\n",
              "    </tr>\n",
              "    <tr>\n",
              "      <th>75%</th>\n",
              "      <td>48.000000</td>\n",
              "      <td>NaN</td>\n",
              "      <td>NaN</td>\n",
              "      <td>NaN</td>\n",
              "      <td>NaN</td>\n",
              "      <td>1428.000000</td>\n",
              "      <td>NaN</td>\n",
              "      <td>NaN</td>\n",
              "      <td>NaN</td>\n",
              "      <td>21.000000</td>\n",
              "      <td>NaN</td>\n",
              "      <td>319.000000</td>\n",
              "      <td>NaN</td>\n",
              "      <td>327.000000</td>\n",
              "      <td>0.000000</td>\n",
              "      <td>NaN</td>\n",
              "      <td>NaN</td>\n",
              "      <td>NaN</td>\n",
              "    </tr>\n",
              "    <tr>\n",
              "      <th>max</th>\n",
              "      <td>95.000000</td>\n",
              "      <td>NaN</td>\n",
              "      <td>NaN</td>\n",
              "      <td>NaN</td>\n",
              "      <td>NaN</td>\n",
              "      <td>102127.000000</td>\n",
              "      <td>NaN</td>\n",
              "      <td>NaN</td>\n",
              "      <td>NaN</td>\n",
              "      <td>31.000000</td>\n",
              "      <td>NaN</td>\n",
              "      <td>4918.000000</td>\n",
              "      <td>NaN</td>\n",
              "      <td>871.000000</td>\n",
              "      <td>275.000000</td>\n",
              "      <td>NaN</td>\n",
              "      <td>NaN</td>\n",
              "      <td>NaN</td>\n",
              "    </tr>\n",
              "  </tbody>\n",
              "</table>\n",
              "</div>\n",
              "      <button class=\"colab-df-convert\" onclick=\"convertToInteractive('df-922e7089-70dd-4811-b791-3a6482c1b27d')\"\n",
              "              title=\"Convert this dataframe to an interactive table.\"\n",
              "              style=\"display:none;\">\n",
              "        \n",
              "  <svg xmlns=\"http://www.w3.org/2000/svg\" height=\"24px\"viewBox=\"0 0 24 24\"\n",
              "       width=\"24px\">\n",
              "    <path d=\"M0 0h24v24H0V0z\" fill=\"none\"/>\n",
              "    <path d=\"M18.56 5.44l.94 2.06.94-2.06 2.06-.94-2.06-.94-.94-2.06-.94 2.06-2.06.94zm-11 1L8.5 8.5l.94-2.06 2.06-.94-2.06-.94L8.5 2.5l-.94 2.06-2.06.94zm10 10l.94 2.06.94-2.06 2.06-.94-2.06-.94-.94-2.06-.94 2.06-2.06.94z\"/><path d=\"M17.41 7.96l-1.37-1.37c-.4-.4-.92-.59-1.43-.59-.52 0-1.04.2-1.43.59L10.3 9.45l-7.72 7.72c-.78.78-.78 2.05 0 2.83L4 21.41c.39.39.9.59 1.41.59.51 0 1.02-.2 1.41-.59l7.78-7.78 2.81-2.81c.8-.78.8-2.07 0-2.86zM5.41 20L4 18.59l7.72-7.72 1.47 1.35L5.41 20z\"/>\n",
              "  </svg>\n",
              "      </button>\n",
              "      \n",
              "  <style>\n",
              "    .colab-df-container {\n",
              "      display:flex;\n",
              "      flex-wrap:wrap;\n",
              "      gap: 12px;\n",
              "    }\n",
              "\n",
              "    .colab-df-convert {\n",
              "      background-color: #E8F0FE;\n",
              "      border: none;\n",
              "      border-radius: 50%;\n",
              "      cursor: pointer;\n",
              "      display: none;\n",
              "      fill: #1967D2;\n",
              "      height: 32px;\n",
              "      padding: 0 0 0 0;\n",
              "      width: 32px;\n",
              "    }\n",
              "\n",
              "    .colab-df-convert:hover {\n",
              "      background-color: #E2EBFA;\n",
              "      box-shadow: 0px 1px 2px rgba(60, 64, 67, 0.3), 0px 1px 3px 1px rgba(60, 64, 67, 0.15);\n",
              "      fill: #174EA6;\n",
              "    }\n",
              "\n",
              "    [theme=dark] .colab-df-convert {\n",
              "      background-color: #3B4455;\n",
              "      fill: #D2E3FC;\n",
              "    }\n",
              "\n",
              "    [theme=dark] .colab-df-convert:hover {\n",
              "      background-color: #434B5C;\n",
              "      box-shadow: 0px 1px 3px 1px rgba(0, 0, 0, 0.15);\n",
              "      filter: drop-shadow(0px 1px 2px rgba(0, 0, 0, 0.3));\n",
              "      fill: #FFFFFF;\n",
              "    }\n",
              "  </style>\n",
              "\n",
              "      <script>\n",
              "        const buttonEl =\n",
              "          document.querySelector('#df-922e7089-70dd-4811-b791-3a6482c1b27d button.colab-df-convert');\n",
              "        buttonEl.style.display =\n",
              "          google.colab.kernel.accessAllowed ? 'block' : 'none';\n",
              "\n",
              "        async function convertToInteractive(key) {\n",
              "          const element = document.querySelector('#df-922e7089-70dd-4811-b791-3a6482c1b27d');\n",
              "          const dataTable =\n",
              "            await google.colab.kernel.invokeFunction('convertToInteractive',\n",
              "                                                     [key], {});\n",
              "          if (!dataTable) return;\n",
              "\n",
              "          const docLinkHtml = 'Like what you see? Visit the ' +\n",
              "            '<a target=\"_blank\" href=https://colab.research.google.com/notebooks/data_table.ipynb>data table notebook</a>'\n",
              "            + ' to learn more about interactive tables.';\n",
              "          element.innerHTML = '';\n",
              "          dataTable['output_type'] = 'display_data';\n",
              "          await google.colab.output.renderOutput(dataTable, element);\n",
              "          const docLink = document.createElement('div');\n",
              "          docLink.innerHTML = docLinkHtml;\n",
              "          element.appendChild(docLink);\n",
              "        }\n",
              "      </script>\n",
              "    </div>\n",
              "  </div>\n",
              "  "
            ]
          },
          "metadata": {}
        }
      ],
      "source": [
        "\n",
        "display(df.describe(include='all'))\n"
      ]
    },
    {
      "cell_type": "markdown",
      "metadata": {
        "id": "kk43uCv4cZWi"
      },
      "source": [
        "2) Plot a histogram of the 'balance' attribute and a boxplot of the 'age' attribute."
      ]
    },
    {
      "cell_type": "code",
      "execution_count": null,
      "metadata": {
        "id": "iLtbdN0lcZWi",
        "colab": {
          "base_uri": "https://localhost:8080/",
          "height": 814
        },
        "outputId": "7245a698-73df-45cb-bc84-4910f6b0be57"
      },
      "outputs": [
        {
          "output_type": "stream",
          "name": "stdout",
          "text": [
            "Histogram of the 'balance' attribute: \n",
            "\n"
          ]
        },
        {
          "output_type": "display_data",
          "data": {
            "text/plain": [
              "<Figure size 1000x400 with 1 Axes>"
            ],
            "image/png": "[encoded data removed]"
          },
          "metadata": {}
        },
        {
          "output_type": "stream",
          "name": "stdout",
          "text": [
            "Boxplot of the 'age' attribute: \n",
            "\n"
          ]
        },
        {
          "output_type": "display_data",
          "data": {
            "text/plain": [
              "<Figure size 1000x400 with 1 Axes>"
            ],
            "image/png": "[encoded data removed]"
          },
          "metadata": {}
        }
      ],
      "source": [
        "import matplotlib.pyplot as plt\n",
        "\n",
        "print(\"Histogram of the 'balance' attribute: \\n\")\n",
        "histogram = df[\"balance\"].plot.hist(bins=60)\n",
        "histogram.set_xlabel(\"Balance\")\n",
        "histogram.set_ylabel(\"Frequency\")\n",
        "plt.show()\n",
        "\n",
        "print(\"Boxplot of the 'age' attribute: \\n\")\n",
        "df.boxplot(vert=False, column=[\"age\"])\n",
        "plt.show()\n"
      ]
    },
    {
      "cell_type": "markdown",
      "metadata": {
        "id": "sO6vQO1DcZWi"
      },
      "source": [
        "3) Plot separately the distributions of balance values for people with negative outcome and positive outcomes. Are they different? If so, how?"
      ]
    },
    {
      "cell_type": "code",
      "execution_count": null,
      "metadata": {
        "id": "qIO1DVSOcZWi",
        "colab": {
          "base_uri": "https://localhost:8080/",
          "height": 858
        },
        "outputId": "532c7f08-c62c-49d7-d773-d2dd7fbd08f2"
      },
      "outputs": [
        {
          "output_type": "stream",
          "name": "stdout",
          "text": [
            "Distribution of balance values for people with negative outcome: \n",
            "\n"
          ]
        },
        {
          "output_type": "display_data",
          "data": {
            "text/plain": [
              "<Figure size 1000x400 with 1 Axes>"
            ],
            "image/png": "[encoded data removed]"
          },
          "metadata": {}
        },
        {
          "output_type": "stream",
          "name": "stdout",
          "text": [
            "\n",
            "Distribution of balance values for people with positive outcome: \n",
            "\n"
          ]
        },
        {
          "output_type": "display_data",
          "data": {
            "text/plain": [
              "<Figure size 1000x400 with 1 Axes>"
            ],
            "image/png": "[encoded data removed]"
          },
          "metadata": {}
        }
      ],
      "source": [
        "# Negative outcome\n",
        "print(\"Distribution of balance values for people with negative outcome: \\n\")\n",
        "new_df_negative = df[(df[\"outcome\"] == \"no\")][\"balance\"].plot.hist(bins=50)\n",
        "new_df_negative.set_xlabel(\"Balance\")\n",
        "new_df_negative.set_ylabel(\"Frequency\")\n",
        "plt.show()\n",
        "\n",
        "print(\"\")\n",
        "\n",
        "# Positive outcome\n",
        "print(\"Distribution of balance values for people with positive outcome: \\n\")\n",
        "new_df_positive = df[(df[\"outcome\"] == \"yes\")][\"balance\"].plot.hist(bins=50)\n",
        "new_df_positive.set_xlabel(\"Balance\")\n",
        "new_df_positive.set_ylabel(\"Frequncy\")\n",
        "plt.show()\n",
        "\n",
        "# Are they different? \n",
        "## Yes\n",
        "# If so, how?\n",
        "## The values of the distribution of balance values for people with positive outcome are much bigger then for people with negative outcome.\n",
        "## People with a negative outcome tend to have lower balance.\n"
      ]
    },
    {
      "cell_type": "markdown",
      "metadata": {
        "id": "JEOJFGXNcZWj"
      },
      "source": [
        "# Q2"
      ]
    },
    {
      "cell_type": "markdown",
      "metadata": {
        "id": "MRyujmxRcZWj"
      },
      "source": [
        "## Missing Values"
      ]
    },
    {
      "cell_type": "markdown",
      "metadata": {
        "id": "rRuqiXEecZWj"
      },
      "source": [
        "1) Which of the attributes have missing values? How many?"
      ]
    },
    {
      "cell_type": "code",
      "execution_count": null,
      "metadata": {
        "id": "u-PfUurncZWj",
        "colab": {
          "base_uri": "https://localhost:8080/"
        },
        "outputId": "ec1eff84-1153-4f79-a855-019d7264e02f"
      },
      "outputs": [
        {
          "output_type": "stream",
          "name": "stdout",
          "text": [
            "According to df.info(), the column 'days_from_last_contact' has 36954 missing values. \n",
            "\n",
            "<class 'pandas.core.frame.DataFrame'>\n",
            "RangeIndex: 45211 entries, 0 to 45210\n",
            "Data columns (total 17 columns):\n",
            " #   Column                      Non-Null Count  Dtype  \n",
            "---  ------                      --------------  -----  \n",
            " 0   age                         45211 non-null  int64  \n",
            " 1   job                         45211 non-null  object \n",
            " 2   marital                     45211 non-null  object \n",
            " 3   education                   45211 non-null  object \n",
            " 4   default_credit              45211 non-null  object \n",
            " 5   balance                     45211 non-null  int64  \n",
            " 6   housing_loan                45211 non-null  object \n",
            " 7   personal_loan               45211 non-null  object \n",
            " 8   contact                     45211 non-null  object \n",
            " 9   day                         45211 non-null  int64  \n",
            " 10  month                       45211 non-null  object \n",
            " 11  duration                    45211 non-null  int64  \n",
            " 12  campaign                    45211 non-null  int64  \n",
            " 13  days_from_last_contact      8257 non-null   float64\n",
            " 14  previous_campaign_contacts  45211 non-null  int64  \n",
            " 15  previous_campaign_outcome   45211 non-null  object \n",
            " 16  outcome                     45211 non-null  object \n",
            "dtypes: float64(1), int64(6), object(10)\n",
            "memory usage: 5.9+ MB\n",
            "\n",
            "If we consider unknown values as missing values, then:\n",
            "The column job has 288 unknown values\n",
            "The column education has 1857 unknown values\n",
            "The column contact has 13020 unknown values\n",
            "The column previous_campaign_outcome has 36959 unknown values\n"
          ]
        }
      ],
      "source": [
        "print(\"According to df.info(), the column 'days_from_last_contact' has 36954 missing values. \\n\")\n",
        "df.info()\n",
        "\n",
        "print(\"\")\n",
        "\n",
        "print(\"If we consider unknown values as missing values, then:\")\n",
        "for col in df.select_dtypes(include=[object]).axes[1]:\n",
        "   if ((df[col] == \"unknown\").sum() > 0):\n",
        "        print(\"The column\",col, \"has\",(df[col] == \"unknown\").sum(), \"unknown values\")\n",
        "\n",
        "\n"
      ]
    },
    {
      "cell_type": "markdown",
      "metadata": {
        "id": "TxRbBb6ccZWj"
      },
      "source": [
        "2) Create another dataframe, which doesn't include any people with 'contact' which is 'cellular' or 'telephone'"
      ]
    },
    {
      "cell_type": "code",
      "execution_count": null,
      "metadata": {
        "id": "sJK848yxcZWj",
        "colab": {
          "base_uri": "https://localhost:8080/",
          "height": 522
        },
        "outputId": "4439f4b7-26ec-460c-80b0-8d8f0d9d8707"
      },
      "outputs": [
        {
          "output_type": "display_data",
          "data": {
            "text/plain": [
              "       age            job  marital  education default_credit  balance  \\\n",
              "0       58     management  married   tertiary             no     2143   \n",
              "1       44     technician   single  secondary             no       29   \n",
              "2       33   entrepreneur  married  secondary             no        2   \n",
              "3       47    blue-collar  married    unknown             no     1506   \n",
              "4       33        unknown   single    unknown             no        1   \n",
              "...    ...            ...      ...        ...            ...      ...   \n",
              "45061   30  self-employed   single  secondary             no     1031   \n",
              "45062   58        retired  married    primary             no      742   \n",
              "45122   40   entrepreneur   single   tertiary             no      262   \n",
              "45135   53    blue-collar  married    primary             no     1294   \n",
              "45136   53  self-employed  married   tertiary             no      730   \n",
              "\n",
              "      housing_loan personal_loan  contact  day month  duration campaign  \\\n",
              "0              yes            no  unknown    5   may       261        1   \n",
              "1              yes            no  unknown    5   may       151        1   \n",
              "2              yes           yes  unknown    5   may        76        1   \n",
              "3              yes            no  unknown    5   may        92        1   \n",
              "4               no            no  unknown    5   may       198        1   \n",
              "...            ...           ...      ...  ...   ...       ...      ...   \n",
              "45061           no            no  unknown   20   oct         7        1   \n",
              "45062           no            no  unknown   20   oct         5        1   \n",
              "45122          yes           yes  unknown   26   oct        17        1   \n",
              "45135           no            no  unknown   28   oct        71        1   \n",
              "45136          yes            no  unknown    2   nov        18        1   \n",
              "\n",
              "       days_from_last_contact  previous_campaign_contacts  \\\n",
              "0                         NaN                           0   \n",
              "1                         NaN                           0   \n",
              "2                         NaN                           0   \n",
              "3                         NaN                           0   \n",
              "4                         NaN                           0   \n",
              "...                       ...                         ...   \n",
              "45061                     NaN                           0   \n",
              "45062                     NaN                           0   \n",
              "45122                     NaN                           0   \n",
              "45135                     NaN                           0   \n",
              "45136                   368.0                           2   \n",
              "\n",
              "      previous_campaign_outcome outcome  isContactKnown  \n",
              "0                       unknown      no           False  \n",
              "1                       unknown      no           False  \n",
              "2                       unknown      no           False  \n",
              "3                       unknown      no           False  \n",
              "4                       unknown      no           False  \n",
              "...                         ...     ...             ...  \n",
              "45061                   unknown      no           False  \n",
              "45062                   unknown      no           False  \n",
              "45122                   unknown      no           False  \n",
              "45135                   unknown      no           False  \n",
              "45136                   failure      no           False  \n",
              "\n",
              "[13020 rows x 18 columns]"
            ],
            "text/html": [
              "\n",
              "  <div id=\"df-821275b7-881b-4550-981b-912107eeabb2\">\n",
              "    <div class=\"colab-df-container\">\n",
              "      <div>\n",
              "<style scoped>\n",
              "    .dataframe tbody tr th:only-of-type {\n",
              "        vertical-align: middle;\n",
              "    }\n",
              "\n",
              "    .dataframe tbody tr th {\n",
              "        vertical-align: top;\n",
              "    }\n",
              "\n",
              "    .dataframe thead th {\n",
              "        text-align: right;\n",
              "    }\n",
              "</style>\n",
              "<table border=\"1\" class=\"dataframe\">\n",
              "  <thead>\n",
              "    <tr style=\"text-align: right;\">\n",
              "      <th></th>\n",
              "      <th>age</th>\n",
              "      <th>job</th>\n",
              "      <th>marital</th>\n",
              "      <th>education</th>\n",
              "      <th>default_credit</th>\n",
              "      <th>balance</th>\n",
              "      <th>housing_loan</th>\n",
              "      <th>personal_loan</th>\n",
              "      <th>contact</th>\n",
              "      <th>day</th>\n",
              "      <th>month</th>\n",
              "      <th>duration</th>\n",
              "      <th>campaign</th>\n",
              "      <th>days_from_last_contact</th>\n",
              "      <th>previous_campaign_contacts</th>\n",
              "      <th>previous_campaign_outcome</th>\n",
              "      <th>outcome</th>\n",
              "      <th>isContactKnown</th>\n",
              "    </tr>\n",
              "  </thead>\n",
              "  <tbody>\n",
              "    <tr>\n",
              "      <th>0</th>\n",
              "      <td>58</td>\n",
              "      <td>management</td>\n",
              "      <td>married</td>\n",
              "      <td>tertiary</td>\n",
              "      <td>no</td>\n",
              "      <td>2143</td>\n",
              "      <td>yes</td>\n",
              "      <td>no</td>\n",
              "      <td>unknown</td>\n",
              "      <td>5</td>\n",
              "      <td>may</td>\n",
              "      <td>261</td>\n",
              "      <td>1</td>\n",
              "      <td>NaN</td>\n",
              "      <td>0</td>\n",
              "      <td>unknown</td>\n",
              "      <td>no</td>\n",
              "      <td>False</td>\n",
              "    </tr>\n",
              "    <tr>\n",
              "      <th>1</th>\n",
              "      <td>44</td>\n",
              "      <td>technician</td>\n",
              "      <td>single</td>\n",
              "      <td>secondary</td>\n",
              "      <td>no</td>\n",
              "      <td>29</td>\n",
              "      <td>yes</td>\n",
              "      <td>no</td>\n",
              "      <td>unknown</td>\n",
              "      <td>5</td>\n",
              "      <td>may</td>\n",
              "      <td>151</td>\n",
              "      <td>1</td>\n",
              "      <td>NaN</td>\n",
              "      <td>0</td>\n",
              "      <td>unknown</td>\n",
              "      <td>no</td>\n",
              "      <td>False</td>\n",
              "    </tr>\n",
              "    <tr>\n",
              "      <th>2</th>\n",
              "      <td>33</td>\n",
              "      <td>entrepreneur</td>\n",
              "      <td>married</td>\n",
              "      <td>secondary</td>\n",
              "      <td>no</td>\n",
              "      <td>2</td>\n",
              "      <td>yes</td>\n",
              "      <td>yes</td>\n",
              "      <td>unknown</td>\n",
              "      <td>5</td>\n",
              "      <td>may</td>\n",
              "      <td>76</td>\n",
              "      <td>1</td>\n",
              "      <td>NaN</td>\n",
              "      <td>0</td>\n",
              "      <td>unknown</td>\n",
              "      <td>no</td>\n",
              "      <td>False</td>\n",
              "    </tr>\n",
              "    <tr>\n",
              "      <th>3</th>\n",
              "      <td>47</td>\n",
              "      <td>blue-collar</td>\n",
              "      <td>married</td>\n",
              "      <td>unknown</td>\n",
              "      <td>no</td>\n",
              "      <td>1506</td>\n",
              "      <td>yes</td>\n",
              "      <td>no</td>\n",
              "      <td>unknown</td>\n",
              "      <td>5</td>\n",
              "      <td>may</td>\n",
              "      <td>92</td>\n",
              "      <td>1</td>\n",
              "      <td>NaN</td>\n",
              "      <td>0</td>\n",
              "      <td>unknown</td>\n",
              "      <td>no</td>\n",
              "      <td>False</td>\n",
              "    </tr>\n",
              "    <tr>\n",
              "      <th>4</th>\n",
              "      <td>33</td>\n",
              "      <td>unknown</td>\n",
              "      <td>single</td>\n",
              "      <td>unknown</td>\n",
              "      <td>no</td>\n",
              "      <td>1</td>\n",
              "      <td>no</td>\n",
              "      <td>no</td>\n",
              "      <td>unknown</td>\n",
              "      <td>5</td>\n",
              "      <td>may</td>\n",
              "      <td>198</td>\n",
              "      <td>1</td>\n",
              "      <td>NaN</td>\n",
              "      <td>0</td>\n",
              "      <td>unknown</td>\n",
              "      <td>no</td>\n",
              "      <td>False</td>\n",
              "    </tr>\n",
              "    <tr>\n",
              "      <th>...</th>\n",
              "      <td>...</td>\n",
              "      <td>...</td>\n",
              "      <td>...</td>\n",
              "      <td>...</td>\n",
              "      <td>...</td>\n",
              "      <td>...</td>\n",
              "      <td>...</td>\n",
              "      <td>...</td>\n",
              "      <td>...</td>\n",
              "      <td>...</td>\n",
              "      <td>...</td>\n",
              "      <td>...</td>\n",
              "      <td>...</td>\n",
              "      <td>...</td>\n",
              "      <td>...</td>\n",
              "      <td>...</td>\n",
              "      <td>...</td>\n",
              "      <td>...</td>\n",
              "    </tr>\n",
              "    <tr>\n",
              "      <th>45061</th>\n",
              "      <td>30</td>\n",
              "      <td>self-employed</td>\n",
              "      <td>single</td>\n",
              "      <td>secondary</td>\n",
              "      <td>no</td>\n",
              "      <td>1031</td>\n",
              "      <td>no</td>\n",
              "      <td>no</td>\n",
              "      <td>unknown</td>\n",
              "      <td>20</td>\n",
              "      <td>oct</td>\n",
              "      <td>7</td>\n",
              "      <td>1</td>\n",
              "      <td>NaN</td>\n",
              "      <td>0</td>\n",
              "      <td>unknown</td>\n",
              "      <td>no</td>\n",
              "      <td>False</td>\n",
              "    </tr>\n",
              "    <tr>\n",
              "      <th>45062</th>\n",
              "      <td>58</td>\n",
              "      <td>retired</td>\n",
              "      <td>married</td>\n",
              "      <td>primary</td>\n",
              "      <td>no</td>\n",
              "      <td>742</td>\n",
              "      <td>no</td>\n",
              "      <td>no</td>\n",
              "      <td>unknown</td>\n",
              "      <td>20</td>\n",
              "      <td>oct</td>\n",
              "      <td>5</td>\n",
              "      <td>1</td>\n",
              "      <td>NaN</td>\n",
              "      <td>0</td>\n",
              "      <td>unknown</td>\n",
              "      <td>no</td>\n",
              "      <td>False</td>\n",
              "    </tr>\n",
              "    <tr>\n",
              "      <th>45122</th>\n",
              "      <td>40</td>\n",
              "      <td>entrepreneur</td>\n",
              "      <td>single</td>\n",
              "      <td>tertiary</td>\n",
              "      <td>no</td>\n",
              "      <td>262</td>\n",
              "      <td>yes</td>\n",
              "      <td>yes</td>\n",
              "      <td>unknown</td>\n",
              "      <td>26</td>\n",
              "      <td>oct</td>\n",
              "      <td>17</td>\n",
              "      <td>1</td>\n",
              "      <td>NaN</td>\n",
              "      <td>0</td>\n",
              "      <td>unknown</td>\n",
              "      <td>no</td>\n",
              "      <td>False</td>\n",
              "    </tr>\n",
              "    <tr>\n",
              "      <th>45135</th>\n",
              "      <td>53</td>\n",
              "      <td>blue-collar</td>\n",
              "      <td>married</td>\n",
              "      <td>primary</td>\n",
              "      <td>no</td>\n",
              "      <td>1294</td>\n",
              "      <td>no</td>\n",
              "      <td>no</td>\n",
              "      <td>unknown</td>\n",
              "      <td>28</td>\n",
              "      <td>oct</td>\n",
              "      <td>71</td>\n",
              "      <td>1</td>\n",
              "      <td>NaN</td>\n",
              "      <td>0</td>\n",
              "      <td>unknown</td>\n",
              "      <td>no</td>\n",
              "      <td>False</td>\n",
              "    </tr>\n",
              "    <tr>\n",
              "      <th>45136</th>\n",
              "      <td>53</td>\n",
              "      <td>self-employed</td>\n",
              "      <td>married</td>\n",
              "      <td>tertiary</td>\n",
              "      <td>no</td>\n",
              "      <td>730</td>\n",
              "      <td>yes</td>\n",
              "      <td>no</td>\n",
              "      <td>unknown</td>\n",
              "      <td>2</td>\n",
              "      <td>nov</td>\n",
              "      <td>18</td>\n",
              "      <td>1</td>\n",
              "      <td>368.0</td>\n",
              "      <td>2</td>\n",
              "      <td>failure</td>\n",
              "      <td>no</td>\n",
              "      <td>False</td>\n",
              "    </tr>\n",
              "  </tbody>\n",
              "</table>\n",
              "<p>13020 rows × 18 columns</p>\n",
              "</div>\n",
              "      <button class=\"colab-df-convert\" onclick=\"convertToInteractive('df-821275b7-881b-4550-981b-912107eeabb2')\"\n",
              "              title=\"Convert this dataframe to an interactive table.\"\n",
              "              style=\"display:none;\">\n",
              "        \n",
              "  <svg xmlns=\"http://www.w3.org/2000/svg\" height=\"24px\"viewBox=\"0 0 24 24\"\n",
              "       width=\"24px\">\n",
              "    <path d=\"M0 0h24v24H0V0z\" fill=\"none\"/>\n",
              "    <path d=\"M18.56 5.44l.94 2.06.94-2.06 2.06-.94-2.06-.94-.94-2.06-.94 2.06-2.06.94zm-11 1L8.5 8.5l.94-2.06 2.06-.94-2.06-.94L8.5 2.5l-.94 2.06-2.06.94zm10 10l.94 2.06.94-2.06 2.06-.94-2.06-.94-.94-2.06-.94 2.06-2.06.94z\"/><path d=\"M17.41 7.96l-1.37-1.37c-.4-.4-.92-.59-1.43-.59-.52 0-1.04.2-1.43.59L10.3 9.45l-7.72 7.72c-.78.78-.78 2.05 0 2.83L4 21.41c.39.39.9.59 1.41.59.51 0 1.02-.2 1.41-.59l7.78-7.78 2.81-2.81c.8-.78.8-2.07 0-2.86zM5.41 20L4 18.59l7.72-7.72 1.47 1.35L5.41 20z\"/>\n",
              "  </svg>\n",
              "      </button>\n",
              "      \n",
              "  <style>\n",
              "    .colab-df-container {\n",
              "      display:flex;\n",
              "      flex-wrap:wrap;\n",
              "      gap: 12px;\n",
              "    }\n",
              "\n",
              "    .colab-df-convert {\n",
              "      background-color: #E8F0FE;\n",
              "      border: none;\n",
              "      border-radius: 50%;\n",
              "      cursor: pointer;\n",
              "      display: none;\n",
              "      fill: #1967D2;\n",
              "      height: 32px;\n",
              "      padding: 0 0 0 0;\n",
              "      width: 32px;\n",
              "    }\n",
              "\n",
              "    .colab-df-convert:hover {\n",
              "      background-color: #E2EBFA;\n",
              "      box-shadow: 0px 1px 2px rgba(60, 64, 67, 0.3), 0px 1px 3px 1px rgba(60, 64, 67, 0.15);\n",
              "      fill: #174EA6;\n",
              "    }\n",
              "\n",
              "    [theme=dark] .colab-df-convert {\n",
              "      background-color: #3B4455;\n",
              "      fill: #D2E3FC;\n",
              "    }\n",
              "\n",
              "    [theme=dark] .colab-df-convert:hover {\n",
              "      background-color: #434B5C;\n",
              "      box-shadow: 0px 1px 3px 1px rgba(0, 0, 0, 0.15);\n",
              "      filter: drop-shadow(0px 1px 2px rgba(0, 0, 0, 0.3));\n",
              "      fill: #FFFFFF;\n",
              "    }\n",
              "  </style>\n",
              "\n",
              "      <script>\n",
              "        const buttonEl =\n",
              "          document.querySelector('#df-821275b7-881b-4550-981b-912107eeabb2 button.colab-df-convert');\n",
              "        buttonEl.style.display =\n",
              "          google.colab.kernel.accessAllowed ? 'block' : 'none';\n",
              "\n",
              "        async function convertToInteractive(key) {\n",
              "          const element = document.querySelector('#df-821275b7-881b-4550-981b-912107eeabb2');\n",
              "          const dataTable =\n",
              "            await google.colab.kernel.invokeFunction('convertToInteractive',\n",
              "                                                     [key], {});\n",
              "          if (!dataTable) return;\n",
              "\n",
              "          const docLinkHtml = 'Like what you see? Visit the ' +\n",
              "            '<a target=\"_blank\" href=https://colab.research.google.com/notebooks/data_table.ipynb>data table notebook</a>'\n",
              "            + ' to learn more about interactive tables.';\n",
              "          element.innerHTML = '';\n",
              "          dataTable['output_type'] = 'display_data';\n",
              "          await google.colab.output.renderOutput(dataTable, element);\n",
              "          const docLink = document.createElement('div');\n",
              "          docLink.innerHTML = docLinkHtml;\n",
              "          element.appendChild(docLink);\n",
              "        }\n",
              "      </script>\n",
              "    </div>\n",
              "  </div>\n",
              "  "
            ]
          },
          "metadata": {}
        }
      ],
      "source": [
        "new_df = df[ (df['contact'] != 'cellular') & (df['contact'] != 'telephone') ]\n",
        "display(new_df)"
      ]
    },
    {
      "cell_type": "markdown",
      "metadata": {
        "id": "4mgZW46jcZWj"
      },
      "source": [
        "3) Look at the missing values in the 'days_from_last_contact' attribute. What do you think these missing values might represent? Can you find support in the table for your assumption? Hint: The attribute names have a meaning."
      ]
    },
    {
      "cell_type": "code",
      "execution_count": null,
      "metadata": {
        "id": "V0OvzrCIcZWj",
        "colab": {
          "base_uri": "https://localhost:8080/"
        },
        "outputId": "698d2d5a-6194-45dc-e870-6876a8948695"
      },
      "outputs": [
        {
          "output_type": "stream",
          "name": "stdout",
          "text": [
            "We think that missing values in the 'days_from_last_contact' attribute might represent that\n",
            "these people are new in the DB (For example, if they are old enough now), and therefore no one has contacted them yet.\n",
            "To see if we are correct, we will check if for those people, 'previous_campaign_outcome' is unknown and if 'previous_campaign_contacts' = 0\n",
            "We expect the count to be 0 (no people with known previous campaign outcome and no known previous contacts)\n",
            "If so, it will support our assumption because it's obvious that new people weren't contacted in the last campaign. \n",
            "\n",
            "The count is : 0\n",
            "As we expected.\n"
          ]
        }
      ],
      "source": [
        "print(\"We think that missing values in the 'days_from_last_contact' attribute might represent that\") \n",
        "print(\"these people are new in the DB (For example, if they are old enough now), and therefore no one has contacted them yet.\")\n",
        "print(\"To see if we are correct, we will check if for those people, 'previous_campaign_outcome' is unknown and if 'previous_campaign_contacts' = 0\")\n",
        "print(\"We expect the count to be 0 (no people with known previous campaign outcome and no known previous contacts)\")\n",
        "print(\"If so, it will support our assumption because it's obvious that new people weren't contacted in the last campaign. \\n\")\n",
        "\n",
        "cnt1 = (df[(df[\"days_from_last_contact\"].isnull()) & (df[\"previous_campaign_contacts\"] > 0)]).shape[0]\n",
        "cnt2 = (df[(df[\"days_from_last_contact\"].isnull()) & (df[\"previous_campaign_outcome\"] != \"unknown\")]).shape[0]\n",
        "        \n",
        "print (\"The count is : \" + str(cnt1 + cnt2))\n",
        "\n",
        "print(\"As we expected.\")\n"
      ]
    },
    {
      "cell_type": "markdown",
      "metadata": {
        "id": "xucYbbpocZWj"
      },
      "source": [
        "## Discretization"
      ]
    },
    {
      "cell_type": "markdown",
      "metadata": {
        "id": "GiK1I0dmcZWj"
      },
      "source": [
        "In class, you've seen three methods of data discretization, and we will focus on two of them - Equal-width (distance) and Equal-depth (frequency).\n",
        "\n",
        "1) Discretize the balance attribute to 7 intervals using equal-width discretization, and plot the frequency table for them."
      ]
    },
    {
      "cell_type": "code",
      "execution_count": null,
      "metadata": {
        "id": "MJNtsHlFcZWk",
        "colab": {
          "base_uri": "https://localhost:8080/",
          "height": 602
        },
        "outputId": "7cb28a7b-f556-448d-c5d2-28a0e2c782b4"
      },
      "outputs": [
        {
          "output_type": "execute_result",
          "data": {
            "text/plain": [
              "<Axes: >"
            ]
          },
          "metadata": {},
          "execution_count": 68
        },
        {
          "output_type": "display_data",
          "data": {
            "text/plain": [
              "<Figure size 640x480 with 1 Axes>"
            ],
            "image/png": "[encoded data removed]"
          },
          "metadata": {}
        }
      ],
      "source": [
        "\n",
        "df[\"balance\"] = pd.cut(df[\"balance\"], bins=7)\n",
        "frequency_table = df[\"balance\"].value_counts()\n",
        "frequency_table.plot.bar()\n"
      ]
    },
    {
      "cell_type": "markdown",
      "metadata": {
        "id": "A32iFQuycZWk"
      },
      "source": [
        "2) Discretize the age attribute into 6 intervals using equal-depth discretization, and plot the frequency table for them."
      ]
    },
    {
      "cell_type": "code",
      "execution_count": null,
      "metadata": {
        "id": "AIUo1-3kcZWk",
        "colab": {
          "base_uri": "https://localhost:8080/",
          "height": 532
        },
        "outputId": "ebe0f13c-043d-4670-9dfa-25b8fac1d596"
      },
      "outputs": [
        {
          "output_type": "execute_result",
          "data": {
            "text/plain": [
              "<Axes: >"
            ]
          },
          "metadata": {},
          "execution_count": 69
        },
        {
          "output_type": "display_data",
          "data": {
            "text/plain": [
              "<Figure size 640x480 with 1 Axes>"
            ],
            "image/png": "[encoded data removed]"
          },
          "metadata": {}
        }
      ],
      "source": [
        "df[\"age\"] = pd.qcut(df[\"age\"], q=6)\n",
        "frequency_table = df[\"age\"].value_counts()\n",
        "frequency_table.plot.bar()"
      ]
    },
    {
      "cell_type": "markdown",
      "metadata": {
        "id": "xUVGSSW7cZWk"
      },
      "source": [
        "3) Propose a way to further discretize the Month column."
      ]
    },
    {
      "cell_type": "code",
      "execution_count": null,
      "metadata": {
        "id": "ZuESpGbHcZWk",
        "colab": {
          "base_uri": "https://localhost:8080/"
        },
        "outputId": "e650aa95-7c32-4488-9ee6-9316ef079af7"
      },
      "outputs": [
        {
          "output_type": "stream",
          "name": "stdout",
          "text": [
            "To discretize the 'Month' column that is represented by a string value,\n",
            "we can create categories based on seasons or quarters. \n",
            "\n",
            "For example, we can use this code: \n",
            "\n",
            "seasons = {\"jan\": \"Winter\", \"feb\": \"Winter\", \"mar\": \"Spring\", \"apr\": \"Spring\", \"may\": \"Spring\", \n",
            " \"jun\": \"Summer\", \"jul\": \"Summer\", \"aug\": \"Summer\", \"sep\": \"Fall\", \"oct\": \"Fall\", \"nov\": \"Fall\", \"dec\": \"Winter\"} \n",
            "\n",
            "df[\"season\"] = df[\"Month\"].map(seasons)\n"
          ]
        }
      ],
      "source": [
        "print(\"To discretize the 'Month' column that is represented by a string value,\")\n",
        "print(\"we can create categories based on seasons or quarters. \\n\")\n",
        "\n",
        "print(\"For example, we can use this code: \\n\")\n",
        "print('seasons = {\"jan\": \"Winter\", \"feb\": \"Winter\", \"mar\": \"Spring\", \"apr\": \"Spring\", \"may\": \"Spring\", \\n \"jun\": \"Summer\", \"jul\": \"Summer\", \"aug\": \"Summer\", \"sep\": \"Fall\", \"oct\": \"Fall\", \"nov\": \"Fall\", \"dec\": \"Winter\"} \\n')\n",
        "\n",
        "print('df[\"season\"] = df[\"Month\"].map(seasons)')\n",
        "\n",
        "\n",
        "\n"
      ]
    },
    {
      "cell_type": "markdown",
      "metadata": {
        "id": "IGNbINlscZWk"
      },
      "source": [
        "# Q3"
      ]
    },
    {
      "cell_type": "markdown",
      "metadata": {
        "id": "Uu3RPlMhcZWk"
      },
      "source": [
        "## Correlation"
      ]
    },
    {
      "cell_type": "markdown",
      "metadata": {
        "id": "VAJvQLgJcZWk"
      },
      "source": [
        "\n",
        "\n",
        "```\n",
        "# This is formatted as code\n",
        "```\n",
        "\n",
        "1) Calculate the pearson and spearman correlation between age and balance."
      ]
    },
    {
      "cell_type": "code",
      "execution_count": null,
      "metadata": {
        "id": "QyW5dBxUcZWk",
        "colab": {
          "base_uri": "https://localhost:8080/",
          "height": 293
        },
        "outputId": "b920867a-0cb2-420a-bce1-c22699798909"
      },
      "outputs": [
        {
          "output_type": "stream",
          "name": "stdout",
          "text": [
            "Pearson correlation between age and balance is: 0.097783 \n",
            "\n"
          ]
        },
        {
          "output_type": "display_data",
          "data": {
            "text/plain": [
              "              age   balance\n",
              "age      1.000000  0.097783\n",
              "balance  0.097783  1.000000"
            ],
            "text/html": [
              "\n",
              "  <div id=\"df-172b1ad5-c93d-4e77-b9ed-bde605ec94d4\">\n",
              "    <div class=\"colab-df-container\">\n",
              "      <div>\n",
              "<style scoped>\n",
              "    .dataframe tbody tr th:only-of-type {\n",
              "        vertical-align: middle;\n",
              "    }\n",
              "\n",
              "    .dataframe tbody tr th {\n",
              "        vertical-align: top;\n",
              "    }\n",
              "\n",
              "    .dataframe thead th {\n",
              "        text-align: right;\n",
              "    }\n",
              "</style>\n",
              "<table border=\"1\" class=\"dataframe\">\n",
              "  <thead>\n",
              "    <tr style=\"text-align: right;\">\n",
              "      <th></th>\n",
              "      <th>age</th>\n",
              "      <th>balance</th>\n",
              "    </tr>\n",
              "  </thead>\n",
              "  <tbody>\n",
              "    <tr>\n",
              "      <th>age</th>\n",
              "      <td>1.000000</td>\n",
              "      <td>0.097783</td>\n",
              "    </tr>\n",
              "    <tr>\n",
              "      <th>balance</th>\n",
              "      <td>0.097783</td>\n",
              "      <td>1.000000</td>\n",
              "    </tr>\n",
              "  </tbody>\n",
              "</table>\n",
              "</div>\n",
              "      <button class=\"colab-df-convert\" onclick=\"convertToInteractive('df-172b1ad5-c93d-4e77-b9ed-bde605ec94d4')\"\n",
              "              title=\"Convert this dataframe to an interactive table.\"\n",
              "              style=\"display:none;\">\n",
              "        \n",
              "  <svg xmlns=\"http://www.w3.org/2000/svg\" height=\"24px\"viewBox=\"0 0 24 24\"\n",
              "       width=\"24px\">\n",
              "    <path d=\"M0 0h24v24H0V0z\" fill=\"none\"/>\n",
              "    <path d=\"M18.56 5.44l.94 2.06.94-2.06 2.06-.94-2.06-.94-.94-2.06-.94 2.06-2.06.94zm-11 1L8.5 8.5l.94-2.06 2.06-.94-2.06-.94L8.5 2.5l-.94 2.06-2.06.94zm10 10l.94 2.06.94-2.06 2.06-.94-2.06-.94-.94-2.06-.94 2.06-2.06.94z\"/><path d=\"M17.41 7.96l-1.37-1.37c-.4-.4-.92-.59-1.43-.59-.52 0-1.04.2-1.43.59L10.3 9.45l-7.72 7.72c-.78.78-.78 2.05 0 2.83L4 21.41c.39.39.9.59 1.41.59.51 0 1.02-.2 1.41-.59l7.78-7.78 2.81-2.81c.8-.78.8-2.07 0-2.86zM5.41 20L4 18.59l7.72-7.72 1.47 1.35L5.41 20z\"/>\n",
              "  </svg>\n",
              "      </button>\n",
              "      \n",
              "  <style>\n",
              "    .colab-df-container {\n",
              "      display:flex;\n",
              "      flex-wrap:wrap;\n",
              "      gap: 12px;\n",
              "    }\n",
              "\n",
              "    .colab-df-convert {\n",
              "      background-color: #E8F0FE;\n",
              "      border: none;\n",
              "      border-radius: 50%;\n",
              "      cursor: pointer;\n",
              "      display: none;\n",
              "      fill: #1967D2;\n",
              "      height: 32px;\n",
              "      padding: 0 0 0 0;\n",
              "      width: 32px;\n",
              "    }\n",
              "\n",
              "    .colab-df-convert:hover {\n",
              "      background-color: #E2EBFA;\n",
              "      box-shadow: 0px 1px 2px rgba(60, 64, 67, 0.3), 0px 1px 3px 1px rgba(60, 64, 67, 0.15);\n",
              "      fill: #174EA6;\n",
              "    }\n",
              "\n",
              "    [theme=dark] .colab-df-convert {\n",
              "      background-color: #3B4455;\n",
              "      fill: #D2E3FC;\n",
              "    }\n",
              "\n",
              "    [theme=dark] .colab-df-convert:hover {\n",
              "      background-color: #434B5C;\n",
              "      box-shadow: 0px 1px 3px 1px rgba(0, 0, 0, 0.15);\n",
              "      filter: drop-shadow(0px 1px 2px rgba(0, 0, 0, 0.3));\n",
              "      fill: #FFFFFF;\n",
              "    }\n",
              "  </style>\n",
              "\n",
              "      <script>\n",
              "        const buttonEl =\n",
              "          document.querySelector('#df-172b1ad5-c93d-4e77-b9ed-bde605ec94d4 button.colab-df-convert');\n",
              "        buttonEl.style.display =\n",
              "          google.colab.kernel.accessAllowed ? 'block' : 'none';\n",
              "\n",
              "        async function convertToInteractive(key) {\n",
              "          const element = document.querySelector('#df-172b1ad5-c93d-4e77-b9ed-bde605ec94d4');\n",
              "          const dataTable =\n",
              "            await google.colab.kernel.invokeFunction('convertToInteractive',\n",
              "                                                     [key], {});\n",
              "          if (!dataTable) return;\n",
              "\n",
              "          const docLinkHtml = 'Like what you see? Visit the ' +\n",
              "            '<a target=\"_blank\" href=https://colab.research.google.com/notebooks/data_table.ipynb>data table notebook</a>'\n",
              "            + ' to learn more about interactive tables.';\n",
              "          element.innerHTML = '';\n",
              "          dataTable['output_type'] = 'display_data';\n",
              "          await google.colab.output.renderOutput(dataTable, element);\n",
              "          const docLink = document.createElement('div');\n",
              "          docLink.innerHTML = docLinkHtml;\n",
              "          element.appendChild(docLink);\n",
              "        }\n",
              "      </script>\n",
              "    </div>\n",
              "  </div>\n",
              "  "
            ]
          },
          "metadata": {}
        },
        {
          "output_type": "stream",
          "name": "stdout",
          "text": [
            "\n",
            "Spearman correlation between age and balance is: 0.09638 \n",
            "\n"
          ]
        },
        {
          "output_type": "display_data",
          "data": {
            "text/plain": [
              "             age  balance\n",
              "age      1.00000  0.09638\n",
              "balance  0.09638  1.00000"
            ],
            "text/html": [
              "\n",
              "  <div id=\"df-3ae4b488-2144-43ce-b21d-8609b6b47396\">\n",
              "    <div class=\"colab-df-container\">\n",
              "      <div>\n",
              "<style scoped>\n",
              "    .dataframe tbody tr th:only-of-type {\n",
              "        vertical-align: middle;\n",
              "    }\n",
              "\n",
              "    .dataframe tbody tr th {\n",
              "        vertical-align: top;\n",
              "    }\n",
              "\n",
              "    .dataframe thead th {\n",
              "        text-align: right;\n",
              "    }\n",
              "</style>\n",
              "<table border=\"1\" class=\"dataframe\">\n",
              "  <thead>\n",
              "    <tr style=\"text-align: right;\">\n",
              "      <th></th>\n",
              "      <th>age</th>\n",
              "      <th>balance</th>\n",
              "    </tr>\n",
              "  </thead>\n",
              "  <tbody>\n",
              "    <tr>\n",
              "      <th>age</th>\n",
              "      <td>1.00000</td>\n",
              "      <td>0.09638</td>\n",
              "    </tr>\n",
              "    <tr>\n",
              "      <th>balance</th>\n",
              "      <td>0.09638</td>\n",
              "      <td>1.00000</td>\n",
              "    </tr>\n",
              "  </tbody>\n",
              "</table>\n",
              "</div>\n",
              "      <button class=\"colab-df-convert\" onclick=\"convertToInteractive('df-3ae4b488-2144-43ce-b21d-8609b6b47396')\"\n",
              "              title=\"Convert this dataframe to an interactive table.\"\n",
              "              style=\"display:none;\">\n",
              "        \n",
              "  <svg xmlns=\"http://www.w3.org/2000/svg\" height=\"24px\"viewBox=\"0 0 24 24\"\n",
              "       width=\"24px\">\n",
              "    <path d=\"M0 0h24v24H0V0z\" fill=\"none\"/>\n",
              "    <path d=\"M18.56 5.44l.94 2.06.94-2.06 2.06-.94-2.06-.94-.94-2.06-.94 2.06-2.06.94zm-11 1L8.5 8.5l.94-2.06 2.06-.94-2.06-.94L8.5 2.5l-.94 2.06-2.06.94zm10 10l.94 2.06.94-2.06 2.06-.94-2.06-.94-.94-2.06-.94 2.06-2.06.94z\"/><path d=\"M17.41 7.96l-1.37-1.37c-.4-.4-.92-.59-1.43-.59-.52 0-1.04.2-1.43.59L10.3 9.45l-7.72 7.72c-.78.78-.78 2.05 0 2.83L4 21.41c.39.39.9.59 1.41.59.51 0 1.02-.2 1.41-.59l7.78-7.78 2.81-2.81c.8-.78.8-2.07 0-2.86zM5.41 20L4 18.59l7.72-7.72 1.47 1.35L5.41 20z\"/>\n",
              "  </svg>\n",
              "      </button>\n",
              "      \n",
              "  <style>\n",
              "    .colab-df-container {\n",
              "      display:flex;\n",
              "      flex-wrap:wrap;\n",
              "      gap: 12px;\n",
              "    }\n",
              "\n",
              "    .colab-df-convert {\n",
              "      background-color: #E8F0FE;\n",
              "      border: none;\n",
              "      border-radius: 50%;\n",
              "      cursor: pointer;\n",
              "      display: none;\n",
              "      fill: #1967D2;\n",
              "      height: 32px;\n",
              "      padding: 0 0 0 0;\n",
              "      width: 32px;\n",
              "    }\n",
              "\n",
              "    .colab-df-convert:hover {\n",
              "      background-color: #E2EBFA;\n",
              "      box-shadow: 0px 1px 2px rgba(60, 64, 67, 0.3), 0px 1px 3px 1px rgba(60, 64, 67, 0.15);\n",
              "      fill: #174EA6;\n",
              "    }\n",
              "\n",
              "    [theme=dark] .colab-df-convert {\n",
              "      background-color: #3B4455;\n",
              "      fill: #D2E3FC;\n",
              "    }\n",
              "\n",
              "    [theme=dark] .colab-df-convert:hover {\n",
              "      background-color: #434B5C;\n",
              "      box-shadow: 0px 1px 3px 1px rgba(0, 0, 0, 0.15);\n",
              "      filter: drop-shadow(0px 1px 2px rgba(0, 0, 0, 0.3));\n",
              "      fill: #FFFFFF;\n",
              "    }\n",
              "  </style>\n",
              "\n",
              "      <script>\n",
              "        const buttonEl =\n",
              "          document.querySelector('#df-3ae4b488-2144-43ce-b21d-8609b6b47396 button.colab-df-convert');\n",
              "        buttonEl.style.display =\n",
              "          google.colab.kernel.accessAllowed ? 'block' : 'none';\n",
              "\n",
              "        async function convertToInteractive(key) {\n",
              "          const element = document.querySelector('#df-3ae4b488-2144-43ce-b21d-8609b6b47396');\n",
              "          const dataTable =\n",
              "            await google.colab.kernel.invokeFunction('convertToInteractive',\n",
              "                                                     [key], {});\n",
              "          if (!dataTable) return;\n",
              "\n",
              "          const docLinkHtml = 'Like what you see? Visit the ' +\n",
              "            '<a target=\"_blank\" href=https://colab.research.google.com/notebooks/data_table.ipynb>data table notebook</a>'\n",
              "            + ' to learn more about interactive tables.';\n",
              "          element.innerHTML = '';\n",
              "          dataTable['output_type'] = 'display_data';\n",
              "          await google.colab.output.renderOutput(dataTable, element);\n",
              "          const docLink = document.createElement('div');\n",
              "          docLink.innerHTML = docLinkHtml;\n",
              "          element.appendChild(docLink);\n",
              "        }\n",
              "      </script>\n",
              "    </div>\n",
              "  </div>\n",
              "  "
            ]
          },
          "metadata": {}
        }
      ],
      "source": [
        "# Pearson correlation between age and balance\n",
        "print(\"Pearson correlation between age and balance is: 0.097783 \\n\")\n",
        "display(df[[\"age\", \"balance\"]].corr(method='pearson', numeric_only=True))\n",
        "\n",
        "print(\"\")\n",
        "\n",
        "# Spearman correlation between age and balance\n",
        "print(\"Spearman correlation between age and balance is: 0.09638 \\n\")\n",
        "display(df[[\"age\", \"balance\"]].corr(method='spearman', numeric_only=True))\n"
      ]
    },
    {
      "cell_type": "markdown",
      "metadata": {
        "id": "iy1WiW6YcZWk"
      },
      "source": [
        "2) Calculate the full pearson correlation matrix for all the numeric columns in the data."
      ]
    },
    {
      "cell_type": "code",
      "execution_count": null,
      "metadata": {
        "id": "CcXMnlpjcZWl",
        "colab": {
          "base_uri": "https://localhost:8080/",
          "height": 323
        },
        "outputId": "eb91defd-b86e-47f6-e9e3-f5b3507d6094"
      },
      "outputs": [
        {
          "output_type": "stream",
          "name": "stderr",
          "text": [
            "<ipython-input-27-34c8765a84e4>:1: FutureWarning: The default value of numeric_only in DataFrame.corr is deprecated. In a future version, it will default to False. Select only valid columns or specify the value of numeric_only to silence this warning.\n",
            "  display(df.corr(method ='pearson'))\n"
          ]
        },
        {
          "output_type": "display_data",
          "data": {
            "text/plain": [
              "                                 age   balance       day  duration  campaign  \\\n",
              "age                         1.000000  0.097783 -0.009120 -0.004648  0.004760   \n",
              "balance                     0.097783  1.000000  0.004503  0.021560 -0.014578   \n",
              "day                        -0.009120  0.004503  1.000000 -0.030206  0.162490   \n",
              "duration                   -0.004648  0.021560 -0.030206  1.000000 -0.084570   \n",
              "campaign                    0.004760 -0.014578  0.162490 -0.084570  1.000000   \n",
              "days_from_last_contact     -0.107863 -0.108122 -0.090095 -0.024407  0.050534   \n",
              "previous_campaign_contacts  0.001288  0.016674 -0.051710  0.001203 -0.032855   \n",
              "\n",
              "                            days_from_last_contact  previous_campaign_contacts  \n",
              "age                                      -0.107863                    0.001288  \n",
              "balance                                  -0.108122                    0.016674  \n",
              "day                                      -0.090095                   -0.051710  \n",
              "duration                                 -0.024407                    0.001203  \n",
              "campaign                                  0.050534                   -0.032855  \n",
              "days_from_last_contact                    1.000000                   -0.021885  \n",
              "previous_campaign_contacts               -0.021885                    1.000000  "
            ],
            "text/html": [
              "\n",
              "  <div id=\"df-7ceda1e6-b39f-4f3f-97a4-048bac20fb1f\">\n",
              "    <div class=\"colab-df-container\">\n",
              "      <div>\n",
              "<style scoped>\n",
              "    .dataframe tbody tr th:only-of-type {\n",
              "        vertical-align: middle;\n",
              "    }\n",
              "\n",
              "    .dataframe tbody tr th {\n",
              "        vertical-align: top;\n",
              "    }\n",
              "\n",
              "    .dataframe thead th {\n",
              "        text-align: right;\n",
              "    }\n",
              "</style>\n",
              "<table border=\"1\" class=\"dataframe\">\n",
              "  <thead>\n",
              "    <tr style=\"text-align: right;\">\n",
              "      <th></th>\n",
              "      <th>age</th>\n",
              "      <th>balance</th>\n",
              "      <th>day</th>\n",
              "      <th>duration</th>\n",
              "      <th>campaign</th>\n",
              "      <th>days_from_last_contact</th>\n",
              "      <th>previous_campaign_contacts</th>\n",
              "    </tr>\n",
              "  </thead>\n",
              "  <tbody>\n",
              "    <tr>\n",
              "      <th>age</th>\n",
              "      <td>1.000000</td>\n",
              "      <td>0.097783</td>\n",
              "      <td>-0.009120</td>\n",
              "      <td>-0.004648</td>\n",
              "      <td>0.004760</td>\n",
              "      <td>-0.107863</td>\n",
              "      <td>0.001288</td>\n",
              "    </tr>\n",
              "    <tr>\n",
              "      <th>balance</th>\n",
              "      <td>0.097783</td>\n",
              "      <td>1.000000</td>\n",
              "      <td>0.004503</td>\n",
              "      <td>0.021560</td>\n",
              "      <td>-0.014578</td>\n",
              "      <td>-0.108122</td>\n",
              "      <td>0.016674</td>\n",
              "    </tr>\n",
              "    <tr>\n",
              "      <th>day</th>\n",
              "      <td>-0.009120</td>\n",
              "      <td>0.004503</td>\n",
              "      <td>1.000000</td>\n",
              "      <td>-0.030206</td>\n",
              "      <td>0.162490</td>\n",
              "      <td>-0.090095</td>\n",
              "      <td>-0.051710</td>\n",
              "    </tr>\n",
              "    <tr>\n",
              "      <th>duration</th>\n",
              "      <td>-0.004648</td>\n",
              "      <td>0.021560</td>\n",
              "      <td>-0.030206</td>\n",
              "      <td>1.000000</td>\n",
              "      <td>-0.084570</td>\n",
              "      <td>-0.024407</td>\n",
              "      <td>0.001203</td>\n",
              "    </tr>\n",
              "    <tr>\n",
              "      <th>campaign</th>\n",
              "      <td>0.004760</td>\n",
              "      <td>-0.014578</td>\n",
              "      <td>0.162490</td>\n",
              "      <td>-0.084570</td>\n",
              "      <td>1.000000</td>\n",
              "      <td>0.050534</td>\n",
              "      <td>-0.032855</td>\n",
              "    </tr>\n",
              "    <tr>\n",
              "      <th>days_from_last_contact</th>\n",
              "      <td>-0.107863</td>\n",
              "      <td>-0.108122</td>\n",
              "      <td>-0.090095</td>\n",
              "      <td>-0.024407</td>\n",
              "      <td>0.050534</td>\n",
              "      <td>1.000000</td>\n",
              "      <td>-0.021885</td>\n",
              "    </tr>\n",
              "    <tr>\n",
              "      <th>previous_campaign_contacts</th>\n",
              "      <td>0.001288</td>\n",
              "      <td>0.016674</td>\n",
              "      <td>-0.051710</td>\n",
              "      <td>0.001203</td>\n",
              "      <td>-0.032855</td>\n",
              "      <td>-0.021885</td>\n",
              "      <td>1.000000</td>\n",
              "    </tr>\n",
              "  </tbody>\n",
              "</table>\n",
              "</div>\n",
              "      <button class=\"colab-df-convert\" onclick=\"convertToInteractive('df-7ceda1e6-b39f-4f3f-97a4-048bac20fb1f')\"\n",
              "              title=\"Convert this dataframe to an interactive table.\"\n",
              "              style=\"display:none;\">\n",
              "        \n",
              "  <svg xmlns=\"http://www.w3.org/2000/svg\" height=\"24px\"viewBox=\"0 0 24 24\"\n",
              "       width=\"24px\">\n",
              "    <path d=\"M0 0h24v24H0V0z\" fill=\"none\"/>\n",
              "    <path d=\"M18.56 5.44l.94 2.06.94-2.06 2.06-.94-2.06-.94-.94-2.06-.94 2.06-2.06.94zm-11 1L8.5 8.5l.94-2.06 2.06-.94-2.06-.94L8.5 2.5l-.94 2.06-2.06.94zm10 10l.94 2.06.94-2.06 2.06-.94-2.06-.94-.94-2.06-.94 2.06-2.06.94z\"/><path d=\"M17.41 7.96l-1.37-1.37c-.4-.4-.92-.59-1.43-.59-.52 0-1.04.2-1.43.59L10.3 9.45l-7.72 7.72c-.78.78-.78 2.05 0 2.83L4 21.41c.39.39.9.59 1.41.59.51 0 1.02-.2 1.41-.59l7.78-7.78 2.81-2.81c.8-.78.8-2.07 0-2.86zM5.41 20L4 18.59l7.72-7.72 1.47 1.35L5.41 20z\"/>\n",
              "  </svg>\n",
              "      </button>\n",
              "      \n",
              "  <style>\n",
              "    .colab-df-container {\n",
              "      display:flex;\n",
              "      flex-wrap:wrap;\n",
              "      gap: 12px;\n",
              "    }\n",
              "\n",
              "    .colab-df-convert {\n",
              "      background-color: #E8F0FE;\n",
              "      border: none;\n",
              "      border-radius: 50%;\n",
              "      cursor: pointer;\n",
              "      display: none;\n",
              "      fill: #1967D2;\n",
              "      height: 32px;\n",
              "      padding: 0 0 0 0;\n",
              "      width: 32px;\n",
              "    }\n",
              "\n",
              "    .colab-df-convert:hover {\n",
              "      background-color: #E2EBFA;\n",
              "      box-shadow: 0px 1px 2px rgba(60, 64, 67, 0.3), 0px 1px 3px 1px rgba(60, 64, 67, 0.15);\n",
              "      fill: #174EA6;\n",
              "    }\n",
              "\n",
              "    [theme=dark] .colab-df-convert {\n",
              "      background-color: #3B4455;\n",
              "      fill: #D2E3FC;\n",
              "    }\n",
              "\n",
              "    [theme=dark] .colab-df-convert:hover {\n",
              "      background-color: #434B5C;\n",
              "      box-shadow: 0px 1px 3px 1px rgba(0, 0, 0, 0.15);\n",
              "      filter: drop-shadow(0px 1px 2px rgba(0, 0, 0, 0.3));\n",
              "      fill: #FFFFFF;\n",
              "    }\n",
              "  </style>\n",
              "\n",
              "      <script>\n",
              "        const buttonEl =\n",
              "          document.querySelector('#df-7ceda1e6-b39f-4f3f-97a4-048bac20fb1f button.colab-df-convert');\n",
              "        buttonEl.style.display =\n",
              "          google.colab.kernel.accessAllowed ? 'block' : 'none';\n",
              "\n",
              "        async function convertToInteractive(key) {\n",
              "          const element = document.querySelector('#df-7ceda1e6-b39f-4f3f-97a4-048bac20fb1f');\n",
              "          const dataTable =\n",
              "            await google.colab.kernel.invokeFunction('convertToInteractive',\n",
              "                                                     [key], {});\n",
              "          if (!dataTable) return;\n",
              "\n",
              "          const docLinkHtml = 'Like what you see? Visit the ' +\n",
              "            '<a target=\"_blank\" href=https://colab.research.google.com/notebooks/data_table.ipynb>data table notebook</a>'\n",
              "            + ' to learn more about interactive tables.';\n",
              "          element.innerHTML = '';\n",
              "          dataTable['output_type'] = 'display_data';\n",
              "          await google.colab.output.renderOutput(dataTable, element);\n",
              "          const docLink = document.createElement('div');\n",
              "          docLink.innerHTML = docLinkHtml;\n",
              "          element.appendChild(docLink);\n",
              "        }\n",
              "      </script>\n",
              "    </div>\n",
              "  </div>\n",
              "  "
            ]
          },
          "metadata": {}
        }
      ],
      "source": [
        "display(df.corr(method ='pearson'))"
      ]
    },
    {
      "cell_type": "markdown",
      "metadata": {
        "id": "6xEIx4eFcZWl"
      },
      "source": [
        "## Mutual Information"
      ]
    },
    {
      "cell_type": "markdown",
      "metadata": {
        "id": "G2BJKABrcZWl"
      },
      "source": [
        "Calcalate the entropy of each of the attributes in the data. Which has the biggest entropy?"
      ]
    },
    {
      "cell_type": "code",
      "execution_count": null,
      "metadata": {
        "id": "ceSQak0NcZWl",
        "scrolled": true,
        "colab": {
          "base_uri": "https://localhost:8080/"
        },
        "outputId": "3c3a6892-ca5b-4d10-8f48-7b944dcc821c"
      },
      "outputs": [
        {
          "output_type": "stream",
          "name": "stdout",
          "text": [
            "Entropy of each attribute:\n",
            "age: 5.319965381108414\n",
            "job: 3.0553529819894245\n",
            "marital: 1.3152704429934163\n",
            "education: 1.61490199754348\n",
            "default_credit: 0.13021221197171914\n",
            "balance: 11.23729520562423\n",
            "housing_loan: 0.9909848414082717\n",
            "personal_loan: 0.6348511238851708\n",
            "contact: 1.1775253842799875\n",
            "day: 4.838726650233828\n",
            "month: 2.9373806700527285\n",
            "duration: 9.313764218181573\n",
            "campaign: 2.543397151935615\n",
            "days_from_last_contact: 8.185525133062727\n",
            "previous_campaign_contacts: 1.1954128174159337\n",
            "previous_campaign_outcome: 0.9370151397592825\n",
            "outcome: 0.5206312212538164\n",
            "The attribute with the largest entropy is balance.\n"
          ]
        }
      ],
      "source": [
        "entropies = {}\n",
        "for column in df.columns:\n",
        "    value_counts = df[column].value_counts(normalize=True)\n",
        "    entropy = -np.sum(value_counts * np.log2(value_counts))\n",
        "    entropies[column] = entropy\n",
        "largest_entropy_attribute = max(entropies, key=entropies.get)\n",
        "print(\"Entropy of each attribute:\")\n",
        "for attribute, entropy in entropies.items():\n",
        "    print(f\"{attribute}: {entropy}\")\n",
        "print(f\"The attribute with the largest entropy is {largest_entropy_attribute}.\")"
      ]
    },
    {
      "cell_type": "markdown",
      "metadata": {
        "id": "BLY4FT_0cZWl"
      },
      "source": [
        "Which attribute has the highest Mutual Information with the 'outcome' attribute?"
      ]
    },
    {
      "cell_type": "code",
      "execution_count": null,
      "metadata": {
        "id": "K4fmesoZcZWl",
        "scrolled": true,
        "colab": {
          "base_uri": "https://localhost:8080/"
        },
        "outputId": "e25d1dfc-4e42-4c24-b983-51a5844de514"
      },
      "outputs": [
        {
          "output_type": "stream",
          "name": "stdout",
          "text": [
            "The function does not handle NaN values, so we dropped all the rows with NaN values. \n",
            "\n",
            "age                           0.020368\n",
            "job                           0.023300\n",
            "marital                       0.001239\n",
            "education                     0.006569\n",
            "default_credit                0.000491\n",
            "balance                       0.250659\n",
            "housing_loan                  0.049283\n",
            "personal_loan                 0.007732\n",
            "contact                       0.000127\n",
            "day                           0.032625\n",
            "month                         0.060376\n",
            "duration                      0.153781\n",
            "campaign                      0.005939\n",
            "days_from_last_contact        0.118423\n",
            "previous_campaign_contacts    0.004476\n",
            "previous_campaign_outcome     0.095574\n",
            "outcome                       0.540137\n",
            "dtype: float64\n",
            "\n",
            "'balance' attribute has the highest Mutual Information with 'outcome'\n"
          ]
        }
      ],
      "source": [
        "# Hint: try to find a function from the sklearn.metrics that fits the needs of the question\n",
        "\n",
        "import sklearn.metrics\n",
        "print(\"The function does not handle NaN values, so we dropped all the rows with NaN values. \\n\")\n",
        "data = df.dropna()\n",
        "mutual_info_outcome = data.apply(lambda x: sklearn.metrics.mutual_info_score(data[\"outcome\"], x))\n",
        "print (mutual_info_outcome)\n",
        "\n",
        "print (\"\\n'balance' attribute has the highest Mutual Information with 'outcome'\")"
      ]
    },
    {
      "cell_type": "markdown",
      "metadata": {
        "id": "dirW5mZScZWl"
      },
      "source": [
        "# Q4"
      ]
    },
    {
      "cell_type": "markdown",
      "metadata": {
        "id": "xEEvZl8GcZWm"
      },
      "source": [
        "## Outliers"
      ]
    },
    {
      "cell_type": "markdown",
      "metadata": {
        "id": "74SBpsxqcZWm"
      },
      "source": [
        "Does the campaign column in the table have any outliers? Support your claim with a relevant plot."
      ]
    },
    {
      "cell_type": "code",
      "execution_count": null,
      "metadata": {
        "id": "mtuN3HysA79H",
        "colab": {
          "base_uri": "https://localhost:8080/",
          "height": 777
        },
        "outputId": "f33f6568-4687-4916-a7c9-26f8f2e1971a"
      },
      "outputs": [
        {
          "output_type": "stream",
          "name": "stdout",
          "text": [
            "Yes. As shown below, The mean value is 2.7638 And the max value is 63.\n",
            "There is a big differance between the two, so it's probably an outlier. \n",
            "\n"
          ]
        },
        {
          "output_type": "display_data",
          "data": {
            "text/plain": [
              "count    45211.000000\n",
              "mean         2.763841\n",
              "std          3.098021\n",
              "min          1.000000\n",
              "25%          1.000000\n",
              "50%          2.000000\n",
              "75%          3.000000\n",
              "max         63.000000\n",
              "Name: campaign, dtype: float64"
            ]
          },
          "metadata": {}
        },
        {
          "output_type": "stream",
          "name": "stdout",
          "text": [
            "Let's see: \n",
            "\n"
          ]
        },
        {
          "output_type": "display_data",
          "data": {
            "text/plain": [
              "<Figure size 640x480 with 1 Axes>"
            ],
            "image/png": "[encoded data removed]"
          },
          "metadata": {}
        },
        {
          "output_type": "stream",
          "name": "stdout",
          "text": [
            "We can see some outliers (the dots on the right) \n",
            "\n",
            "Now let's see how many rows will be left if we filter the rows which include values further than 2 std deviations from the mean.\n",
            "The number of rows: 43422\n",
            "And how many rows there are in the original DF? 45211\n",
            "Meaning we found 1789 outliers!\n"
          ]
        }
      ],
      "source": [
        "import matplotlib.pyplot as plt\n",
        "df = pd.read_csv(\"bank-full_2016.csv\")\n",
        "\n",
        "# Does the campaign column in the table have any outliers?\n",
        "print(\"Yes. As shown below, The mean value is 2.7638 And the max value is 63.\")\n",
        "print(\"There is a big differance between the two, so it's probably an outlier. \\n\")\n",
        "display(df.campaign.describe())\n",
        "\n",
        "print(\"Let's see: \\n\")\n",
        "df.boxplot(vert = False, column=[\"campaign\"])\n",
        "plt.show()\n",
        "print(\"We can see some outliers (the dots on the right) \\n\")\n",
        "print(\"Now let's see how many rows will be left if we filter the rows which include values further than 2 std deviations from the mean.\")\n",
        "print(\"The number of rows:\", len(df[np.abs(df.campaign - df.campaign.mean()) <= (2 * df.campaign.std())].index))\n",
        "print(\"And how many rows there are in the original DF?\", len(df.index))\n",
        "print(\"Meaning we found 1789 outliers!\")\n",
        "\n"
      ]
    },
    {
      "cell_type": "markdown",
      "metadata": {
        "id": "BGsRCaDAcZWm"
      },
      "source": [
        "## Normalization - Bonus"
      ]
    },
    {
      "cell_type": "markdown",
      "metadata": {
        "id": "bIQucI6WcZWm"
      },
      "source": [
        "Think of an appropriate normalization method and normalize the days_from_last_contact column in the table. Why did you choose this method?"
      ]
    },
    {
      "cell_type": "code",
      "execution_count": null,
      "metadata": {
        "id": "c4RGlu_PcZWm",
        "tags": [],
        "colab": {
          "base_uri": "https://localhost:8080/",
          "height": 930
        },
        "outputId": "aa2c1fe7-07cb-4b7f-d99b-047fdf30a0c0"
      },
      "outputs": [
        {
          "output_type": "stream",
          "name": "stdout",
          "text": [
            "Let's look at this column histogram:\n"
          ]
        },
        {
          "output_type": "display_data",
          "data": {
            "text/plain": [
              "<Figure size 640x480 with 1 Axes>"
            ],
            "image/png": "[encoded data removed]"
          },
          "metadata": {}
        },
        {
          "output_type": "stream",
          "name": "stdout",
          "text": [
            "We can see that the data is skewed (right leaning curve).\n",
            "So as we learned, we will want to use the log normalization.\n",
            "Also, we can see that the entropy of the data is low, and that the distribution is approximatly a mixture of three normal ditributions.\n",
            "So we will use the log normalization and then the Z normalization.\n"
          ]
        },
        {
          "output_type": "display_data",
          "data": {
            "text/plain": [
              "<Figure size 640x480 with 1 Axes>"
            ],
            "image/png": "[encoded data removed]"
          },
          "metadata": {}
        }
      ],
      "source": [
        "print(\"Let's look at this column histogram:\")\n",
        "df[\"days_from_last_contact\"].hist(bins=70)\n",
        "plt.show()\n",
        "print(\"We can see that the data is skewed (right leaning curve).\")\n",
        "print(\"So as we learned, we will want to use the log normalization.\")\n",
        "print(\"Also, we can see that the entropy of the data is low, and that the distribution is approximatly a mixture of three normal ditributions.\")\n",
        "print(\"So we will use the log normalization and then the Z normalization.\")\n",
        "\n",
        "days_from_last_contact_log = np.log2(df[\"days_from_last_contact\"])\n",
        "mean = np.mean(days_from_last_contact_log)\n",
        "std = np.std(days_from_last_contact_log)\n",
        "days_from_last_contact_log_norm = (days_from_last_contact_log - mean)/std\n",
        "days_from_last_contact_log_norm.hist(bins=70)\n",
        "plt.show()"
      ]
    },
    {
      "cell_type": "code",
      "execution_count": null,
      "metadata": {
        "id": "1XAVWaA1xu1-"
      },
      "outputs": [],
      "source": []
    }
  ],
  "metadata": {
    "anaconda-cloud": {},
    "colab": {
      "provenance": []
    },
    "kernelspec": {
      "display_name": "anaconda-2022.05-py39",
      "language": "python",
      "name": "conda-env-anaconda-2022.05-py39-py"
    },
    "language_info": {
      "codemirror_mode": {
        "name": "ipython",
        "version": 3
      },
      "file_extension": ".py",
      "mimetype": "text/x-python",
      "name": "python",
      "nbconvert_exporter": "python",
      "pygments_lexer": "ipython3",
      "version": "3.9.12"
    }
  },
  "nbformat": 4,
  "nbformat_minor": 0
}