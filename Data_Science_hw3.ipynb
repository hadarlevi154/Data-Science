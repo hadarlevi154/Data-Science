{
  "cells": [
    {
      "cell_type": "markdown",
      "id": "80620137",
      "metadata": {
        "id": "80620137"
      },
      "source": [
        "Since the HW grading is done in a semi-automatic manner, please adhere to the following naming format for your submission.\n",
        "Each group of students (mostly pairs, with some approved exceptions) should submit a Zip file, whose name is the underscored-separated id list of all the submitters. For example, for two submitters, the naming format is: id1_id2.zip.\n",
        "The ZIP file should contain:\n",
        "1. Jupyter notebook (.ipynb file and not a .zip file) whose name is the underscored-separated id list of all the submitters. For example, for two submitters, the naming format is: id1_id2.ipynb.\n",
        "2. Python File (map-reduce part, .py file) whose name is the underscored-separated id list of all the submitters. For example, for two submitters, the naming format is: id1_id2.py."
      ]
    },
    {
      "cell_type": "code",
      "execution_count": 6,
      "id": "92f33078",
      "metadata": {
        "colab": {
          "base_uri": "https://localhost:8080/"
        },
        "id": "92f33078",
        "outputId": "6ee124e5-5084-4995-fded-ad092975596f"
      },
      "outputs": [
        {
          "output_type": "stream",
          "name": "stdout",
          "text": [
            "Looking in indexes: https://pypi.org/simple, https://us-python.pkg.dev/colab-wheels/public/simple/\n",
            "Collecting pyspark\n",
            "  Using cached pyspark-3.4.1.tar.gz (310.8 MB)\n",
            "  Preparing metadata (setup.py) ... \u001b[?25l\u001b[?25hdone\n",
            "Requirement already satisfied: py4j==0.10.9.7 in /usr/local/lib/python3.10/dist-packages (from pyspark) (0.10.9.7)\n",
            "Building wheels for collected packages: pyspark\n",
            "  Building wheel for pyspark (setup.py) ... \u001b[?25l\u001b[?25hdone\n",
            "  Created wheel for pyspark: filename=pyspark-3.4.1-py2.py3-none-any.whl size=311285398 sha256=69769827df0774cd149f8f139a0635e69d37ce952b92bf4c6f43ca1cee6905a7\n",
            "  Stored in directory: /root/.cache/pip/wheels/0d/77/a3/ff2f74cc9ab41f8f594dabf0579c2a7c6de920d584206e0834\n",
            "Successfully built pyspark\n",
            "Installing collected packages: pyspark\n",
            "Successfully installed pyspark-3.4.1\n"
          ]
        }
      ],
      "source": [
        "# install pyspark library (via pip install)\n",
        "# There is no need to set a local spark server.\n",
        "\n",
        "!pip install pyspark"
      ]
    },
    {
      "cell_type": "code",
      "execution_count": 7,
      "id": "2f5794d5",
      "metadata": {
        "id": "2f5794d5"
      },
      "outputs": [],
      "source": [
        "# run this command to make sure the versions of pyspark and your python match:\n",
        "import os\n",
        "import sys\n",
        "\n",
        "os.environ['PYSPARK_PYTHON'] = sys.executable\n",
        "os.environ['PYSPARK_DRIVER_PYTHON'] = sys.executable"
      ]
    },
    {
      "cell_type": "markdown",
      "id": "e5305d50",
      "metadata": {
        "id": "e5305d50"
      },
      "source": [
        "for each of the tasks bellow, make sure you add a print command at the end of the cell, to show the results (df.show(1))"
      ]
    },
    {
      "cell_type": "markdown",
      "id": "8b2fd9a1",
      "metadata": {
        "id": "8b2fd9a1"
      },
      "source": [
        "# Getting started:"
      ]
    },
    {
      "cell_type": "markdown",
      "id": "f70f7a4c",
      "metadata": {
        "id": "f70f7a4c"
      },
      "source": [
        "start a spark session"
      ]
    },
    {
      "cell_type": "code",
      "execution_count": 8,
      "id": "08ba8b79",
      "metadata": {
        "id": "08ba8b79"
      },
      "outputs": [],
      "source": [
        "from pyspark.sql import SparkSession\n",
        "name = '' #give a name to your app\n",
        "spark = SparkSession.builder.appName('{name}'.format(name=name)).getOrCreate()"
      ]
    },
    {
      "cell_type": "markdown",
      "id": "2e4b11ad",
      "metadata": {
        "id": "2e4b11ad"
      },
      "source": [
        "load the wine dataset:"
      ]
    },
    {
      "cell_type": "code",
      "execution_count": 9,
      "id": "5e8c3470",
      "metadata": {
        "id": "5e8c3470"
      },
      "outputs": [],
      "source": [
        "from sklearn.datasets import load_wine\n",
        "\n",
        "wine = load_wine()\n",
        "data = wine.data\n",
        "columns = list(wine.feature_names)"
      ]
    },
    {
      "cell_type": "markdown",
      "id": "26e7cf2b",
      "metadata": {
        "id": "26e7cf2b"
      },
      "source": [
        "create spark dataframe to contain the data and the columns names as it's schema\n",
        "\n",
        "\n",
        "\n"
      ]
    },
    {
      "cell_type": "code",
      "execution_count": 10,
      "id": "28d43493",
      "metadata": {
        "colab": {
          "base_uri": "https://localhost:8080/"
        },
        "id": "28d43493",
        "outputId": "5d6144f5-70e0-45f6-e244-d5aec0341404"
      },
      "outputs": [
        {
          "output_type": "stream",
          "name": "stdout",
          "text": [
            "+-------+----------+----+-----------------+---------+-------------+----------+--------------------+---------------+---------------+----+----------------------------+-------+\n",
            "|alcohol|malic_acid| ash|alcalinity_of_ash|magnesium|total_phenols|flavanoids|nonflavanoid_phenols|proanthocyanins|color_intensity| hue|od280/od315_of_diluted_wines|proline|\n",
            "+-------+----------+----+-----------------+---------+-------------+----------+--------------------+---------------+---------------+----+----------------------------+-------+\n",
            "|  14.23|      1.71|2.43|             15.6|    127.0|          2.8|      3.06|                0.28|           2.29|           5.64|1.04|                        3.92| 1065.0|\n",
            "|   13.2|      1.78|2.14|             11.2|    100.0|         2.65|      2.76|                0.26|           1.28|           4.38|1.05|                         3.4| 1050.0|\n",
            "|  13.16|      2.36|2.67|             18.6|    101.0|          2.8|      3.24|                 0.3|           2.81|           5.68|1.03|                        3.17| 1185.0|\n",
            "|  14.37|      1.95| 2.5|             16.8|    113.0|         3.85|      3.49|                0.24|           2.18|            7.8|0.86|                        3.45| 1480.0|\n",
            "|  13.24|      2.59|2.87|             21.0|    118.0|          2.8|      2.69|                0.39|           1.82|           4.32|1.04|                        2.93|  735.0|\n",
            "|   14.2|      1.76|2.45|             15.2|    112.0|         3.27|      3.39|                0.34|           1.97|           6.75|1.05|                        2.85| 1450.0|\n",
            "|  14.39|      1.87|2.45|             14.6|     96.0|          2.5|      2.52|                 0.3|           1.98|           5.25|1.02|                        3.58| 1290.0|\n",
            "|  14.06|      2.15|2.61|             17.6|    121.0|          2.6|      2.51|                0.31|           1.25|           5.05|1.06|                        3.58| 1295.0|\n",
            "|  14.83|      1.64|2.17|             14.0|     97.0|          2.8|      2.98|                0.29|           1.98|            5.2|1.08|                        2.85| 1045.0|\n",
            "|  13.86|      1.35|2.27|             16.0|     98.0|         2.98|      3.15|                0.22|           1.85|           7.22|1.01|                        3.55| 1045.0|\n",
            "|   14.1|      2.16| 2.3|             18.0|    105.0|         2.95|      3.32|                0.22|           2.38|           5.75|1.25|                        3.17| 1510.0|\n",
            "|  14.12|      1.48|2.32|             16.8|     95.0|          2.2|      2.43|                0.26|           1.57|            5.0|1.17|                        2.82| 1280.0|\n",
            "|  13.75|      1.73|2.41|             16.0|     89.0|          2.6|      2.76|                0.29|           1.81|            5.6|1.15|                         2.9| 1320.0|\n",
            "|  14.75|      1.73|2.39|             11.4|     91.0|          3.1|      3.69|                0.43|           2.81|            5.4|1.25|                        2.73| 1150.0|\n",
            "|  14.38|      1.87|2.38|             12.0|    102.0|          3.3|      3.64|                0.29|           2.96|            7.5| 1.2|                         3.0| 1547.0|\n",
            "|  13.63|      1.81| 2.7|             17.2|    112.0|         2.85|      2.91|                 0.3|           1.46|            7.3|1.28|                        2.88| 1310.0|\n",
            "|   14.3|      1.92|2.72|             20.0|    120.0|          2.8|      3.14|                0.33|           1.97|            6.2|1.07|                        2.65| 1280.0|\n",
            "|  13.83|      1.57|2.62|             20.0|    115.0|         2.95|       3.4|                 0.4|           1.72|            6.6|1.13|                        2.57| 1130.0|\n",
            "|  14.19|      1.59|2.48|             16.5|    108.0|          3.3|      3.93|                0.32|           1.86|            8.7|1.23|                        2.82| 1680.0|\n",
            "|  13.64|       3.1|2.56|             15.2|    116.0|          2.7|      3.03|                0.17|           1.66|            5.1|0.96|                        3.36|  845.0|\n",
            "+-------+----------+----+-----------------+---------+-------------+----------+--------------------+---------------+---------------+----+----------------------------+-------+\n",
            "only showing top 20 rows\n",
            "\n"
          ]
        }
      ],
      "source": [
        "df = spark.createDataFrame(data.tolist(), columns)\n",
        "df.show()"
      ]
    },
    {
      "cell_type": "markdown",
      "id": "43909afc",
      "metadata": {
        "id": "43909afc"
      },
      "source": [
        "preform 3 initial data exploration tasks that will help you understand your data better"
      ]
    },
    {
      "cell_type": "code",
      "execution_count": 11,
      "id": "403479cd",
      "metadata": {
        "colab": {
          "base_uri": "https://localhost:8080/"
        },
        "id": "403479cd",
        "outputId": "3d033c88-48f9-40ba-cb15-bbecf2b64dfa"
      },
      "outputs": [
        {
          "output_type": "stream",
          "name": "stdout",
          "text": [
            "+-------+------------------+------------------+------------------+------------------+-----------------+------------------+------------------+--------------------+------------------+------------------+-------------------+----------------------------+------------------+\n",
            "|summary|           alcohol|        malic_acid|               ash| alcalinity_of_ash|        magnesium|     total_phenols|        flavanoids|nonflavanoid_phenols|   proanthocyanins|   color_intensity|                hue|od280/od315_of_diluted_wines|           proline|\n",
            "+-------+------------------+------------------+------------------+------------------+-----------------+------------------+------------------+--------------------+------------------+------------------+-------------------+----------------------------+------------------+\n",
            "|  count|               178|               178|               178|               178|              178|               178|               178|                 178|               178|               178|                178|                         178|               178|\n",
            "|   mean|13.000617977528092|2.3363483146067408|2.3665168539325845|19.494943820224716|99.74157303370787| 2.295112359550562|2.0292696629213487|  0.3618539325842696|1.5908988764044945| 5.058089882022472| 0.9574494382022471|          2.6116853932584276| 746.8932584269663|\n",
            "| stddev|0.8118265380058592|1.1171460976144625|0.2743440090608147| 3.339563767173507|14.28248351529566|0.6258510488339889|0.9988586850169472|  0.1244533402966794|0.5723588626747611|2.3182858718224124|0.22857156582982352|          0.7099904287650503|314.90747427684926|\n",
            "|    min|             11.03|              0.74|              1.36|              10.6|             70.0|              0.98|              0.34|                0.13|              0.41|              1.28|               0.48|                        1.27|             278.0|\n",
            "|    max|             14.83|               5.8|              3.23|              30.0|            162.0|              3.88|              5.08|                0.66|              3.58|              13.0|               1.71|                         4.0|            1680.0|\n",
            "+-------+------------------+------------------+------------------+------------------+-----------------+------------------+------------------+--------------------+------------------+------------------+-------------------+----------------------------+------------------+\n",
            "\n"
          ]
        }
      ],
      "source": [
        "# Summary statistics\n",
        "df.describe().show()"
      ]
    },
    {
      "cell_type": "code",
      "execution_count": 12,
      "id": "67326eb4",
      "metadata": {
        "colab": {
          "base_uri": "https://localhost:8080/",
          "height": 807
        },
        "id": "67326eb4",
        "outputId": "88d3e0d4-50e9-4072-9e13-c8fd69ac80ec"
      },
      "outputs": [
        {
          "output_type": "display_data",
          "data": {
            "text/plain": [
              "<Figure size 1000x800 with 4 Axes>"
            ],
            "image/png": "[encoded data removed]"
          },
          "metadata": {}
        }
      ],
      "source": [
        "# Visualize some distributions using histograms\n",
        "import matplotlib.pyplot as plt\n",
        "\n",
        "df.select('alcohol', 'malic_acid', 'ash', 'alcalinity_of_ash').toPandas().hist(bins=15, figsize=(10, 8))\n",
        "plt.tight_layout()\n",
        "plt.show()"
      ]
    },
    {
      "cell_type": "code",
      "execution_count": 13,
      "id": "ec133e0d",
      "metadata": {
        "colab": {
          "base_uri": "https://localhost:8080/",
          "height": 521
        },
        "id": "ec133e0d",
        "outputId": "4f8dae24-bf2d-4592-905f-f37cfd0c5186"
      },
      "outputs": [
        {
          "output_type": "display_data",
          "data": {
            "text/plain": [
              "                               alcohol  malic_acid       ash  \\\n",
              "alcohol                       1.000000    0.094397  0.211545   \n",
              "malic_acid                    0.094397    1.000000  0.164045   \n",
              "ash                           0.211545    0.164045  1.000000   \n",
              "alcalinity_of_ash            -0.310235    0.288500  0.443367   \n",
              "magnesium                     0.270798   -0.054575  0.286587   \n",
              "total_phenols                 0.289101   -0.335167  0.128980   \n",
              "flavanoids                    0.236815   -0.411007  0.115077   \n",
              "nonflavanoid_phenols         -0.155929    0.292977  0.186230   \n",
              "proanthocyanins               0.136698   -0.220746  0.009652   \n",
              "color_intensity               0.546364    0.248985  0.258887   \n",
              "hue                          -0.071747   -0.561296 -0.074667   \n",
              "od280/od315_of_diluted_wines  0.072343   -0.368710  0.003911   \n",
              "proline                       0.643720   -0.192011  0.223626   \n",
              "\n",
              "                              alcalinity_of_ash  magnesium  total_phenols  \\\n",
              "alcohol                               -0.310235   0.270798       0.289101   \n",
              "malic_acid                             0.288500  -0.054575      -0.335167   \n",
              "ash                                    0.443367   0.286587       0.128980   \n",
              "alcalinity_of_ash                      1.000000  -0.083333      -0.321113   \n",
              "magnesium                             -0.083333   1.000000       0.214401   \n",
              "total_phenols                         -0.321113   0.214401       1.000000   \n",
              "flavanoids                            -0.351370   0.195784       0.864564   \n",
              "nonflavanoid_phenols                   0.361922  -0.256294      -0.449935   \n",
              "proanthocyanins                       -0.197327   0.236441       0.612413   \n",
              "color_intensity                        0.018732   0.199950      -0.055136   \n",
              "hue                                   -0.273955   0.055398       0.433681   \n",
              "od280/od315_of_diluted_wines          -0.276769   0.066004       0.699949   \n",
              "proline                               -0.440597   0.393351       0.498115   \n",
              "\n",
              "                              flavanoids  nonflavanoid_phenols  \\\n",
              "alcohol                         0.236815             -0.155929   \n",
              "malic_acid                     -0.411007              0.292977   \n",
              "ash                             0.115077              0.186230   \n",
              "alcalinity_of_ash              -0.351370              0.361922   \n",
              "magnesium                       0.195784             -0.256294   \n",
              "total_phenols                   0.864564             -0.449935   \n",
              "flavanoids                      1.000000             -0.537900   \n",
              "nonflavanoid_phenols           -0.537900              1.000000   \n",
              "proanthocyanins                 0.652692             -0.365845   \n",
              "color_intensity                -0.172379              0.139057   \n",
              "hue                             0.543479             -0.262640   \n",
              "od280/od315_of_diluted_wines    0.787194             -0.503270   \n",
              "proline                         0.494193             -0.311385   \n",
              "\n",
              "                              proanthocyanins  color_intensity       hue  \\\n",
              "alcohol                              0.136698         0.546364 -0.071747   \n",
              "malic_acid                          -0.220746         0.248985 -0.561296   \n",
              "ash                                  0.009652         0.258887 -0.074667   \n",
              "alcalinity_of_ash                   -0.197327         0.018732 -0.273955   \n",
              "magnesium                            0.236441         0.199950  0.055398   \n",
              "total_phenols                        0.612413        -0.055136  0.433681   \n",
              "flavanoids                           0.652692        -0.172379  0.543479   \n",
              "nonflavanoid_phenols                -0.365845         0.139057 -0.262640   \n",
              "proanthocyanins                      1.000000        -0.025250  0.295544   \n",
              "color_intensity                     -0.025250         1.000000 -0.521813   \n",
              "hue                                  0.295544        -0.521813  1.000000   \n",
              "od280/od315_of_diluted_wines         0.519067        -0.428815  0.565468   \n",
              "proline                              0.330417         0.316100  0.236183   \n",
              "\n",
              "                              od280/od315_of_diluted_wines   proline  \n",
              "alcohol                                           0.072343  0.643720  \n",
              "malic_acid                                       -0.368710 -0.192011  \n",
              "ash                                               0.003911  0.223626  \n",
              "alcalinity_of_ash                                -0.276769 -0.440597  \n",
              "magnesium                                         0.066004  0.393351  \n",
              "total_phenols                                     0.699949  0.498115  \n",
              "flavanoids                                        0.787194  0.494193  \n",
              "nonflavanoid_phenols                             -0.503270 -0.311385  \n",
              "proanthocyanins                                   0.519067  0.330417  \n",
              "color_intensity                                  -0.428815  0.316100  \n",
              "hue                                               0.565468  0.236183  \n",
              "od280/od315_of_diluted_wines                      1.000000  0.312761  \n",
              "proline                                           0.312761  1.000000  "
            ],
            "text/html": [
              "\n",
              "  <div id=\"df-c9f9b13e-14b4-4bfc-9787-a321f2631aaa\">\n",
              "    <div class=\"colab-df-container\">\n",
              "      <div>\n",
              "<style scoped>\n",
              "    .dataframe tbody tr th:only-of-type {\n",
              "        vertical-align: middle;\n",
              "    }\n",
              "\n",
              "    .dataframe tbody tr th {\n",
              "        vertical-align: top;\n",
              "    }\n",
              "\n",
              "    .dataframe thead th {\n",
              "        text-align: right;\n",
              "    }\n",
              "</style>\n",
              "<table border=\"1\" class=\"dataframe\">\n",
              "  <thead>\n",
              "    <tr style=\"text-align: right;\">\n",
              "      <th></th>\n",
              "      <th>alcohol</th>\n",
              "      <th>malic_acid</th>\n",
              "      <th>ash</th>\n",
              "      <th>alcalinity_of_ash</th>\n",
              "      <th>magnesium</th>\n",
              "      <th>total_phenols</th>\n",
              "      <th>flavanoids</th>\n",
              "      <th>nonflavanoid_phenols</th>\n",
              "      <th>proanthocyanins</th>\n",
              "      <th>color_intensity</th>\n",
              "      <th>hue</th>\n",
              "      <th>od280/od315_of_diluted_wines</th>\n",
              "      <th>proline</th>\n",
              "    </tr>\n",
              "  </thead>\n",
              "  <tbody>\n",
              "    <tr>\n",
              "      <th>alcohol</th>\n",
              "      <td>1.000000</td>\n",
              "      <td>0.094397</td>\n",
              "      <td>0.211545</td>\n",
              "      <td>-0.310235</td>\n",
              "      <td>0.270798</td>\n",
              "      <td>0.289101</td>\n",
              "      <td>0.236815</td>\n",
              "      <td>-0.155929</td>\n",
              "      <td>0.136698</td>\n",
              "      <td>0.546364</td>\n",
              "      <td>-0.071747</td>\n",
              "      <td>0.072343</td>\n",
              "      <td>0.643720</td>\n",
              "    </tr>\n",
              "    <tr>\n",
              "      <th>malic_acid</th>\n",
              "      <td>0.094397</td>\n",
              "      <td>1.000000</td>\n",
              "      <td>0.164045</td>\n",
              "      <td>0.288500</td>\n",
              "      <td>-0.054575</td>\n",
              "      <td>-0.335167</td>\n",
              "      <td>-0.411007</td>\n",
              "      <td>0.292977</td>\n",
              "      <td>-0.220746</td>\n",
              "      <td>0.248985</td>\n",
              "      <td>-0.561296</td>\n",
              "      <td>-0.368710</td>\n",
              "      <td>-0.192011</td>\n",
              "    </tr>\n",
              "    <tr>\n",
              "      <th>ash</th>\n",
              "      <td>0.211545</td>\n",
              "      <td>0.164045</td>\n",
              "      <td>1.000000</td>\n",
              "      <td>0.443367</td>\n",
              "      <td>0.286587</td>\n",
              "      <td>0.128980</td>\n",
              "      <td>0.115077</td>\n",
              "      <td>0.186230</td>\n",
              "      <td>0.009652</td>\n",
              "      <td>0.258887</td>\n",
              "      <td>-0.074667</td>\n",
              "      <td>0.003911</td>\n",
              "      <td>0.223626</td>\n",
              "    </tr>\n",
              "    <tr>\n",
              "      <th>alcalinity_of_ash</th>\n",
              "      <td>-0.310235</td>\n",
              "      <td>0.288500</td>\n",
              "      <td>0.443367</td>\n",
              "      <td>1.000000</td>\n",
              "      <td>-0.083333</td>\n",
              "      <td>-0.321113</td>\n",
              "      <td>-0.351370</td>\n",
              "      <td>0.361922</td>\n",
              "      <td>-0.197327</td>\n",
              "      <td>0.018732</td>\n",
              "      <td>-0.273955</td>\n",
              "      <td>-0.276769</td>\n",
              "      <td>-0.440597</td>\n",
              "    </tr>\n",
              "    <tr>\n",
              "      <th>magnesium</th>\n",
              "      <td>0.270798</td>\n",
              "      <td>-0.054575</td>\n",
              "      <td>0.286587</td>\n",
              "      <td>-0.083333</td>\n",
              "      <td>1.000000</td>\n",
              "      <td>0.214401</td>\n",
              "      <td>0.195784</td>\n",
              "      <td>-0.256294</td>\n",
              "      <td>0.236441</td>\n",
              "      <td>0.199950</td>\n",
              "      <td>0.055398</td>\n",
              "      <td>0.066004</td>\n",
              "      <td>0.393351</td>\n",
              "    </tr>\n",
              "    <tr>\n",
              "      <th>total_phenols</th>\n",
              "      <td>0.289101</td>\n",
              "      <td>-0.335167</td>\n",
              "      <td>0.128980</td>\n",
              "      <td>-0.321113</td>\n",
              "      <td>0.214401</td>\n",
              "      <td>1.000000</td>\n",
              "      <td>0.864564</td>\n",
              "      <td>-0.449935</td>\n",
              "      <td>0.612413</td>\n",
              "      <td>-0.055136</td>\n",
              "      <td>0.433681</td>\n",
              "      <td>0.699949</td>\n",
              "      <td>0.498115</td>\n",
              "    </tr>\n",
              "    <tr>\n",
              "      <th>flavanoids</th>\n",
              "      <td>0.236815</td>\n",
              "      <td>-0.411007</td>\n",
              "      <td>0.115077</td>\n",
              "      <td>-0.351370</td>\n",
              "      <td>0.195784</td>\n",
              "      <td>0.864564</td>\n",
              "      <td>1.000000</td>\n",
              "      <td>-0.537900</td>\n",
              "      <td>0.652692</td>\n",
              "      <td>-0.172379</td>\n",
              "      <td>0.543479</td>\n",
              "      <td>0.787194</td>\n",
              "      <td>0.494193</td>\n",
              "    </tr>\n",
              "    <tr>\n",
              "      <th>nonflavanoid_phenols</th>\n",
              "      <td>-0.155929</td>\n",
              "      <td>0.292977</td>\n",
              "      <td>0.186230</td>\n",
              "      <td>0.361922</td>\n",
              "      <td>-0.256294</td>\n",
              "      <td>-0.449935</td>\n",
              "      <td>-0.537900</td>\n",
              "      <td>1.000000</td>\n",
              "      <td>-0.365845</td>\n",
              "      <td>0.139057</td>\n",
              "      <td>-0.262640</td>\n",
              "      <td>-0.503270</td>\n",
              "      <td>-0.311385</td>\n",
              "    </tr>\n",
              "    <tr>\n",
              "      <th>proanthocyanins</th>\n",
              "      <td>0.136698</td>\n",
              "      <td>-0.220746</td>\n",
              "      <td>0.009652</td>\n",
              "      <td>-0.197327</td>\n",
              "      <td>0.236441</td>\n",
              "      <td>0.612413</td>\n",
              "      <td>0.652692</td>\n",
              "      <td>-0.365845</td>\n",
              "      <td>1.000000</td>\n",
              "      <td>-0.025250</td>\n",
              "      <td>0.295544</td>\n",
              "      <td>0.519067</td>\n",
              "      <td>0.330417</td>\n",
              "    </tr>\n",
              "    <tr>\n",
              "      <th>color_intensity</th>\n",
              "      <td>0.546364</td>\n",
              "      <td>0.248985</td>\n",
              "      <td>0.258887</td>\n",
              "      <td>0.018732</td>\n",
              "      <td>0.199950</td>\n",
              "      <td>-0.055136</td>\n",
              "      <td>-0.172379</td>\n",
              "      <td>0.139057</td>\n",
              "      <td>-0.025250</td>\n",
              "      <td>1.000000</td>\n",
              "      <td>-0.521813</td>\n",
              "      <td>-0.428815</td>\n",
              "      <td>0.316100</td>\n",
              "    </tr>\n",
              "    <tr>\n",
              "      <th>hue</th>\n",
              "      <td>-0.071747</td>\n",
              "      <td>-0.561296</td>\n",
              "      <td>-0.074667</td>\n",
              "      <td>-0.273955</td>\n",
              "      <td>0.055398</td>\n",
              "      <td>0.433681</td>\n",
              "      <td>0.543479</td>\n",
              "      <td>-0.262640</td>\n",
              "      <td>0.295544</td>\n",
              "      <td>-0.521813</td>\n",
              "      <td>1.000000</td>\n",
              "      <td>0.565468</td>\n",
              "      <td>0.236183</td>\n",
              "    </tr>\n",
              "    <tr>\n",
              "      <th>od280/od315_of_diluted_wines</th>\n",
              "      <td>0.072343</td>\n",
              "      <td>-0.368710</td>\n",
              "      <td>0.003911</td>\n",
              "      <td>-0.276769</td>\n",
              "      <td>0.066004</td>\n",
              "      <td>0.699949</td>\n",
              "      <td>0.787194</td>\n",
              "      <td>-0.503270</td>\n",
              "      <td>0.519067</td>\n",
              "      <td>-0.428815</td>\n",
              "      <td>0.565468</td>\n",
              "      <td>1.000000</td>\n",
              "      <td>0.312761</td>\n",
              "    </tr>\n",
              "    <tr>\n",
              "      <th>proline</th>\n",
              "      <td>0.643720</td>\n",
              "      <td>-0.192011</td>\n",
              "      <td>0.223626</td>\n",
              "      <td>-0.440597</td>\n",
              "      <td>0.393351</td>\n",
              "      <td>0.498115</td>\n",
              "      <td>0.494193</td>\n",
              "      <td>-0.311385</td>\n",
              "      <td>0.330417</td>\n",
              "      <td>0.316100</td>\n",
              "      <td>0.236183</td>\n",
              "      <td>0.312761</td>\n",
              "      <td>1.000000</td>\n",
              "    </tr>\n",
              "  </tbody>\n",
              "</table>\n",
              "</div>\n",
              "      <button class=\"colab-df-convert\" onclick=\"convertToInteractive('df-c9f9b13e-14b4-4bfc-9787-a321f2631aaa')\"\n",
              "              title=\"Convert this dataframe to an interactive table.\"\n",
              "              style=\"display:none;\">\n",
              "        \n",
              "  <svg xmlns=\"http://www.w3.org/2000/svg\" height=\"24px\"viewBox=\"0 0 24 24\"\n",
              "       width=\"24px\">\n",
              "    <path d=\"M0 0h24v24H0V0z\" fill=\"none\"/>\n",
              "    <path d=\"M18.56 5.44l.94 2.06.94-2.06 2.06-.94-2.06-.94-.94-2.06-.94 2.06-2.06.94zm-11 1L8.5 8.5l.94-2.06 2.06-.94-2.06-.94L8.5 2.5l-.94 2.06-2.06.94zm10 10l.94 2.06.94-2.06 2.06-.94-2.06-.94-.94-2.06-.94 2.06-2.06.94z\"/><path d=\"M17.41 7.96l-1.37-1.37c-.4-.4-.92-.59-1.43-.59-.52 0-1.04.2-1.43.59L10.3 9.45l-7.72 7.72c-.78.78-.78 2.05 0 2.83L4 21.41c.39.39.9.59 1.41.59.51 0 1.02-.2 1.41-.59l7.78-7.78 2.81-2.81c.8-.78.8-2.07 0-2.86zM5.41 20L4 18.59l7.72-7.72 1.47 1.35L5.41 20z\"/>\n",
              "  </svg>\n",
              "      </button>\n",
              "      \n",
              "  <style>\n",
              "    .colab-df-container {\n",
              "      display:flex;\n",
              "      flex-wrap:wrap;\n",
              "      gap: 12px;\n",
              "    }\n",
              "\n",
              "    .colab-df-convert {\n",
              "      background-color: #E8F0FE;\n",
              "      border: none;\n",
              "      border-radius: 50%;\n",
              "      cursor: pointer;\n",
              "      display: none;\n",
              "      fill: #1967D2;\n",
              "      height: 32px;\n",
              "      padding: 0 0 0 0;\n",
              "      width: 32px;\n",
              "    }\n",
              "\n",
              "    .colab-df-convert:hover {\n",
              "      background-color: #E2EBFA;\n",
              "      box-shadow: 0px 1px 2px rgba(60, 64, 67, 0.3), 0px 1px 3px 1px rgba(60, 64, 67, 0.15);\n",
              "      fill: #174EA6;\n",
              "    }\n",
              "\n",
              "    [theme=dark] .colab-df-convert {\n",
              "      background-color: #3B4455;\n",
              "      fill: #D2E3FC;\n",
              "    }\n",
              "\n",
              "    [theme=dark] .colab-df-convert:hover {\n",
              "      background-color: #434B5C;\n",
              "      box-shadow: 0px 1px 3px 1px rgba(0, 0, 0, 0.15);\n",
              "      filter: drop-shadow(0px 1px 2px rgba(0, 0, 0, 0.3));\n",
              "      fill: #FFFFFF;\n",
              "    }\n",
              "  </style>\n",
              "\n",
              "      <script>\n",
              "        const buttonEl =\n",
              "          document.querySelector('#df-c9f9b13e-14b4-4bfc-9787-a321f2631aaa button.colab-df-convert');\n",
              "        buttonEl.style.display =\n",
              "          google.colab.kernel.accessAllowed ? 'block' : 'none';\n",
              "\n",
              "        async function convertToInteractive(key) {\n",
              "          const element = document.querySelector('#df-c9f9b13e-14b4-4bfc-9787-a321f2631aaa');\n",
              "          const dataTable =\n",
              "            await google.colab.kernel.invokeFunction('convertToInteractive',\n",
              "                                                     [key], {});\n",
              "          if (!dataTable) return;\n",
              "\n",
              "          const docLinkHtml = 'Like what you see? Visit the ' +\n",
              "            '<a target=\"_blank\" href=https://colab.research.google.com/notebooks/data_table.ipynb>data table notebook</a>'\n",
              "            + ' to learn more about interactive tables.';\n",
              "          element.innerHTML = '';\n",
              "          dataTable['output_type'] = 'display_data';\n",
              "          await google.colab.output.renderOutput(dataTable, element);\n",
              "          const docLink = document.createElement('div');\n",
              "          docLink.innerHTML = docLinkHtml;\n",
              "          element.appendChild(docLink);\n",
              "        }\n",
              "      </script>\n",
              "    </div>\n",
              "  </div>\n",
              "  "
            ]
          },
          "metadata": {}
        }
      ],
      "source": [
        "#correlation\n",
        "\n",
        "import seaborn as sns\n",
        "\n",
        "corr_matrix = df.toPandas().corr()\n",
        "display(corr_matrix)\n"
      ]
    },
    {
      "cell_type": "markdown",
      "id": "6c49e372",
      "metadata": {
        "id": "6c49e372"
      },
      "source": [
        "# Data preparation tasks:"
      ]
    },
    {
      "cell_type": "markdown",
      "id": "873d9add",
      "metadata": {
        "id": "873d9add"
      },
      "source": [
        "preform the following data cleaning task:"
      ]
    },
    {
      "cell_type": "markdown",
      "id": "9598366d",
      "metadata": {
        "id": "9598366d"
      },
      "source": [
        "    1. rename the column \"Alcohol\" to \"ABV\"\n"
      ]
    },
    {
      "cell_type": "code",
      "execution_count": 14,
      "id": "417faa6e",
      "metadata": {
        "id": "417faa6e"
      },
      "outputs": [],
      "source": [
        "df = df.withColumnRenamed(\"Alcohol\", \"ABV\")"
      ]
    },
    {
      "cell_type": "markdown",
      "id": "b391ccf3",
      "metadata": {
        "id": "b391ccf3"
      },
      "source": [
        "    2. create a new column that will we be the standardization of column \"magnesium\". call it \"magnesium_stand\""
      ]
    },
    {
      "cell_type": "code",
      "execution_count": 15,
      "id": "aa0d1782",
      "metadata": {
        "colab": {
          "base_uri": "https://localhost:8080/"
        },
        "id": "aa0d1782",
        "outputId": "3c5cf71a-38a3-4df1-e8c5-a1f2bc6a3117"
      },
      "outputs": [
        {
          "output_type": "stream",
          "name": "stdout",
          "text": [
            "+-----+----------+----+-----------------+---------+-------------+----------+--------------------+---------------+---------------+----+----------------------------+-------+--------------------+\n",
            "|  ABV|malic_acid| ash|alcalinity_of_ash|magnesium|total_phenols|flavanoids|nonflavanoid_phenols|proanthocyanins|color_intensity| hue|od280/od315_of_diluted_wines|proline|     magnesium_stand|\n",
            "+-----+----------+----+-----------------+---------+-------------+----------+--------------------+---------------+---------------+----+----------------------------+-------+--------------------+\n",
            "|14.23|      1.71|2.43|             15.6|    127.0|          2.8|      3.06|                0.28|           2.29|           5.64|1.04|                        3.92| 1065.0| [8.892010963218745]|\n",
            "| 13.2|      1.78|2.14|             11.2|    100.0|         2.65|      2.76|                0.26|           1.28|           4.38|1.05|                         3.4| 1050.0|  [7.00158343560531]|\n",
            "|13.16|      2.36|2.67|             18.6|    101.0|          2.8|      3.24|                 0.3|           2.81|           5.68|1.03|                        3.17| 1185.0|[7.0715992699613635]|\n",
            "|14.37|      1.95| 2.5|             16.8|    113.0|         3.85|      3.49|                0.24|           2.18|            7.8|0.86|                        3.45| 1480.0|    [7.911789282234]|\n",
            "|13.24|      2.59|2.87|             21.0|    118.0|          2.8|      2.69|                0.39|           1.82|           4.32|1.04|                        2.93|  735.0| [8.261868454014266]|\n",
            "| 14.2|      1.76|2.45|             15.2|    112.0|         3.27|      3.39|                0.34|           1.97|           6.75|1.05|                        2.85| 1450.0| [7.841773447877948]|\n",
            "|14.39|      1.87|2.45|             14.6|     96.0|          2.5|      2.52|                 0.3|           1.98|           5.25|1.02|                        3.58| 1290.0| [6.721520098181098]|\n",
            "|14.06|      2.15|2.61|             17.6|    121.0|          2.6|      2.51|                0.31|           1.25|           5.05|1.06|                        3.58| 1295.0| [8.471915957082425]|\n",
            "|14.83|      1.64|2.17|             14.0|     97.0|          2.8|      2.98|                0.29|           1.98|            5.2|1.08|                        2.85| 1045.0| [6.791535932537151]|\n",
            "|13.86|      1.35|2.27|             16.0|     98.0|         2.98|      3.15|                0.22|           1.85|           7.22|1.01|                        3.55| 1045.0|[6.8615517668932045]|\n",
            "| 14.1|      2.16| 2.3|             18.0|    105.0|         2.95|      3.32|                0.22|           2.38|           5.75|1.25|                        3.17| 1510.0| [7.351662607385576]|\n",
            "|14.12|      1.48|2.32|             16.8|     95.0|          2.2|      2.43|                0.26|           1.57|            5.0|1.17|                        2.82| 1280.0| [6.651504263825045]|\n",
            "|13.75|      1.73|2.41|             16.0|     89.0|          2.6|      2.76|                0.29|           1.81|            5.6|1.15|                         2.9| 1320.0|[6.2314092576887266]|\n",
            "|14.75|      1.73|2.39|             11.4|     91.0|          3.1|      3.69|                0.43|           2.81|            5.4|1.25|                        2.73| 1150.0| [6.371440926400832]|\n",
            "|14.38|      1.87|2.38|             12.0|    102.0|          3.3|      3.64|                0.29|           2.96|            7.5| 1.2|                         3.0| 1547.0| [7.141615104317417]|\n",
            "|13.63|      1.81| 2.7|             17.2|    112.0|         2.85|      2.91|                 0.3|           1.46|            7.3|1.28|                        2.88| 1310.0| [7.841773447877948]|\n",
            "| 14.3|      1.92|2.72|             20.0|    120.0|          2.8|      3.14|                0.33|           1.97|            6.2|1.07|                        2.65| 1280.0| [8.401900122726373]|\n",
            "|13.83|      1.57|2.62|             20.0|    115.0|         2.95|       3.4|                 0.4|           1.72|            6.6|1.13|                        2.57| 1130.0| [8.051820950946107]|\n",
            "|14.19|      1.59|2.48|             16.5|    108.0|          3.3|      3.93|                0.32|           1.86|            8.7|1.23|                        2.82| 1680.0| [7.561710110453735]|\n",
            "|13.64|       3.1|2.56|             15.2|    116.0|          2.7|      3.03|                0.17|           1.66|            5.1|0.96|                        3.36|  845.0|  [8.12183678530216]|\n",
            "+-----+----------+----+-----------------+---------+-------------+----------+--------------------+---------------+---------------+----+----------------------------+-------+--------------------+\n",
            "only showing top 20 rows\n",
            "\n"
          ]
        }
      ],
      "source": [
        "from pyspark.ml.feature import StandardScaler\n",
        "from pyspark.ml import Pipeline\n",
        "from pyspark.ml.feature import VectorAssembler\n",
        "\n",
        "assembler = VectorAssembler(inputCols=[\"magnesium\"], outputCol=\"magnesium_features\")\n",
        "scaler = StandardScaler(inputCol=\"magnesium_features\", outputCol=\"magnesium_stand\")\n",
        "pipeline = Pipeline(stages=[assembler, scaler])\n",
        "updated_df = pipeline.fit(df).transform(df).drop(\"magnesium_features\")\n",
        "updated_df.show()\n",
        "\n"
      ]
    },
    {
      "cell_type": "markdown",
      "id": "8bac4aee",
      "metadata": {
        "id": "8bac4aee"
      },
      "source": [
        "    3. create a new column that will be valued 1 (and 0 otherwise) if the alcohol rate exceeds 14 (including) and color_intensity exceeds 6. call it \"col_intense\"."
      ]
    },
    {
      "cell_type": "code",
      "execution_count": 16,
      "id": "d1152f1c",
      "metadata": {
        "colab": {
          "base_uri": "https://localhost:8080/"
        },
        "id": "d1152f1c",
        "outputId": "cafcddc0-6c64-4c49-a125-71a433f08124"
      },
      "outputs": [
        {
          "output_type": "stream",
          "name": "stdout",
          "text": [
            "+-----+----------+----+-----------------+---------+-------------+----------+--------------------+---------------+---------------+----+----------------------------+-------+--------------------+-----------+\n",
            "|  ABV|malic_acid| ash|alcalinity_of_ash|magnesium|total_phenols|flavanoids|nonflavanoid_phenols|proanthocyanins|color_intensity| hue|od280/od315_of_diluted_wines|proline|     magnesium_stand|col_intense|\n",
            "+-----+----------+----+-----------------+---------+-------------+----------+--------------------+---------------+---------------+----+----------------------------+-------+--------------------+-----------+\n",
            "|14.23|      1.71|2.43|             15.6|    127.0|          2.8|      3.06|                0.28|           2.29|           5.64|1.04|                        3.92| 1065.0| [8.892010963218745]|          0|\n",
            "| 13.2|      1.78|2.14|             11.2|    100.0|         2.65|      2.76|                0.26|           1.28|           4.38|1.05|                         3.4| 1050.0|  [7.00158343560531]|          0|\n",
            "|13.16|      2.36|2.67|             18.6|    101.0|          2.8|      3.24|                 0.3|           2.81|           5.68|1.03|                        3.17| 1185.0|[7.0715992699613635]|          0|\n",
            "|14.37|      1.95| 2.5|             16.8|    113.0|         3.85|      3.49|                0.24|           2.18|            7.8|0.86|                        3.45| 1480.0|    [7.911789282234]|          1|\n",
            "|13.24|      2.59|2.87|             21.0|    118.0|          2.8|      2.69|                0.39|           1.82|           4.32|1.04|                        2.93|  735.0| [8.261868454014266]|          0|\n",
            "| 14.2|      1.76|2.45|             15.2|    112.0|         3.27|      3.39|                0.34|           1.97|           6.75|1.05|                        2.85| 1450.0| [7.841773447877948]|          1|\n",
            "|14.39|      1.87|2.45|             14.6|     96.0|          2.5|      2.52|                 0.3|           1.98|           5.25|1.02|                        3.58| 1290.0| [6.721520098181098]|          0|\n",
            "|14.06|      2.15|2.61|             17.6|    121.0|          2.6|      2.51|                0.31|           1.25|           5.05|1.06|                        3.58| 1295.0| [8.471915957082425]|          0|\n",
            "|14.83|      1.64|2.17|             14.0|     97.0|          2.8|      2.98|                0.29|           1.98|            5.2|1.08|                        2.85| 1045.0| [6.791535932537151]|          0|\n",
            "|13.86|      1.35|2.27|             16.0|     98.0|         2.98|      3.15|                0.22|           1.85|           7.22|1.01|                        3.55| 1045.0|[6.8615517668932045]|          0|\n",
            "| 14.1|      2.16| 2.3|             18.0|    105.0|         2.95|      3.32|                0.22|           2.38|           5.75|1.25|                        3.17| 1510.0| [7.351662607385576]|          0|\n",
            "|14.12|      1.48|2.32|             16.8|     95.0|          2.2|      2.43|                0.26|           1.57|            5.0|1.17|                        2.82| 1280.0| [6.651504263825045]|          0|\n",
            "|13.75|      1.73|2.41|             16.0|     89.0|          2.6|      2.76|                0.29|           1.81|            5.6|1.15|                         2.9| 1320.0|[6.2314092576887266]|          0|\n",
            "|14.75|      1.73|2.39|             11.4|     91.0|          3.1|      3.69|                0.43|           2.81|            5.4|1.25|                        2.73| 1150.0| [6.371440926400832]|          0|\n",
            "|14.38|      1.87|2.38|             12.0|    102.0|          3.3|      3.64|                0.29|           2.96|            7.5| 1.2|                         3.0| 1547.0| [7.141615104317417]|          1|\n",
            "|13.63|      1.81| 2.7|             17.2|    112.0|         2.85|      2.91|                 0.3|           1.46|            7.3|1.28|                        2.88| 1310.0| [7.841773447877948]|          0|\n",
            "| 14.3|      1.92|2.72|             20.0|    120.0|          2.8|      3.14|                0.33|           1.97|            6.2|1.07|                        2.65| 1280.0| [8.401900122726373]|          1|\n",
            "|13.83|      1.57|2.62|             20.0|    115.0|         2.95|       3.4|                 0.4|           1.72|            6.6|1.13|                        2.57| 1130.0| [8.051820950946107]|          0|\n",
            "|14.19|      1.59|2.48|             16.5|    108.0|          3.3|      3.93|                0.32|           1.86|            8.7|1.23|                        2.82| 1680.0| [7.561710110453735]|          1|\n",
            "|13.64|       3.1|2.56|             15.2|    116.0|          2.7|      3.03|                0.17|           1.66|            5.1|0.96|                        3.36|  845.0|  [8.12183678530216]|          0|\n",
            "+-----+----------+----+-----------------+---------+-------------+----------+--------------------+---------------+---------------+----+----------------------------+-------+--------------------+-----------+\n",
            "only showing top 20 rows\n",
            "\n"
          ]
        }
      ],
      "source": [
        "from pyspark.sql.functions import col, when\n",
        "\n",
        "updated_df = updated_df.withColumn(\"col_intense\", when((col(\"ABV\") >= 14) & (col(\"color_intensity\") > 6), 1).otherwise(0))\n",
        "\n",
        "updated_df.show()"
      ]
    },
    {
      "cell_type": "markdown",
      "id": "0dca2558",
      "metadata": {
        "id": "0dca2558"
      },
      "source": [
        "We will load the labels of the data above:"
      ]
    },
    {
      "cell_type": "code",
      "execution_count": 17,
      "id": "8382ea19",
      "metadata": {
        "id": "8382ea19"
      },
      "outputs": [],
      "source": [
        "target = wine.target\n",
        "column = ['Class']\n"
      ]
    },
    {
      "cell_type": "markdown",
      "id": "a9c0500b",
      "metadata": {
        "id": "a9c0500b"
      },
      "source": [
        "\n",
        "create spark dataframe to contain the data and the columns of the target"
      ]
    },
    {
      "cell_type": "code",
      "execution_count": 18,
      "id": "5819594c",
      "metadata": {
        "colab": {
          "base_uri": "https://localhost:8080/"
        },
        "id": "5819594c",
        "outputId": "e287d492-00d1-4e9f-9333-3ae3f3a2ca67"
      },
      "outputs": [
        {
          "output_type": "stream",
          "name": "stdout",
          "text": [
            "+-----+\n",
            "|class|\n",
            "+-----+\n",
            "|    0|\n",
            "|    0|\n",
            "|    0|\n",
            "|    0|\n",
            "|    0|\n",
            "|    0|\n",
            "|    0|\n",
            "|    0|\n",
            "|    0|\n",
            "|    0|\n",
            "|    0|\n",
            "|    0|\n",
            "|    0|\n",
            "|    0|\n",
            "|    0|\n",
            "|    0|\n",
            "|    0|\n",
            "|    0|\n",
            "|    0|\n",
            "|    0|\n",
            "+-----+\n",
            "only showing top 20 rows\n",
            "\n"
          ]
        }
      ],
      "source": [
        "from pyspark.sql.types import StructType, StructField, IntegerType\n",
        "\n",
        "target_vals = target.tolist()\n",
        "schema = StructType([StructField(\"class\", IntegerType(), nullable=False)])\n",
        "df_target = spark.createDataFrame(list(zip(target_vals)), schema)\n",
        "\n",
        "df_target.show()"
      ]
    },
    {
      "cell_type": "markdown",
      "id": "4ac60a12",
      "metadata": {
        "id": "4ac60a12"
      },
      "source": [
        "merge the two datasets to one dataset"
      ]
    },
    {
      "cell_type": "code",
      "execution_count": 19,
      "id": "74d1bb4a",
      "metadata": {
        "colab": {
          "base_uri": "https://localhost:8080/"
        },
        "id": "74d1bb4a",
        "outputId": "2fc250f0-cccf-4b87-82ca-069e26613d3f"
      },
      "outputs": [
        {
          "output_type": "stream",
          "name": "stdout",
          "text": [
            "+-----+-----+----------+----+-----------------+---------+-------------+----------+--------------------+---------------+---------------+----+----------------------------+-------+--------------------+-----------+\n",
            "|class|  ABV|malic_acid| ash|alcalinity_of_ash|magnesium|total_phenols|flavanoids|nonflavanoid_phenols|proanthocyanins|color_intensity| hue|od280/od315_of_diluted_wines|proline|     magnesium_stand|col_intense|\n",
            "+-----+-----+----------+----+-----------------+---------+-------------+----------+--------------------+---------------+---------------+----+----------------------------+-------+--------------------+-----------+\n",
            "|    0|14.23|      1.71|2.43|             15.6|    127.0|          2.8|      3.06|                0.28|           2.29|           5.64|1.04|                        3.92| 1065.0| [8.892010963218745]|          0|\n",
            "|    0| 13.2|      1.78|2.14|             11.2|    100.0|         2.65|      2.76|                0.26|           1.28|           4.38|1.05|                         3.4| 1050.0|  [7.00158343560531]|          0|\n",
            "|    0|13.16|      2.36|2.67|             18.6|    101.0|          2.8|      3.24|                 0.3|           2.81|           5.68|1.03|                        3.17| 1185.0|[7.0715992699613635]|          0|\n",
            "|    0|14.37|      1.95| 2.5|             16.8|    113.0|         3.85|      3.49|                0.24|           2.18|            7.8|0.86|                        3.45| 1480.0|    [7.911789282234]|          1|\n",
            "|    0|13.24|      2.59|2.87|             21.0|    118.0|          2.8|      2.69|                0.39|           1.82|           4.32|1.04|                        2.93|  735.0| [8.261868454014266]|          0|\n",
            "|    0| 14.2|      1.76|2.45|             15.2|    112.0|         3.27|      3.39|                0.34|           1.97|           6.75|1.05|                        2.85| 1450.0| [7.841773447877948]|          1|\n",
            "|    0|14.39|      1.87|2.45|             14.6|     96.0|          2.5|      2.52|                 0.3|           1.98|           5.25|1.02|                        3.58| 1290.0| [6.721520098181098]|          0|\n",
            "|    0|14.06|      2.15|2.61|             17.6|    121.0|          2.6|      2.51|                0.31|           1.25|           5.05|1.06|                        3.58| 1295.0| [8.471915957082425]|          0|\n",
            "|    0|14.83|      1.64|2.17|             14.0|     97.0|          2.8|      2.98|                0.29|           1.98|            5.2|1.08|                        2.85| 1045.0| [6.791535932537151]|          0|\n",
            "|    0|13.86|      1.35|2.27|             16.0|     98.0|         2.98|      3.15|                0.22|           1.85|           7.22|1.01|                        3.55| 1045.0|[6.8615517668932045]|          0|\n",
            "|    0| 14.1|      2.16| 2.3|             18.0|    105.0|         2.95|      3.32|                0.22|           2.38|           5.75|1.25|                        3.17| 1510.0| [7.351662607385576]|          0|\n",
            "|    0|14.12|      1.48|2.32|             16.8|     95.0|          2.2|      2.43|                0.26|           1.57|            5.0|1.17|                        2.82| 1280.0| [6.651504263825045]|          0|\n",
            "|    0|13.75|      1.73|2.41|             16.0|     89.0|          2.6|      2.76|                0.29|           1.81|            5.6|1.15|                         2.9| 1320.0|[6.2314092576887266]|          0|\n",
            "|    0|14.75|      1.73|2.39|             11.4|     91.0|          3.1|      3.69|                0.43|           2.81|            5.4|1.25|                        2.73| 1150.0| [6.371440926400832]|          0|\n",
            "|    0|14.38|      1.87|2.38|             12.0|    102.0|          3.3|      3.64|                0.29|           2.96|            7.5| 1.2|                         3.0| 1547.0| [7.141615104317417]|          1|\n",
            "|    0|13.63|      1.81| 2.7|             17.2|    112.0|         2.85|      2.91|                 0.3|           1.46|            7.3|1.28|                        2.88| 1310.0| [7.841773447877948]|          0|\n",
            "|    0| 14.3|      1.92|2.72|             20.0|    120.0|          2.8|      3.14|                0.33|           1.97|            6.2|1.07|                        2.65| 1280.0| [8.401900122726373]|          1|\n",
            "|    0|13.83|      1.57|2.62|             20.0|    115.0|         2.95|       3.4|                 0.4|           1.72|            6.6|1.13|                        2.57| 1130.0| [8.051820950946107]|          0|\n",
            "|    0|14.19|      1.59|2.48|             16.5|    108.0|          3.3|      3.93|                0.32|           1.86|            8.7|1.23|                        2.82| 1680.0| [7.561710110453735]|          1|\n",
            "|    0|13.64|       3.1|2.56|             15.2|    116.0|          2.7|      3.03|                0.17|           1.66|            5.1|0.96|                        3.36|  845.0|  [8.12183678530216]|          0|\n",
            "+-----+-----+----------+----+-----------------+---------+-------------+----------+--------------------+---------------+---------------+----+----------------------------+-------+--------------------+-----------+\n",
            "only showing top 20 rows\n",
            "\n"
          ]
        }
      ],
      "source": [
        "combined_df = df_target.join(updated_df)\n",
        "combined_df.show()"
      ]
    },
    {
      "cell_type": "markdown",
      "id": "8e214727",
      "metadata": {
        "id": "8e214727"
      },
      "source": [
        "# Explore your data and labels:"
      ]
    },
    {
      "cell_type": "markdown",
      "id": "0ca5679c",
      "metadata": {
        "id": "0ca5679c"
      },
      "source": [
        "preform exploration tasks to find the answer to each question below:"
      ]
    },
    {
      "cell_type": "markdown",
      "id": "12207236",
      "metadata": {
        "id": "12207236"
      },
      "source": [
        "1. how many samples do you have for each class"
      ]
    },
    {
      "cell_type": "code",
      "execution_count": 20,
      "id": "c9870207",
      "metadata": {
        "colab": {
          "base_uri": "https://localhost:8080/"
        },
        "id": "c9870207",
        "outputId": "562569c8-87ea-4e84-844b-099722a045f8"
      },
      "outputs": [
        {
          "output_type": "stream",
          "name": "stdout",
          "text": [
            "+-----+-----+\n",
            "|Class|Count|\n",
            "+-----+-----+\n",
            "|    1|12638|\n",
            "|    0|10502|\n",
            "|    2| 8544|\n",
            "+-----+-----+\n",
            "\n"
          ]
        }
      ],
      "source": [
        "from pyspark.sql.functions import count\n",
        "\n",
        "class_cnts = combined_df.groupBy(\"Class\").agg(count(\"*\").alias(\"Count\"))\n",
        "class_cnts.show()"
      ]
    },
    {
      "cell_type": "markdown",
      "id": "61fc9749",
      "metadata": {
        "id": "61fc9749"
      },
      "source": [
        "2. which class has the highest alcohol value? which class has highest alcohol values on average?  "
      ]
    },
    {
      "cell_type": "code",
      "execution_count": 21,
      "id": "cbc23e1a",
      "metadata": {
        "colab": {
          "base_uri": "https://localhost:8080/"
        },
        "id": "cbc23e1a",
        "outputId": "c55347d7-f75e-4c77-e082-052d2f89bc56"
      },
      "outputs": [
        {
          "output_type": "stream",
          "name": "stdout",
          "text": [
            "+-----+-----------+\n",
            "|Class|Max_Alcohol|\n",
            "+-----+-----------+\n",
            "|    1|      14.83|\n",
            "+-----+-----------+\n",
            "\n",
            "+-----+------------------+\n",
            "|Class|       Avg_Alcohol|\n",
            "+-----+------------------+\n",
            "|    0|13.000617977528158|\n",
            "+-----+------------------+\n",
            "\n"
          ]
        }
      ],
      "source": [
        "from pyspark.sql.functions import max\n",
        "from pyspark.sql.functions import avg\n",
        "\n",
        "\n",
        "# Highest alcohol value\n",
        "Max_alcohol = combined_df.groupBy(\"Class\").agg(max(\"ABV\").alias(\"Max_Alcohol\")).orderBy(\"Max_Alcohol\", ascending=False).limit(1)\n",
        "Max_alcohol.show()\n",
        "\n",
        "# Highest alcohol values on average\n",
        "Max_alcohol_avg = combined_df.groupBy(\"Class\").agg(avg(\"ABV\").alias(\"Avg_Alcohol\")).orderBy(\"Avg_Alcohol\", ascending=False).limit(1)\n",
        "Max_alcohol_avg.show()\n"
      ]
    },
    {
      "cell_type": "markdown",
      "id": "d78d886a",
      "metadata": {
        "id": "d78d886a"
      },
      "source": [
        "3. which column has the highset correlation with Class column?"
      ]
    },
    {
      "cell_type": "code",
      "execution_count": 22,
      "id": "21443217",
      "metadata": {
        "colab": {
          "base_uri": "https://localhost:8080/"
        },
        "id": "21443217",
        "outputId": "c88722ed-2bf7-4bab-e937-f46e0b53b2fe"
      },
      "outputs": [
        {
          "output_type": "stream",
          "name": "stdout",
          "text": [
            "The column with the highest correlation with Class column is: col_intense\n"
          ]
        }
      ],
      "source": [
        "from pyspark.ml.stat import Correlation\n",
        "from pyspark.ml.feature import VectorAssembler\n",
        "\n",
        "num_clmns = [col for col in combined_df.columns if col != \"Class\"]\n",
        "assembler = VectorAssembler(inputCols=num_clmns, outputCol=\"features\")\n",
        "f_vector = assembler.transform(combined_df)\n",
        "corr_matrix = Correlation.corr(f_vector, \"features\").head()\n",
        "corr_vals = corr_matrix[0].toArray()[-1]\n",
        "highest_corr_i = abs(corr_vals).argmax()\n",
        "highest_corr_clmn = num_clmns[highest_corr_i]\n",
        "\n",
        "print(\"The column with the highest correlation with Class column is:\", highest_corr_clmn)"
      ]
    },
    {
      "cell_type": "markdown",
      "id": "9e765fe4",
      "metadata": {
        "id": "9e765fe4"
      },
      "source": [
        "# Train an ML model to predict the class (Bonus)"
      ]
    },
    {
      "cell_type": "markdown",
      "id": "f6a0b037",
      "metadata": {
        "id": "f6a0b037"
      },
      "source": [
        "1. create a column for the featers\n",
        "2. split your data to train and test (70%,30%)\n",
        "3. train Random Forest model to predict the column \"Class\"\n",
        "4. print your test results (using metric accuracy)"
      ]
    },
    {
      "cell_type": "code",
      "execution_count": 22,
      "id": "6893c8ea",
      "metadata": {
        "id": "6893c8ea"
      },
      "outputs": [],
      "source": []
    }
  ],
  "metadata": {
    "kernelspec": {
      "display_name": "Python 3 (ipykernel)",
      "language": "python",
      "name": "python3"
    },
    "language_info": {
      "codemirror_mode": {
        "name": "ipython",
        "version": 3
      },
      "file_extension": ".py",
      "mimetype": "text/x-python",
      "name": "python",
      "nbconvert_exporter": "python",
      "pygments_lexer": "ipython3",
      "version": "3.10.9"
    },
    "colab": {
      "provenance": []
    }
  },
  "nbformat": 4,
  "nbformat_minor": 5
}